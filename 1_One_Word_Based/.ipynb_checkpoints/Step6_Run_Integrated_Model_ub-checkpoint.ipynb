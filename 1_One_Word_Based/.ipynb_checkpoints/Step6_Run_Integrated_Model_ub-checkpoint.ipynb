{
 "cells": [
  {
   "cell_type": "code",
   "execution_count": 6,
   "metadata": {},
   "outputs": [],
   "source": [
    "#block 1st\n",
    "\n",
    "#import methods and datas in Predction Models with relevant objects\n",
    "%run ./Step4_Prediction_Models_ub.ipynb"
   ]
  },
  {
   "cell_type": "code",
   "execution_count": 2,
   "metadata": {},
   "outputs": [
    {
     "name": "stdout",
     "output_type": "stream",
     "text": [
      "model_integrated_ub\n",
      "1951.0093548297882\n"
     ]
    }
   ],
   "source": [
    "#block 2nd\n",
    "\n",
    "\n",
    "import time\n",
    "\n",
    "\n",
    "#model_integrated_ub procedure\n",
    "#start time\n",
    "start_time=time.time()\n",
    "\n",
    "\n",
    "\n",
    "\n",
    "#Apply integrated_ub method to X_test,y_test\n",
    "Integrated_prediction_ub=X_test.apply(agent_model_integrated_ub)\n",
    "\n",
    "#save integrated_ub method output\n",
    "import pickle\n",
    "Integrated_prediction_ub.to_pickle(\"./Integrated_prediction_ub_test57.pkl\")\n",
    "\n",
    "#show run-time\n",
    "print(\"model_integrated_ub\")\n",
    "print(time.time()-start_time)\n",
    "\n",
    "\n"
   ]
  },
  {
   "cell_type": "code",
   "execution_count": 10,
   "metadata": {},
   "outputs": [],
   "source": [
    "#block 3rd\n",
    "#load Integrated_prediction_ub \n",
    "import pickle\n",
    "with open(\"Integrated_prediction_ub_test57.pkl\", \"rb\") as fp:\n",
    "    Integrated_prediction_ub= pickle.load(fp)"
   ]
  },
  {
   "cell_type": "code",
   "execution_count": 29,
   "metadata": {},
   "outputs": [
    {
     "data": {
      "text/plain": [
       "42308            [DÜNYA, DÜNYA, DÜNYA, DÜNYA, DÜNYA]\n",
       "19743            [DÜNYA, DÜNYA, DÜNYA, DÜNYA, DÜNYA]\n",
       "26134              [DÜNYA, SPOR, DÜNYA, DÜNYA, SPOR]\n",
       "36274             [DÜNYA, DÜNYA, DÜNYA, DÜNYA, SPOR]\n",
       "39013    [DÜNYA, Teknoloji, DÜNYA, DÜNYA, Teknoloji]\n",
       "                            ...                     \n",
       "19154            [DÜNYA, DÜNYA, DÜNYA, DÜNYA, DÜNYA]\n",
       "19512        [DÜNYA, SANAT, DÜNYA, DÜNYA, Teknoloji]\n",
       "23092             [SPOR, SANAT, DÜNYA, DÜNYA, SANAT]\n",
       "17335            [DÜNYA, SANAT, DÜNYA, DÜNYA, SANAT]\n",
       "22839        [DÜNYA, Teknoloji, DÜNYA, DÜNYA, DÜNYA]\n",
       "Name: Title, Length: 2325, dtype: object"
      ]
     },
     "execution_count": 29,
     "metadata": {},
     "output_type": "execute_result"
    }
   ],
   "source": [
    "#block 4th\n",
    "#show the results with indexes\n",
    "Integrated_prediction_ub"
   ]
  },
  {
   "cell_type": "code",
   "execution_count": 30,
   "metadata": {},
   "outputs": [],
   "source": [
    "#block 5th\n",
    "#set a copy of prediction to the results\n",
    "results=Integrated_prediction_ub.copy()\n",
    "\n",
    "#initialization of predictions 1-5 to the lists\n",
    "p1=[]\n",
    "p2=[]\n",
    "p3=[]\n",
    "p4=[]\n",
    "p5=[]\n",
    "#push the prediction into the list\n",
    "for i in results:\n",
    "    p1.append(i[0])\n",
    "    p2.append(i[1])\n",
    "    p3.append(i[2])\n",
    "    p4.append(i[3])\n",
    "    p5.append(i[4])\n",
    "\n",
    "#convert lists to panda series with index of test set\n",
    "predict1=pd.Series(p1,index=results.index) \n",
    "predict2=pd.Series(p2,index=results.index) \n",
    "predict3=pd.Series(p3,index=results.index) \n",
    "predict4=pd.Series(p4,index=results.index) \n",
    "predict5=pd.Series(p5,index=results.index) \n"
   ]
  },
  {
   "cell_type": "code",
   "execution_count": 31,
   "metadata": {},
   "outputs": [
    {
     "name": "stdout",
     "output_type": "stream",
     "text": [
      "Confusion test model1\n",
      "[[1509   20  302   11]\n",
      " [  21   21   14    0]\n",
      " [  86    0  312    1]\n",
      " [  25    0    2    1]]\n",
      "Accuracy test model1\n",
      "0.79\n",
      "Confusion test model2\n",
      "[[1189  196  165  292]\n",
      " [   5   39    7    5]\n",
      " [  41   26  319   13]\n",
      " [   6    3    2   17]]\n",
      "Accuracy test model2\n",
      "0.67\n",
      "Confusion test model3\n",
      "[[1838    1    2    1]\n",
      " [  55    0    1    0]\n",
      " [ 291    1  107    0]\n",
      " [  28    0    0    0]]\n",
      "Accuracy test model3\n",
      "0.84\n",
      "Confusion test model4\n",
      "[[1824    0   16    2]\n",
      " [  44    9    3    0]\n",
      " [ 153    1  245    0]\n",
      " [  28    0    0    0]]\n",
      "Accuracy test model4\n",
      "0.89\n",
      "Confusion test model5\n",
      "[[963 241 243 395]\n",
      " [  8  33   7   8]\n",
      " [ 56  33 275  35]\n",
      " [  6   3   3  16]]\n",
      "Accuracy test model5\n",
      "0.55\n"
     ]
    }
   ],
   "source": [
    "#block 6th\n",
    "#Accuracy scores and Confusion Matrix for Predict Models 1-5\n",
    "\n",
    "from sklearn.metrics import confusion_matrix,  accuracy_score\n",
    "\n",
    "#Confusion matrix\n",
    "confusion_test_model1=confusion_matrix(y_test,predict1)\n",
    "print(\"Confusion test model1\")\n",
    "print(confusion_test_model1)\n",
    "\n",
    "#Accuracy_score\n",
    "Accuracy_test_model1=round(accuracy_score(y_test,predict1),2)\n",
    "print(\"Accuracy test model1\")\n",
    "print(Accuracy_test_model1)\n",
    "\n",
    "#Confusion matrix\n",
    "confusion_test_model2=confusion_matrix(y_test,predict2)\n",
    "print(\"Confusion test model2\")\n",
    "print(confusion_test_model2)\n",
    "\n",
    "#Accuracy_score\n",
    "Accuracy_test_model2=round(accuracy_score(y_test,predict2),2)\n",
    "print(\"Accuracy test model2\")\n",
    "print(Accuracy_test_model2)\n",
    "\n",
    "#Confusion matrix\n",
    "confusion_test_model3=confusion_matrix(y_test,predict3)\n",
    "print(\"Confusion test model3\")\n",
    "print(confusion_test_model3)\n",
    "\n",
    "#Accuracy_score\n",
    "Accuracy_test_model3=round(accuracy_score(y_test,predict3),2)\n",
    "print(\"Accuracy test model3\")\n",
    "print(Accuracy_test_model3)\n",
    "\n",
    "\n",
    "#Confusion matrix\n",
    "confusion_test_model4=confusion_matrix(y_test,predict4)\n",
    "print(\"Confusion test model4\")\n",
    "print(confusion_test_model4)\n",
    "\n",
    "#Accuracy_score\n",
    "Accuracy_test_model4=round(accuracy_score(y_test,predict4),2)\n",
    "print(\"Accuracy test model4\")\n",
    "print(Accuracy_test_model4)\n",
    "\n",
    "#Confusion matrix\n",
    "confusion_test_model5=confusion_matrix(y_test,predict5)\n",
    "print(\"Confusion test model5\")\n",
    "print(confusion_test_model5)\n",
    "\n",
    "#Accuracy_score\n",
    "Accuracy_test_model5=round(accuracy_score(y_test,predict5),2)\n",
    "print(\"Accuracy test model5\")\n",
    "print(Accuracy_test_model5)\n"
   ]
  },
  {
   "cell_type": "code",
   "execution_count": 35,
   "metadata": {},
   "outputs": [
    {
     "name": "stdout",
     "output_type": "stream",
     "text": [
      "Difference\n",
      "[[1581    1   59    0]\n",
      " [  40    1    0    0]\n",
      " [ 579    0   51    0]\n",
      " [  12    0    0    1]]\n",
      "Overlapping\n",
      "0.7\n",
      "Overlapping_matrix\n"
     ]
    },
    {
     "data": {
      "text/plain": [
       "[[1.0, 0.62, 0.7, 0.77, 0.52],\n",
       " [0.62, 1.0, 0.58, 0.62, 0.75],\n",
       " [0.7, 0.58, 1.0, 0.91, 0.48],\n",
       " [0.77, 0.62, 0.91, 1.0, 0.51],\n",
       " [0.52, 0.75, 0.48, 0.51, 1.0]]"
      ]
     },
     "execution_count": 35,
     "metadata": {},
     "output_type": "execute_result"
    }
   ],
   "source": [
    "#block 7th\n",
    "#Differences between models\n",
    "#Difference matrix\n",
    "Difference=confusion_matrix(predict1,predict3)\n",
    "print(\"Difference matrix for Predict 1 and Predict 3\")\n",
    "print(Difference)\n",
    "\n",
    "#Overlapping among prediction models 1-5\n",
    "Overlapping=round(accuracy_score(predict1,predict3),2)\n",
    "print(\"Overlapping\")\n",
    "print(Overlapping)\n",
    "\n",
    "predicts=[predict1,predict2,predict3,predict4,predict5]\n",
    "\n",
    "\n",
    "Overlapping_matrix=[[],[],[],[],[]]\n",
    "\n",
    "\n",
    "for i in range(0,5):\n",
    "    for j in range(0,5):\n",
    "        value=round(accuracy_score(predicts[i],predicts[j]),2)\n",
    "        Overlapping_matrix[i].append(value)\n",
    "\n",
    "print(\"Overlapping_matrix\")\n",
    "Overlapping_matrix\n",
    "       \n",
    "\n",
    "\n",
    "\n",
    "\n",
    "\n"
   ]
  },
  {
   "cell_type": "code",
   "execution_count": 36,
   "metadata": {},
   "outputs": [],
   "source": [
    "#block 8th\n",
    "\n",
    "#load NAYN Classifier \n",
    "with open(\"NAYN_predicted_test57.pkl\", \"rb\") as fp:\n",
    "    NAYN_predicted_test57= pickle.load(fp)\n"
   ]
  },
  {
   "cell_type": "code",
   "execution_count": 37,
   "metadata": {},
   "outputs": [
    {
     "name": "stdout",
     "output_type": "stream",
     "text": [
      "confusion_test_model_NAYN\n",
      "[[1832    2    8    0]\n",
      " [  46   10    0    0]\n",
      " [ 104    0  295    0]\n",
      " [  28    0    0    0]]\n",
      "confusion_test_model_NAYN\n",
      "0.92\n"
     ]
    }
   ],
   "source": [
    "#block 9th\n",
    "#Confusion matrix for NAYN Classifier\n",
    "confusion_test_model_NAYN=confusion_matrix(y_test,NAYN_predicted_test57)\n",
    "print(\"confusion_test_model_NAYN\")\n",
    "print(confusion_test_model_NAYN)\n",
    "\n",
    "#Accuracy_score for NAYN Classifier\n",
    "Accuracy_test_model_NAYN=round(accuracy_score(y_test,NAYN_predicted_test57),2)\n",
    "print(\"confusion_test_model_NAYN\")\n",
    "print(Accuracy_test_model_NAYN)"
   ]
  },
  {
   "cell_type": "code",
   "execution_count": 45,
   "metadata": {},
   "outputs": [
    {
     "name": "stdout",
     "output_type": "stream",
     "text": [
      "Overlapping_list\n",
      "[0.78, 0.66, 0.9, 0.93, 0.54]\n",
      "Difference matrix for Predict 5 and NAYN Classifier-worst case\n",
      "[[1005    1   27    0]\n",
      " [ 288   10   12    0]\n",
      " [ 285    0  243    0]\n",
      " [ 432    1   21    0]]\n",
      "Difference matrix for Predict 4 and NAYN Classifier-best case\n",
      "[[1951    9   89    0]\n",
      " [   8    1    1    0]\n",
      " [  49    2  213    0]\n",
      " [   2    0    0    0]]\n"
     ]
    }
   ],
   "source": [
    "#block 10th\n",
    "#Comparisons NAYN Classifier with prediction models 1-5\n",
    "Overlapping_list=[]\n",
    "\n",
    "\n",
    "for i in range(0,5):\n",
    "        value=round(accuracy_score(predicts[i],NAYN_predicted_test57),2)\n",
    "        Overlapping_list.append(value)\n",
    "\n",
    "print(\"Overlapping_list\")\n",
    "print(Overlapping_list)\n",
    "\n",
    "\n",
    "Difference=confusion_matrix(predict5,NAYN_predicted_test57)\n",
    "print(\"Difference matrix for Predict 5 and NAYN Classifier-worst case\")\n",
    "print(Difference)\n",
    "\n",
    "Difference=confusion_matrix(predict4,NAYN_predicted_test57)\n",
    "print(\"Difference matrix for Predict 4 and NAYN Classifier-best case\")\n",
    "print(Difference)\n",
    "       "
   ]
  }
 ],
 "metadata": {
  "kernelspec": {
   "display_name": "Python 3 (ipykernel)",
   "language": "python",
   "name": "python3"
  },
  "language_info": {
   "codemirror_mode": {
    "name": "ipython",
    "version": 3
   },
   "file_extension": ".py",
   "mimetype": "text/x-python",
   "name": "python",
   "nbconvert_exporter": "python",
   "pygments_lexer": "ipython3",
   "version": "3.9.7"
  }
 },
 "nbformat": 4,
 "nbformat_minor": 2
}
