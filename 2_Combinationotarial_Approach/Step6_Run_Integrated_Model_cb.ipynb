{
 "cells": [
  {
   "cell_type": "code",
   "execution_count": 1,
   "metadata": {},
   "outputs": [],
   "source": [
    "#block 1st\n",
    "\n",
    "#import methods and datas in Predction Models with relevant objects\n",
    "%run ./Step4_Prediction_Models_cb.ipynb"
   ]
  },
  {
   "cell_type": "code",
   "execution_count": 2,
   "metadata": {},
   "outputs": [
    {
     "name": "stdout",
     "output_type": "stream",
     "text": [
      "run-time for model_integrated_cb\n",
      "5847.397001028061\n"
     ]
    }
   ],
   "source": [
    "#block 2nd\n",
    "\n",
    "\n",
    "import time\n",
    "\n",
    "\n",
    "#model_integrated_ub procedure\n",
    "#start time\n",
    "start_time=time.time()\n",
    "\n",
    "#Apply integrated_ub method to X_test,y_test\n",
    "Integrated_prediction_cb=X_test.apply(agent_model_integrated_cb)\n",
    "\n",
    "#save integrated_ub method output\n",
    "import pickle\n",
    "Integrated_prediction_cb.to_pickle(\"./Integrated_prediction_cb_test57.pkl\")\n",
    "\n",
    "#show run-time\n",
    "print(\"run-time for model_integrated_cb\")\n",
    "print(time.time()-start_time)\n",
    "\n",
    "\n"
   ]
  },
  {
   "cell_type": "code",
   "execution_count": 2,
   "metadata": {},
   "outputs": [],
   "source": [
    "#block 3rd\n",
    "#load Integrated_prediction_ub \n",
    "import pickle\n",
    "with open(\"Integrated_prediction_cb_test57.pkl\", \"rb\") as fp:\n",
    "    Integrated_prediction_cb= pickle.load(fp)"
   ]
  },
  {
   "cell_type": "code",
   "execution_count": 3,
   "metadata": {},
   "outputs": [
    {
     "data": {
      "text/plain": [
       "42308        [DÜNYA, Teknoloji, DÜNYA, DÜNYA, Teknoloji]\n",
       "19743                [DÜNYA, DÜNYA, DÜNYA, DÜNYA, DÜNYA]\n",
       "26134                [DÜNYA, DÜNYA, DÜNYA, DÜNYA, DÜNYA]\n",
       "36274                [DÜNYA, DÜNYA, DÜNYA, DÜNYA, DÜNYA]\n",
       "39013    [Teknoloji, Teknoloji, DÜNYA, DÜNYA, Teknoloji]\n",
       "                              ...                       \n",
       "19154            [DÜNYA, DÜNYA, DÜNYA, DÜNYA, Teknoloji]\n",
       "19512                [DÜNYA, SANAT, DÜNYA, DÜNYA, SANAT]\n",
       "23092                   [SPOR, SPOR, DÜNYA, DÜNYA, SPOR]\n",
       "17335            [DÜNYA, SANAT, DÜNYA, DÜNYA, Teknoloji]\n",
       "22839          [SPOR, Teknoloji, SPOR, DÜNYA, Teknoloji]\n",
       "Name: Title, Length: 2325, dtype: object"
      ]
     },
     "execution_count": 3,
     "metadata": {},
     "output_type": "execute_result"
    }
   ],
   "source": [
    "#block 4th\n",
    "#show the results with indexes\n",
    "Integrated_prediction_cb"
   ]
  },
  {
   "cell_type": "code",
   "execution_count": 4,
   "metadata": {},
   "outputs": [],
   "source": [
    "#block 5th\n",
    "#set a copy of prediction to the results\n",
    "results=Integrated_prediction_cb.copy()\n",
    "\n",
    "#initialization of predictions 1-5 to the lists\n",
    "p1=[]\n",
    "p2=[]\n",
    "p3=[]\n",
    "p4=[]\n",
    "p5=[]\n",
    "#push the prediction into the list\n",
    "for i in results:\n",
    "    p1.append(i[0])\n",
    "    p2.append(i[1])\n",
    "    p3.append(i[2])\n",
    "    p4.append(i[3])\n",
    "    p5.append(i[4])\n",
    "\n",
    "#convert lists to panda series with index of test set\n",
    "predict1_cb=pd.Series(p1,index=results.index) \n",
    "predict2_cb=pd.Series(p2,index=results.index) \n",
    "predict3_cb=pd.Series(p3,index=results.index) \n",
    "predict4_cb=pd.Series(p4,index=results.index) \n",
    "predict5_cb=pd.Series(p5,index=results.index) \n"
   ]
  },
  {
   "cell_type": "code",
   "execution_count": 5,
   "metadata": {},
   "outputs": [
    {
     "name": "stdout",
     "output_type": "stream",
     "text": [
      "Confusion test model1_cb\n",
      "[[1204   25   47  519   47]\n",
      " [   0    0    0    0    0]\n",
      " [  15    3   23   15    0]\n",
      " [ 201   13    3  182    0]\n",
      " [  18    0    0    8    2]]\n",
      "Accuracy test model1-cb\n",
      "0.61\n",
      "Confusion test model1-cb\n",
      "[[1286   25  174  130  227]\n",
      " [   0    0    0    0    0]\n",
      " [   3    3   41    9    0]\n",
      " [  30   13   18  324   14]\n",
      " [  14    0    0    2   12]]\n",
      "Accuracy test model2-cb\n",
      "0.72\n",
      "Confusion test model3\n",
      "[[1755   25   17   25   20]\n",
      " [   0    0    0    0    0]\n",
      " [  39    3    8    6    0]\n",
      " [ 159   13    8  214    5]\n",
      " [  28    0    0    0    0]]\n",
      "Accuracy test model3\n",
      "0.85\n",
      "Confusion test model4\n",
      "[[1805   25    3    7    2]\n",
      " [   0    0    0    0    0]\n",
      " [  47    3    2    4    0]\n",
      " [ 284   13    0  102    0]\n",
      " [  28    0    0    0    0]]\n",
      "Accuracy test model4\n",
      "0.82\n",
      "Confusion test model5\n",
      "[[977  25 289 189 362]\n",
      " [  0   0   0   0   0]\n",
      " [  3   3  40  10   0]\n",
      " [ 25  13  27 308  26]\n",
      " [ 10   0   0   3  15]]\n",
      "Accuracy test model5\n",
      "0.58\n"
     ]
    }
   ],
   "source": [
    "#block 6th\n",
    "from sklearn.metrics import confusion_matrix,  accuracy_score\n",
    "\n",
    "#Confusion matrix\n",
    "confusion_test_model1_cb=confusion_matrix(y_test,predict1_cb)\n",
    "print(\"Confusion test model1_cb\")\n",
    "print(confusion_test_model1_cb)\n",
    "\n",
    "#Accuracy_score\n",
    "Accuracy_test_model1_cb=round(accuracy_score(y_test,predict1_cb),2)\n",
    "print(\"Accuracy test model1-cb\")\n",
    "print(Accuracy_test_model1_cb)\n",
    "\n",
    "#Confusion matrix\n",
    "confusion_test_model2_cb=confusion_matrix(y_test,predict2_cb)\n",
    "print(\"Confusion test model1-cb\")\n",
    "print(confusion_test_model2_cb)\n",
    "\n",
    "#Accuracy_score\n",
    "Accuracy_test_model2_cb=round(accuracy_score(y_test,predict2_cb),2)\n",
    "print(\"Accuracy test model2-cb\")\n",
    "print(Accuracy_test_model2_cb)\n",
    "\n",
    "#Confusion matrix\n",
    "confusion_test_model3_cb=confusion_matrix(y_test,predict3_cb)\n",
    "print(\"Confusion test model3\")\n",
    "print(confusion_test_model3_cb)\n",
    "\n",
    "#Accuracy_score\n",
    "Accuracy_test_model3_cb=round(accuracy_score(y_test,predict3_cb),2)\n",
    "print(\"Accuracy test model3\")\n",
    "print(Accuracy_test_model3_cb)\n",
    "\n",
    "\n",
    "#Confusion matrix\n",
    "confusion_test_model4_cb=confusion_matrix(y_test,predict4_cb)\n",
    "print(\"Confusion test model4\")\n",
    "print(confusion_test_model4_cb)\n",
    "\n",
    "#Accuracy_score\n",
    "Accuracy_test_model4_cb=round(accuracy_score(y_test,predict4_cb),2)\n",
    "print(\"Accuracy test model4\")\n",
    "print(Accuracy_test_model4_cb)\n",
    "\n",
    "#Confusion matrix\n",
    "confusion_test_model5_cb=confusion_matrix(y_test,predict5_cb)\n",
    "print(\"Confusion test model5\")\n",
    "print(confusion_test_model5_cb)\n",
    "\n",
    "#Accuracy_score\n",
    "Accuracy_test_model5_cb=round(accuracy_score(y_test,predict5_cb),2)\n",
    "print(\"Accuracy test model5\")\n",
    "print(Accuracy_test_model5_cb)\n"
   ]
  },
  {
   "cell_type": "code",
   "execution_count": 6,
   "metadata": {},
   "outputs": [
    {
     "name": "stdout",
     "output_type": "stream",
     "text": [
      "Difference\n",
      "[[1284    0    8  142    4]\n",
      " [   0   41    0    0    0]\n",
      " [  54    0   15    3    1]\n",
      " [ 603    0   10  100   11]\n",
      " [  40    0    0    0    9]]\n",
      "Overlapping\n",
      "0.62\n"
     ]
    },
    {
     "data": {
      "text/plain": [
       "[[1.0, 0.59, 0.62, 0.65, 0.51],\n",
       " [0.59, 1.0, 0.69, 0.64, 0.82],\n",
       " [0.62, 0.69, 1.0, 0.91, 0.56],\n",
       " [0.65, 0.64, 0.91, 1.0, 0.5],\n",
       " [0.51, 0.82, 0.56, 0.5, 1.0]]"
      ]
     },
     "execution_count": 6,
     "metadata": {},
     "output_type": "execute_result"
    }
   ],
   "source": [
    "#block 7th\n",
    "#Differences between models\n",
    "#Difference matrix\n",
    "Difference=confusion_matrix(predict1_cb,predict3_cb)\n",
    "print(\"Difference\")\n",
    "print(Difference)\n",
    "\n",
    "#Overlapping\n",
    "Overlapping=round(accuracy_score(predict1_cb,predict3_cb),2)\n",
    "print(\"Overlapping\")\n",
    "print(Overlapping)\n",
    "\n",
    "predicts=[predict1_cb,predict2_cb,predict3_cb,predict4_cb,predict5_cb]\n",
    "Overlapping_matrix=[[0]*5]*5\n",
    "\n",
    "temp=[[],[],[],[],[]]\n",
    "\n",
    "\n",
    "for i in range(0,5):\n",
    "    for j in range(0,5):\n",
    "        value=round(accuracy_score(predicts[i],predicts[j]),2)\n",
    "        temp[i].append(value)\n",
    "\n",
    "temp\n",
    "       \n",
    "\n",
    "\n",
    "\n",
    "\n",
    "\n"
   ]
  },
  {
   "cell_type": "code",
   "execution_count": 10,
   "metadata": {},
   "outputs": [],
   "source": [
    "#block 8th\n",
    "\n",
    "#load NAYN Classifier \n",
    "with open(\"NAYN_predicted_test57.pkl\", \"rb\") as fp:\n",
    "    NAYN_predicted_test57= pickle.load(fp)\n"
   ]
  },
  {
   "cell_type": "code",
   "execution_count": 11,
   "metadata": {},
   "outputs": [
    {
     "name": "stdout",
     "output_type": "stream",
     "text": [
      "confusion_test_model_NAYN\n",
      "[[1832    2    8    0]\n",
      " [  46   10    0    0]\n",
      " [ 104    0  295    0]\n",
      " [  28    0    0    0]]\n",
      "confusion_test_model_NAYN\n",
      "0.92\n"
     ]
    }
   ],
   "source": [
    "#block 9th\n",
    "#Confusion matrix for NAYN Classifier\n",
    "confusion_test_model_NAYN=confusion_matrix(y_test,NAYN_predicted_test57)\n",
    "print(\"confusion_test_model_NAYN\")\n",
    "print(confusion_test_model_NAYN)\n",
    "\n",
    "#Accuracy_score for NAYN Classifier\n",
    "Accuracy_test_model_NAYN=round(accuracy_score(y_test,NAYN_predicted_test57),2)\n",
    "print(\"confusion_test_model_NAYN\")\n",
    "print(Accuracy_test_model_NAYN)"
   ]
  },
  {
   "cell_type": "code",
   "execution_count": 13,
   "metadata": {},
   "outputs": [
    {
     "name": "stdout",
     "output_type": "stream",
     "text": [
      "Overlapping_list\n",
      "[0.6, 0.7, 0.9, 0.88, 0.55]\n",
      "Difference matrix for Predict 5 and NAYN Classifier-worst case\n",
      "[[1009    0    0    6    0]\n",
      " [  35    0    0    6    0]\n",
      " [ 332    0   11   13    0]\n",
      " [ 247    0    1  262    0]\n",
      " [ 387    0    0   16    0]]\n",
      "Difference matrix for Predict 4 and NAYN Classifier-best case\n",
      "[[1950    0    9  205    0]\n",
      " [  35    0    0    6    0]\n",
      " [   3    0    2    0    0]\n",
      " [  20    0    1   92    0]\n",
      " [   2    0    0    0    0]]\n"
     ]
    }
   ],
   "source": [
    "#block 10th\n",
    "#Comparisons NAYN Classifier with prediction models 1-5\n",
    "Overlapping_list=[]\n",
    "\n",
    "\n",
    "for i in range(0,5):\n",
    "        value=round(accuracy_score(predicts[i],NAYN_predicted_test57),2)\n",
    "        Overlapping_list.append(value)\n",
    "\n",
    "print(\"Overlapping_list\")\n",
    "print(Overlapping_list)\n",
    "\n",
    "\n",
    "Difference=confusion_matrix(predict5_cb,NAYN_predicted_test57)\n",
    "print(\"Difference matrix for Predict 5 and NAYN Classifier-worst case\")\n",
    "print(Difference)\n",
    "\n",
    "Difference=confusion_matrix(predict4_cb,NAYN_predicted_test57)\n",
    "print(\"Difference matrix for Predict 4 and NAYN Classifier-best case\")\n",
    "print(Difference)"
   ]
  }
 ],
 "metadata": {
  "kernelspec": {
   "display_name": "Python 3",
   "language": "python",
   "name": "python3"
  },
  "language_info": {
   "codemirror_mode": {
    "name": "ipython",
    "version": 3
   },
   "file_extension": ".py",
   "mimetype": "text/x-python",
   "name": "python",
   "nbconvert_exporter": "python",
   "pygments_lexer": "ipython3",
   "version": "3.7.6"
  }
 },
 "nbformat": 4,
 "nbformat_minor": 2
}
