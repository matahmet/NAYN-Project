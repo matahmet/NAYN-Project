{
 "cells": [
  {
   "cell_type": "code",
   "execution_count": 1,
   "metadata": {},
   "outputs": [],
   "source": [
    "#block 1st\n",
    "\n",
    "#import methods and datas in Predction Models with relevant objects\n",
    "%run ./Step4_Prediction_Models_hype.ipynb"
   ]
  },
  {
   "cell_type": "code",
   "execution_count": 2,
   "metadata": {},
   "outputs": [],
   "source": [
    "#load data\n",
    "import pickle\n",
    "\n",
    "with open(\"Integrated_prediction_hype1_test57.pkl\", \"rb\") as fp:\n",
    "    results1= pickle.load(fp)\n",
    "    \n",
    "with open(\"Integrated_prediction_hype2_test57.pkl\", \"rb\") as fp:\n",
    "    results2= pickle.load(fp)\n",
    "\n",
    "with open(\"Integrated_prediction_hype3_test57.pkl\", \"rb\") as fp:\n",
    "    results3= pickle.load(fp)\n",
    "\n",
    "\n"
   ]
  },
  {
   "cell_type": "code",
   "execution_count": 36,
   "metadata": {},
   "outputs": [],
   "source": [
    "\n",
    "from sklearn.metrics import confusion_matrix,  accuracy_score\n",
    "\n",
    "def acc_sc_hype(test,result):\n",
    "    n=len(result[result.index[0]])\n",
    "    m=len(result)\n",
    "    predict=[0]*m\n",
    "    p=[predict]*n\n",
    "    #push the prediction into the list\n",
    "    for i in range(0,m):\n",
    "        for j in range(0,n):\n",
    "            p[j][i]=result[result.index[i]][j]\n",
    "    predict=[]  \n",
    "    for j in range(0,n):\n",
    "        predict.append(pd.Series(p[j],index=result.index))\n",
    "        \n",
    "    output=[]      \n",
    "    for j in range(0,n):\n",
    "        output.append(round(accuracy_score(test,predict[j]),3))\n",
    "        \n",
    "    return output\n",
    "\n"
   ]
  },
  {
   "cell_type": "code",
   "execution_count": 40,
   "metadata": {},
   "outputs": [
    {
     "data": {
      "text/plain": [
       "[0.569,\n",
       " 0.569,\n",
       " 0.569,\n",
       " 0.569,\n",
       " 0.569,\n",
       " 0.569,\n",
       " 0.569,\n",
       " 0.569,\n",
       " 0.569,\n",
       " 0.569,\n",
       " 0.569,\n",
       " 0.569]"
      ]
     },
     "execution_count": 40,
     "metadata": {},
     "output_type": "execute_result"
    }
   ],
   "source": [
    "acc_sc_hype(y_test,results1)"
   ]
  },
  {
   "cell_type": "code",
   "execution_count": 8,
   "metadata": {},
   "outputs": [
    {
     "data": {
      "text/plain": [
       "12"
      ]
     },
     "execution_count": 8,
     "metadata": {},
     "output_type": "execute_result"
    }
   ],
   "source": [
    "hlist1=[[1,1/2],[1,1/3],[1,1/4],[1,1/5],[1,1/6],[1,1/7],[7,1],[6,1],[5,1],[4,1],[3,1],[2,1]]"
   ]
  },
  {
   "cell_type": "code",
   "execution_count": null,
   "metadata": {},
   "outputs": [],
   "source": []
  },
  {
   "cell_type": "code",
   "execution_count": 42,
   "metadata": {},
   "outputs": [],
   "source": [
    "hlist1=[[1,1/2],[1,1/3],[1,1/4],[1,1/5],[1,1/6],[1,1/7],[7,1],[6,1],[5,1],[4,1],[3,1],[2,1]]\n",
    "m=len(hlist1)\n",
    "n=len(results1)\n",
    "h=['a']*n\n",
    "p=[h]*m\n",
    "\n",
    "for i in range(0,n):\n",
    "    for j in range(0,m):\n",
    "        p[j][i]=results1[results1.index[i]][j]\n",
    "        \n",
    "\n",
    "predict_list1=[]\n",
    "\n",
    "for j in range(0,m):\n",
    "        predict_list1.append(pd.Series(p[j],index=results1.index))\n",
    "\n",
    "\n",
    "\n",
    "\n",
    "\n",
    "\n",
    "\n",
    "\n",
    "\n"
   ]
  },
  {
   "cell_type": "code",
   "execution_count": 45,
   "metadata": {},
   "outputs": [
    {
     "name": "stdout",
     "output_type": "stream",
     "text": [
      "Confusion test model1\n",
      "[[959 209 238 436]\n",
      " [  7  34   8   7]\n",
      " [ 34  25 312  28]\n",
      " [  4   3   3  18]]\n",
      "Accuracy test model1\n",
      "0.57\n"
     ]
    }
   ],
   "source": [
    "#Accuracy scores and Confusion Matrix for Predict Models hype with parameters in hlist1\n",
    "\n",
    "from sklearn.metrics import confusion_matrix,  accuracy_score\n",
    "i=0\n",
    "#Confusion matrix\n",
    "confusion_test_model1=confusion_matrix(y_test,predict_list1[0])\n",
    "print(\"Confusion test model1\")\n",
    "print(confusion_test_model1)\n",
    "\n",
    "#Accuracy_score\n",
    "Accuracy_test_model1=round(accuracy_score(y_test,predict_list1[0]),2)\n",
    "print(\"Accuracy test model1\")\n",
    "print(Accuracy_test_model1)\n"
   ]
  },
  {
   "cell_type": "code",
   "execution_count": 47,
   "metadata": {},
   "outputs": [
    {
     "data": {
      "text/plain": [
       "[0.5690322580645162,\n",
       " 0.5690322580645162,\n",
       " 0.5690322580645162,\n",
       " 0.5690322580645162,\n",
       " 0.5690322580645162,\n",
       " 0.5690322580645162,\n",
       " 0.5690322580645162,\n",
       " 0.5690322580645162,\n",
       " 0.5690322580645162,\n",
       " 0.5690322580645162,\n",
       " 0.5690322580645162,\n",
       " 0.5690322580645162]"
      ]
     },
     "execution_count": 47,
     "metadata": {},
     "output_type": "execute_result"
    }
   ],
   "source": [
    "Accuracy_list1=[]\n",
    "for j in range(0,m):\n",
    "        Accuracy_list1.append(accuracy_score(y_test,predict_list1[j]))\n",
    "        \n",
    "Accuracy_list1       "
   ]
  },
  {
   "cell_type": "code",
   "execution_count": 48,
   "metadata": {},
   "outputs": [],
   "source": [
    "hlist2=[[1,2],[1,3],[1,4],[1,5],[1,6],[1,7],[7,1],[6,1],[5,1],[4,1],[3,1],[2,1]]\n",
    "m=len(hlist2)\n",
    "n=len(results2)\n",
    "h=['a']*n\n",
    "p=[h]*m\n",
    "\n",
    "for i in range(0,n):\n",
    "    for j in range(0,m):\n",
    "        p[j][i]=results2[results2.index[i]][j]\n",
    "        \n",
    "\n",
    "predict_list2=[]\n",
    "\n",
    "for j in range(0,m):\n",
    "        predict_list2.append(pd.Series(p[j],index=results2.index))\n"
   ]
  },
  {
   "cell_type": "code",
   "execution_count": 49,
   "metadata": {},
   "outputs": [
    {
     "data": {
      "text/plain": [
       "[0.5690322580645162,\n",
       " 0.5690322580645162,\n",
       " 0.5690322580645162,\n",
       " 0.5690322580645162,\n",
       " 0.5690322580645162,\n",
       " 0.5690322580645162,\n",
       " 0.5690322580645162,\n",
       " 0.5690322580645162,\n",
       " 0.5690322580645162,\n",
       " 0.5690322580645162,\n",
       " 0.5690322580645162,\n",
       " 0.5690322580645162]"
      ]
     },
     "execution_count": 49,
     "metadata": {},
     "output_type": "execute_result"
    }
   ],
   "source": [
    "Accuracy_list2=[]\n",
    "for j in range(0,m):\n",
    "        Accuracy_list2.append(accuracy_score(y_test,predict_list2[j]))\n",
    "        \n",
    "Accuracy_list2       "
   ]
  },
  {
   "cell_type": "code",
   "execution_count": 50,
   "metadata": {},
   "outputs": [
    {
     "name": "stdout",
     "output_type": "stream",
     "text": [
      "Confusion test model1\n",
      "[[959 209 238 436]\n",
      " [  7  34   8   7]\n",
      " [ 34  25 312  28]\n",
      " [  4   3   3  18]]\n"
     ]
    }
   ],
   "source": [
    "#Confusion matrix\n",
    "confusion_test_model1=confusion_matrix(y_test,predict_list2[0])\n",
    "print(\"Confusion test model1\")\n",
    "print(confusion_test_model1)\n"
   ]
  },
  {
   "cell_type": "code",
   "execution_count": 51,
   "metadata": {},
   "outputs": [
    {
     "data": {
      "text/plain": [
       "[0.5690322580645162,\n",
       " 0.5690322580645162,\n",
       " 0.5690322580645162,\n",
       " 0.5690322580645162,\n",
       " 0.5690322580645162,\n",
       " 0.5690322580645162,\n",
       " 0.5690322580645162,\n",
       " 0.5690322580645162,\n",
       " 0.5690322580645162,\n",
       " 0.5690322580645162,\n",
       " 0.5690322580645162,\n",
       " 0.5690322580645162]"
      ]
     },
     "execution_count": 51,
     "metadata": {},
     "output_type": "execute_result"
    }
   ],
   "source": [
    "hlist3=[[1,2],[1,4],[1,8],[1,16],[1,32],[1,64]]\n",
    "m=len(hlist3)\n",
    "n=len(results3)\n",
    "h=['a']*n\n",
    "p=[h]*m\n",
    "\n",
    "for i in range(0,n):\n",
    "    for j in range(0,m):\n",
    "        p[j][i]=results3[results3.index[i]][j]\n",
    "        \n",
    "\n",
    "predict_list3=[]\n",
    "\n",
    "for j in range(0,m):\n",
    "        predict_list3.append(pd.Series(p[j],index=results3.index))\n",
    "        \n",
    "Accuracy_list3=[]\n",
    "for j in range(0,m):\n",
    "        Accuracy_list3.append(accuracy_score(y_test,predict_list3[j]))\n",
    "        \n",
    "Accuracy_list2      \n"
   ]
  },
  {
   "cell_type": "code",
   "execution_count": 3,
   "metadata": {},
   "outputs": [
    {
     "data": {
      "text/plain": [
       "['Teknoloji',\n",
       " 'Teknoloji',\n",
       " 'Teknoloji',\n",
       " 'Teknoloji',\n",
       " 'DÜNYA',\n",
       " 'DÜNYA',\n",
       " 'DÜNYA',\n",
       " 'DÜNYA',\n",
       " 'Teknoloji',\n",
       " 'Teknoloji',\n",
       " 'Teknoloji',\n",
       " 'Teknoloji']"
      ]
     },
     "execution_count": 3,
     "metadata": {},
     "output_type": "execute_result"
    }
   ],
   "source": [
    "results1[results1.index[1]]"
   ]
  },
  {
   "cell_type": "code",
   "execution_count": 41,
   "metadata": {},
   "outputs": [
    {
     "name": "stdout",
     "output_type": "stream",
     "text": [
      "['SPOR', 'DÜNYA', 'DÜNYA', 'DÜNYA', 'DÜNYA', 'DÜNYA', 'DÜNYA', 'DÜNYA', 'DÜNYA', 'DÜNYA', 'DÜNYA', 'SPOR']\n",
      "['SPOR', 'DÜNYA', 'DÜNYA', 'DÜNYA', 'DÜNYA', 'DÜNYA', 'DÜNYA', 'DÜNYA', 'DÜNYA', 'DÜNYA', 'DÜNYA', 'SPOR']\n",
      "['SPOR', 'SPOR', 'SPOR', 'SPOR', 'SPOR', 'SPOR', 'DÜNYA', 'DÜNYA', 'DÜNYA', 'DÜNYA', 'DÜNYA', 'SPOR']\n",
      "['SPOR', 'SPOR', 'SPOR', 'SPOR', 'SPOR', 'SPOR', 'DÜNYA', 'DÜNYA', 'DÜNYA', 'DÜNYA', 'DÜNYA', 'SPOR']\n",
      "['SPOR', 'SPOR', 'SPOR', 'SPOR', 'SPOR', 'SPOR']\n",
      "['SPOR', 'SPOR', 'SPOR', 'SPOR', 'SPOR', 'SPOR']\n"
     ]
    }
   ],
   "source": [
    "hlist1=[[1,1/2],[1,1/3],[1,1/4],[1,1/5],[1,1/6],[1,1/7],[7,1],[6,1],[5,1],[4,1],[3,1],[2,1]]\n",
    "hlist2=[[1,2],[1,3],[1,4],[1,5],[1,6],[1,7],[7,1],[6,1],[5,1],[4,1],[3,1],[2,1]]\n",
    "hlist3=[[1,2],[1,4],[1,8],[1,16],[1,32],[1,64]]\n",
    "\n",
    "\n",
    "import random\n",
    "n=random.randint(1,test_count)\n",
    "doc=X_test[X_test.index[n]]\n",
    "print(Integrated_model_hype(doc,X_train,y_train,hlist1))\n",
    "print(results1[X_test.index[n]])\n",
    "print(Integrated_model_hype(doc,X_train,y_train,hlist2))\n",
    "print(results2[X_test.index[n]])\n",
    "print(Integrated_model_hype(doc,X_train,y_train,hlist3))\n",
    "print(results3[X_test.index[n]])"
   ]
  },
  {
   "cell_type": "code",
   "execution_count": 60,
   "metadata": {},
   "outputs": [
    {
     "data": {
      "text/plain": [
       "32786"
      ]
     },
     "execution_count": 60,
     "metadata": {},
     "output_type": "execute_result"
    }
   ],
   "source": [
    "X_test.index[n]"
   ]
  },
  {
   "cell_type": "code",
   "execution_count": 101,
   "metadata": {},
   "outputs": [
    {
     "data": {
      "text/plain": [
       "1.0"
      ]
     },
     "execution_count": 101,
     "metadata": {},
     "output_type": "execute_result"
    }
   ],
   "source": [
    "accuracy_score(predict_list2[5],predict_list2[0])"
   ]
  },
  {
   "cell_type": "code",
   "execution_count": 104,
   "metadata": {},
   "outputs": [],
   "source": [
    "for i in range(0,len(y_test)):\n",
    "    if predict_list2[5][predict_list2[5].index[i]] !=predict_list2[6][predict_list2[5].index[i]]:\n",
    "        print(predict_list2.index[i])"
   ]
  },
  {
   "cell_type": "code",
   "execution_count": null,
   "metadata": {},
   "outputs": [],
   "source": []
  }
 ],
 "metadata": {
  "kernelspec": {
   "display_name": "Python 3",
   "language": "python",
   "name": "python3"
  },
  "language_info": {
   "codemirror_mode": {
    "name": "ipython",
    "version": 3
   },
   "file_extension": ".py",
   "mimetype": "text/x-python",
   "name": "python",
   "nbconvert_exporter": "python",
   "pygments_lexer": "ipython3",
   "version": "3.7.6"
  }
 },
 "nbformat": 4,
 "nbformat_minor": 4
}
