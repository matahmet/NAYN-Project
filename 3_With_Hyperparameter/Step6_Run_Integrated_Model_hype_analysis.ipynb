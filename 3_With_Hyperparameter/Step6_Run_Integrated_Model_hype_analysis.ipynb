{
 "cells": [
  {
   "cell_type": "code",
   "execution_count": 15,
   "metadata": {},
   "outputs": [],
   "source": [
    "\n",
    "\n",
    "#load data\n",
    "import pickle\n",
    "\n",
    "with open(\"Integrated_prediction_hype1_test57.pkl\", \"rb\") as fp:\n",
    "    results= pickle.load(fp)\n",
    "\n",
    "with open(\"y_test_57.pkl\", \"rb\") as fp:\n",
    "    y_test= pickle.load(fp)\n"
   ]
  },
  {
   "cell_type": "code",
   "execution_count": 2,
   "metadata": {},
   "outputs": [
    {
     "data": {
      "text/plain": [
       "42308    [DÜNYA, DÜNYA, DÜNYA, DÜNYA, DÜNYA, DÜNYA, DÜN...\n",
       "19743    [DÜNYA, DÜNYA, DÜNYA, DÜNYA, DÜNYA, DÜNYA, Tek...\n",
       "26134    [SPOR, SPOR, SPOR, SPOR, SPOR, SPOR, SANAT, SA...\n",
       "36274    [SPOR, SPOR, SPOR, SPOR, SPOR, SPOR, DÜNYA, DÜ...\n",
       "39013    [Teknoloji, Teknoloji, Teknoloji, Teknoloji, T...\n",
       "                               ...                        \n",
       "19154    [DÜNYA, DÜNYA, DÜNYA, DÜNYA, DÜNYA, DÜNYA, DÜN...\n",
       "19512    [SPOR, SPOR, Teknoloji, Teknoloji, Teknoloji, ...\n",
       "23092    [SANAT, SANAT, SANAT, SANAT, SANAT, SANAT, SPO...\n",
       "17335    [SANAT, SANAT, SANAT, SANAT, SANAT, SANAT, SAN...\n",
       "22839    [DÜNYA, DÜNYA, DÜNYA, DÜNYA, DÜNYA, DÜNYA, Tek...\n",
       "Name: Title, Length: 2325, dtype: object"
      ]
     },
     "execution_count": 2,
     "metadata": {},
     "output_type": "execute_result"
    }
   ],
   "source": [
    "results"
   ]
  },
  {
   "cell_type": "code",
   "execution_count": 4,
   "metadata": {},
   "outputs": [],
   "source": [
    "def result_to_predict(result,j):\n",
    "    p=[]\n",
    "    for i in result:\n",
    "        p.append(i[j])\n",
    "        \n",
    "    predict=pd.Series(p,index=result.index)\n",
    "    return predict"
   ]
  },
  {
   "cell_type": "code",
   "execution_count": 9,
   "metadata": {},
   "outputs": [
    {
     "data": {
      "text/plain": [
       "42308        DÜNYA\n",
       "19743        DÜNYA\n",
       "26134         SPOR\n",
       "36274         SPOR\n",
       "39013    Teknoloji\n",
       "           ...    \n",
       "19154        DÜNYA\n",
       "19512    Teknoloji\n",
       "23092        SANAT\n",
       "17335        SANAT\n",
       "22839        DÜNYA\n",
       "Length: 2325, dtype: object"
      ]
     },
     "execution_count": 9,
     "metadata": {},
     "output_type": "execute_result"
    }
   ],
   "source": [
    "import pandas as pd\n",
    "result_to_predict(results,2)"
   ]
  },
  {
   "cell_type": "code",
   "execution_count": 16,
   "metadata": {},
   "outputs": [],
   "source": [
    "\n",
    "\n",
    "\n",
    "from sklearn.metrics import confusion_matrix,  accuracy_score\n",
    "\n",
    "def acc_sc_hype(test,result):\n",
    "    n=len(result[result.index[0]])\n",
    "    output=[]\n",
    "    for i in range(0,n):\n",
    "        output.append(round(accuracy_score(test,result_to_predict(result,i)),4))\n",
    "        \n",
    "        \n",
    "    return output\n",
    "\n",
    "\n"
   ]
  },
  {
   "cell_type": "code",
   "execution_count": 31,
   "metadata": {},
   "outputs": [],
   "source": [
    "acc_score_all=acc_sc_hype(y_test,results)"
   ]
  },
  {
   "cell_type": "code",
   "execution_count": 75,
   "metadata": {},
   "outputs": [
    {
     "data": {
      "text/plain": [
       "[[0.5256,\n",
       "  0.5282,\n",
       "  0.5346,\n",
       "  0.5424,\n",
       "  0.5424,\n",
       "  0.5535,\n",
       "  0.5617,\n",
       "  0.5677,\n",
       "  0.5712,\n",
       "  0.6125,\n",
       "  0.5256],\n",
       " [0.5185,\n",
       "  0.5174,\n",
       "  0.5201,\n",
       "  0.5195,\n",
       "  0.513,\n",
       "  0.5228,\n",
       "  0.5223,\n",
       "  0.5168,\n",
       "  0.5125,\n",
       "  0.5662,\n",
       "  0.5185],\n",
       " [0.5664,\n",
       "  0.5865,\n",
       "  0.609,\n",
       "  0.6441,\n",
       "  0.6692,\n",
       "  0.6892,\n",
       "  0.7419,\n",
       "  0.782,\n",
       "  0.8095,\n",
       "  0.817,\n",
       "  0.5664],\n",
       " [0.5536,\n",
       "  0.5536,\n",
       "  0.5714,\n",
       "  0.5893,\n",
       "  0.5893,\n",
       "  0.5893,\n",
       "  0.5714,\n",
       "  0.6607,\n",
       "  0.7321,\n",
       "  0.6429,\n",
       "  0.5536],\n",
       " [0.3571,\n",
       "  0.3571,\n",
       "  0.3571,\n",
       "  0.5,\n",
       "  0.5714,\n",
       "  0.5714,\n",
       "  0.5714,\n",
       "  0.6786,\n",
       "  0.7143,\n",
       "  0.6786,\n",
       "  0.3571]]"
      ]
     },
     "execution_count": 75,
     "metadata": {},
     "output_type": "execute_result"
    }
   ],
   "source": [
    "main_categories=[\"DÜNYA\",\"SPOR\",\"SANAT\",\"Teknoloji\"]\n",
    "\n",
    "acc_all_with_cat=[acc_score_all]\n",
    "\n",
    "for category in main_categories:\n",
    "    cat_ind=y_test[y_test==category].index\n",
    "    cat_test_y=y_test[cat_ind]\n",
    "    cat_results=results[cat_ind]\n",
    "    acc_all_with_cat.append(acc_sc_hype(cat_test_y,cat_results))\n",
    "    \n",
    "\n",
    "\n",
    "acc_all_with_cat\n",
    "\n",
    "\n",
    "\n"
   ]
  },
  {
   "cell_type": "code",
   "execution_count": 78,
   "metadata": {},
   "outputs": [
    {
     "data": {
      "image/png": "[encoded data removed]",
      "text/plain": [
       "<Figure size 432x288 with 1 Axes>"
      ]
     },
     "metadata": {
      "needs_background": "light"
     },
     "output_type": "display_data"
    }
   ],
   "source": [
    "import numpy as np\n",
    "import matplotlib.pyplot as plt\n",
    "x=[ round(i*0.1,1) for i in range(0,11) ]\n",
    "\n",
    "plt.plot(x, acc_all_with_cat[0],label = \"All\")\n",
    "plt.scatter(x, acc_all_with_cat[0])\n",
    "plt.plot(x, acc_all_with_cat[1],label = \"DÜNYA\")\n",
    "plt.scatter(x, acc_all_with_cat[1])\n",
    "\n",
    "plt.plot(x, acc_all_with_cat[2],label = \"SPOR\")\n",
    "plt.scatter(x, acc_all_with_cat[2])\n",
    "plt.plot(x, acc_all_with_cat[3],label = \"SANAT\")\n",
    "plt.scatter(x, acc_all_with_cat[3])\n",
    "\n",
    "plt.plot(x, acc_all_with_cat[4],label =\"Teknoloji\")\n",
    "plt.scatter(x, acc_all_with_cat[4])\n",
    "\n",
    "plt.xlabel(\"alpha\")\n",
    "plt.ylabel(\"Accuracy Rates\")\n",
    "\n",
    "plt.legend()\n",
    "plt.show()"
   ]
  },
  {
   "cell_type": "code",
   "execution_count": 77,
   "metadata": {},
   "outputs": [
    {
     "data": {
      "application/vnd.plotly.v1+json": {
       "config": {
        "plotlyServerURL": "https://plot.ly"
       },
       "data": [
        {
         "cells": {
          "values": [
           [
            0,
            0.1,
            0.2,
            0.3,
            0.4,
            0.5,
            0.6,
            0.7,
            0.8,
            0.9,
            1
           ],
           [
            1,
            0.9,
            0.8,
            0.7,
            0.6,
            0.5,
            0.4,
            0.3,
            0.2,
            0.1,
            0
           ],
           [
            0.5256,
            0.5282,
            0.5346,
            0.5424,
            0.5424,
            0.5535,
            0.5617,
            0.5677,
            0.5712,
            0.6125,
            0.5256
           ],
           [
            0.5185,
            0.5174,
            0.5201,
            0.5195,
            0.513,
            0.5228,
            0.5223,
            0.5168,
            0.5125,
            0.5662,
            0.5185
           ],
           [
            0.5664,
            0.5865,
            0.609,
            0.6441,
            0.6692,
            0.6892,
            0.7419,
            0.782,
            0.8095,
            0.817,
            0.5664
           ],
           [
            0.5536,
            0.5536,
            0.5714,
            0.5893,
            0.5893,
            0.5893,
            0.5714,
            0.6607,
            0.7321,
            0.6429,
            0.5536
           ],
           [
            0.3571,
            0.3571,
            0.3571,
            0.5,
            0.5714,
            0.5714,
            0.5714,
            0.6786,
            0.7143,
            0.6786,
            0.3571
           ]
          ]
         },
         "header": {
          "values": [
           "alpha",
           "beta",
           "All",
           "DÜNYA",
           "SPOR",
           "SANAT",
           "Teknoloji"
          ]
         },
         "type": "table"
        }
       ],
       "layout": {
        "template": {
         "data": {
          "bar": [
           {
            "error_x": {
             "color": "#2a3f5f"
            },
            "error_y": {
             "color": "#2a3f5f"
            },
            "marker": {
             "line": {
              "color": "#E5ECF6",
              "width": 0.5
             },
             "pattern": {
              "fillmode": "overlay",
              "size": 10,
              "solidity": 0.2
             }
            },
            "type": "bar"
           }
          ],
          "barpolar": [
           {
            "marker": {
             "line": {
              "color": "#E5ECF6",
              "width": 0.5
             },
             "pattern": {
              "fillmode": "overlay",
              "size": 10,
              "solidity": 0.2
             }
            },
            "type": "barpolar"
           }
          ],
          "carpet": [
           {
            "aaxis": {
             "endlinecolor": "#2a3f5f",
             "gridcolor": "white",
             "linecolor": "white",
             "minorgridcolor": "white",
             "startlinecolor": "#2a3f5f"
            },
            "baxis": {
             "endlinecolor": "#2a3f5f",
             "gridcolor": "white",
             "linecolor": "white",
             "minorgridcolor": "white",
             "startlinecolor": "#2a3f5f"
            },
            "type": "carpet"
           }
          ],
          "choropleth": [
           {
            "colorbar": {
             "outlinewidth": 0,
             "ticks": ""
            },
            "type": "choropleth"
           }
          ],
          "contour": [
           {
            "colorbar": {
             "outlinewidth": 0,
             "ticks": ""
            },
            "colorscale": [
             [
              0,
              "#0d0887"
             ],
             [
              0.1111111111111111,
              "#46039f"
             ],
             [
              0.2222222222222222,
              "#7201a8"
             ],
             [
              0.3333333333333333,
              "#9c179e"
             ],
             [
              0.4444444444444444,
              "#bd3786"
             ],
             [
              0.5555555555555556,
              "#d8576b"
             ],
             [
              0.6666666666666666,
              "#ed7953"
             ],
             [
              0.7777777777777778,
              "#fb9f3a"
             ],
             [
              0.8888888888888888,
              "#fdca26"
             ],
             [
              1,
              "#f0f921"
             ]
            ],
            "type": "contour"
           }
          ],
          "contourcarpet": [
           {
            "colorbar": {
             "outlinewidth": 0,
             "ticks": ""
            },
            "type": "contourcarpet"
           }
          ],
          "heatmap": [
           {
            "colorbar": {
             "outlinewidth": 0,
             "ticks": ""
            },
            "colorscale": [
             [
              0,
              "#0d0887"
             ],
             [
              0.1111111111111111,
              "#46039f"
             ],
             [
              0.2222222222222222,
              "#7201a8"
             ],
             [
              0.3333333333333333,
              "#9c179e"
             ],
             [
              0.4444444444444444,
              "#bd3786"
             ],
             [
              0.5555555555555556,
              "#d8576b"
             ],
             [
              0.6666666666666666,
              "#ed7953"
             ],
             [
              0.7777777777777778,
              "#fb9f3a"
             ],
             [
              0.8888888888888888,
              "#fdca26"
             ],
             [
              1,
              "#f0f921"
             ]
            ],
            "type": "heatmap"
           }
          ],
          "heatmapgl": [
           {
            "colorbar": {
             "outlinewidth": 0,
             "ticks": ""
            },
            "colorscale": [
             [
              0,
              "#0d0887"
             ],
             [
              0.1111111111111111,
              "#46039f"
             ],
             [
              0.2222222222222222,
              "#7201a8"
             ],
             [
              0.3333333333333333,
              "#9c179e"
             ],
             [
              0.4444444444444444,
              "#bd3786"
             ],
             [
              0.5555555555555556,
              "#d8576b"
             ],
             [
              0.6666666666666666,
              "#ed7953"
             ],
             [
              0.7777777777777778,
              "#fb9f3a"
             ],
             [
              0.8888888888888888,
              "#fdca26"
             ],
             [
              1,
              "#f0f921"
             ]
            ],
            "type": "heatmapgl"
           }
          ],
          "histogram": [
           {
            "marker": {
             "pattern": {
              "fillmode": "overlay",
              "size": 10,
              "solidity": 0.2
             }
            },
            "type": "histogram"
           }
          ],
          "histogram2d": [
           {
            "colorbar": {
             "outlinewidth": 0,
             "ticks": ""
            },
            "colorscale": [
             [
              0,
              "#0d0887"
             ],
             [
              0.1111111111111111,
              "#46039f"
             ],
             [
              0.2222222222222222,
              "#7201a8"
             ],
             [
              0.3333333333333333,
              "#9c179e"
             ],
             [
              0.4444444444444444,
              "#bd3786"
             ],
             [
              0.5555555555555556,
              "#d8576b"
             ],
             [
              0.6666666666666666,
              "#ed7953"
             ],
             [
              0.7777777777777778,
              "#fb9f3a"
             ],
             [
              0.8888888888888888,
              "#fdca26"
             ],
             [
              1,
              "#f0f921"
             ]
            ],
            "type": "histogram2d"
           }
          ],
          "histogram2dcontour": [
           {
            "colorbar": {
             "outlinewidth": 0,
             "ticks": ""
            },
            "colorscale": [
             [
              0,
              "#0d0887"
             ],
             [
              0.1111111111111111,
              "#46039f"
             ],
             [
              0.2222222222222222,
              "#7201a8"
             ],
             [
              0.3333333333333333,
              "#9c179e"
             ],
             [
              0.4444444444444444,
              "#bd3786"
             ],
             [
              0.5555555555555556,
              "#d8576b"
             ],
             [
              0.6666666666666666,
              "#ed7953"
             ],
             [
              0.7777777777777778,
              "#fb9f3a"
             ],
             [
              0.8888888888888888,
              "#fdca26"
             ],
             [
              1,
              "#f0f921"
             ]
            ],
            "type": "histogram2dcontour"
           }
          ],
          "mesh3d": [
           {
            "colorbar": {
             "outlinewidth": 0,
             "ticks": ""
            },
            "type": "mesh3d"
           }
          ],
          "parcoords": [
           {
            "line": {
             "colorbar": {
              "outlinewidth": 0,
              "ticks": ""
             }
            },
            "type": "parcoords"
           }
          ],
          "pie": [
           {
            "automargin": true,
            "type": "pie"
           }
          ],
          "scatter": [
           {
            "marker": {
             "colorbar": {
              "outlinewidth": 0,
              "ticks": ""
             }
            },
            "type": "scatter"
           }
          ],
          "scatter3d": [
           {
            "line": {
             "colorbar": {
              "outlinewidth": 0,
              "ticks": ""
             }
            },
            "marker": {
             "colorbar": {
              "outlinewidth": 0,
              "ticks": ""
             }
            },
            "type": "scatter3d"
           }
          ],
          "scattercarpet": [
           {
            "marker": {
             "colorbar": {
              "outlinewidth": 0,
              "ticks": ""
             }
            },
            "type": "scattercarpet"
           }
          ],
          "scattergeo": [
           {
            "marker": {
             "colorbar": {
              "outlinewidth": 0,
              "ticks": ""
             }
            },
            "type": "scattergeo"
           }
          ],
          "scattergl": [
           {
            "marker": {
             "colorbar": {
              "outlinewidth": 0,
              "ticks": ""
             }
            },
            "type": "scattergl"
           }
          ],
          "scattermapbox": [
           {
            "marker": {
             "colorbar": {
              "outlinewidth": 0,
              "ticks": ""
             }
            },
            "type": "scattermapbox"
           }
          ],
          "scatterpolar": [
           {
            "marker": {
             "colorbar": {
              "outlinewidth": 0,
              "ticks": ""
             }
            },
            "type": "scatterpolar"
           }
          ],
          "scatterpolargl": [
           {
            "marker": {
             "colorbar": {
              "outlinewidth": 0,
              "ticks": ""
             }
            },
            "type": "scatterpolargl"
           }
          ],
          "scatterternary": [
           {
            "marker": {
             "colorbar": {
              "outlinewidth": 0,
              "ticks": ""
             }
            },
            "type": "scatterternary"
           }
          ],
          "surface": [
           {
            "colorbar": {
             "outlinewidth": 0,
             "ticks": ""
            },
            "colorscale": [
             [
              0,
              "#0d0887"
             ],
             [
              0.1111111111111111,
              "#46039f"
             ],
             [
              0.2222222222222222,
              "#7201a8"
             ],
             [
              0.3333333333333333,
              "#9c179e"
             ],
             [
              0.4444444444444444,
              "#bd3786"
             ],
             [
              0.5555555555555556,
              "#d8576b"
             ],
             [
              0.6666666666666666,
              "#ed7953"
             ],
             [
              0.7777777777777778,
              "#fb9f3a"
             ],
             [
              0.8888888888888888,
              "#fdca26"
             ],
             [
              1,
              "#f0f921"
             ]
            ],
            "type": "surface"
           }
          ],
          "table": [
           {
            "cells": {
             "fill": {
              "color": "#EBF0F8"
             },
             "line": {
              "color": "white"
             }
            },
            "header": {
             "fill": {
              "color": "#C8D4E3"
             },
             "line": {
              "color": "white"
             }
            },
            "type": "table"
           }
          ]
         },
         "layout": {
          "annotationdefaults": {
           "arrowcolor": "#2a3f5f",
           "arrowhead": 0,
           "arrowwidth": 1
          },
          "autotypenumbers": "strict",
          "coloraxis": {
           "colorbar": {
            "outlinewidth": 0,
            "ticks": ""
           }
          },
          "colorscale": {
           "diverging": [
            [
             0,
             "#8e0152"
            ],
            [
             0.1,
             "#c51b7d"
            ],
            [
             0.2,
             "#de77ae"
            ],
            [
             0.3,
             "#f1b6da"
            ],
            [
             0.4,
             "#fde0ef"
            ],
            [
             0.5,
             "#f7f7f7"
            ],
            [
             0.6,
             "#e6f5d0"
            ],
            [
             0.7,
             "#b8e186"
            ],
            [
             0.8,
             "#7fbc41"
            ],
            [
             0.9,
             "#4d9221"
            ],
            [
             1,
             "#276419"
            ]
           ],
           "sequential": [
            [
             0,
             "#0d0887"
            ],
            [
             0.1111111111111111,
             "#46039f"
            ],
            [
             0.2222222222222222,
             "#7201a8"
            ],
            [
             0.3333333333333333,
             "#9c179e"
            ],
            [
             0.4444444444444444,
             "#bd3786"
            ],
            [
             0.5555555555555556,
             "#d8576b"
            ],
            [
             0.6666666666666666,
             "#ed7953"
            ],
            [
             0.7777777777777778,
             "#fb9f3a"
            ],
            [
             0.8888888888888888,
             "#fdca26"
            ],
            [
             1,
             "#f0f921"
            ]
           ],
           "sequentialminus": [
            [
             0,
             "#0d0887"
            ],
            [
             0.1111111111111111,
             "#46039f"
            ],
            [
             0.2222222222222222,
             "#7201a8"
            ],
            [
             0.3333333333333333,
             "#9c179e"
            ],
            [
             0.4444444444444444,
             "#bd3786"
            ],
            [
             0.5555555555555556,
             "#d8576b"
            ],
            [
             0.6666666666666666,
             "#ed7953"
            ],
            [
             0.7777777777777778,
             "#fb9f3a"
            ],
            [
             0.8888888888888888,
             "#fdca26"
            ],
            [
             1,
             "#f0f921"
            ]
           ]
          },
          "colorway": [
           "#636efa",
           "#EF553B",
           "#00cc96",
           "#ab63fa",
           "#FFA15A",
           "#19d3f3",
           "#FF6692",
           "#B6E880",
           "#FF97FF",
           "#FECB52"
          ],
          "font": {
           "color": "#2a3f5f"
          },
          "geo": {
           "bgcolor": "white",
           "lakecolor": "white",
           "landcolor": "#E5ECF6",
           "showlakes": true,
           "showland": true,
           "subunitcolor": "white"
          },
          "hoverlabel": {
           "align": "left"
          },
          "hovermode": "closest",
          "mapbox": {
           "style": "light"
          },
          "paper_bgcolor": "white",
          "plot_bgcolor": "#E5ECF6",
          "polar": {
           "angularaxis": {
            "gridcolor": "white",
            "linecolor": "white",
            "ticks": ""
           },
           "bgcolor": "#E5ECF6",
           "radialaxis": {
            "gridcolor": "white",
            "linecolor": "white",
            "ticks": ""
           }
          },
          "scene": {
           "xaxis": {
            "backgroundcolor": "#E5ECF6",
            "gridcolor": "white",
            "gridwidth": 2,
            "linecolor": "white",
            "showbackground": true,
            "ticks": "",
            "zerolinecolor": "white"
           },
           "yaxis": {
            "backgroundcolor": "#E5ECF6",
            "gridcolor": "white",
            "gridwidth": 2,
            "linecolor": "white",
            "showbackground": true,
            "ticks": "",
            "zerolinecolor": "white"
           },
           "zaxis": {
            "backgroundcolor": "#E5ECF6",
            "gridcolor": "white",
            "gridwidth": 2,
            "linecolor": "white",
            "showbackground": true,
            "ticks": "",
            "zerolinecolor": "white"
           }
          },
          "shapedefaults": {
           "line": {
            "color": "#2a3f5f"
           }
          },
          "ternary": {
           "aaxis": {
            "gridcolor": "white",
            "linecolor": "white",
            "ticks": ""
           },
           "baxis": {
            "gridcolor": "white",
            "linecolor": "white",
            "ticks": ""
           },
           "bgcolor": "#E5ECF6",
           "caxis": {
            "gridcolor": "white",
            "linecolor": "white",
            "ticks": ""
           }
          },
          "title": {
           "x": 0.05
          },
          "xaxis": {
           "automargin": true,
           "gridcolor": "white",
           "linecolor": "white",
           "ticks": "",
           "title": {
            "standoff": 15
           },
           "zerolinecolor": "white",
           "zerolinewidth": 2
          },
          "yaxis": {
           "automargin": true,
           "gridcolor": "white",
           "linecolor": "white",
           "ticks": "",
           "title": {
            "standoff": 15
           },
           "zerolinecolor": "white",
           "zerolinewidth": 2
          }
         }
        }
       }
      },
      "text/html": [
       "<div>                            <div id=\"51bb413f-e037-492b-a0ae-72d8c89d0eaf\" class=\"plotly-graph-div\" style=\"height:525px; width:100%;\"></div>            <script type=\"text/javascript\">                require([\"plotly\"], function(Plotly) {                    window.PLOTLYENV=window.PLOTLYENV || {};                                    if (document.getElementById(\"51bb413f-e037-492b-a0ae-72d8c89d0eaf\")) {                    Plotly.newPlot(                        \"51bb413f-e037-492b-a0ae-72d8c89d0eaf\",                        [{\"cells\":{\"values\":[[0.0,0.1,0.2,0.3,0.4,0.5,0.6,0.7,0.8,0.9,1.0],[1.0,0.9,0.8,0.7,0.6,0.5,0.4,0.3,0.2,0.1,0.0],[0.5256,0.5282,0.5346,0.5424,0.5424,0.5535,0.5617,0.5677,0.5712,0.6125,0.5256],[0.5185,0.5174,0.5201,0.5195,0.513,0.5228,0.5223,0.5168,0.5125,0.5662,0.5185],[0.5664,0.5865,0.609,0.6441,0.6692,0.6892,0.7419,0.782,0.8095,0.817,0.5664],[0.5536,0.5536,0.5714,0.5893,0.5893,0.5893,0.5714,0.6607,0.7321,0.6429,0.5536],[0.3571,0.3571,0.3571,0.5,0.5714,0.5714,0.5714,0.6786,0.7143,0.6786,0.3571]]},\"header\":{\"values\":[\"alpha\",\"beta\",\"All\",\"D\\u00dcNYA\",\"SPOR\",\"SANAT\",\"Teknoloji\"]},\"type\":\"table\"}],                        {\"template\":{\"data\":{\"bar\":[{\"error_x\":{\"color\":\"#2a3f5f\"},\"error_y\":{\"color\":\"#2a3f5f\"},\"marker\":{\"line\":{\"color\":\"#E5ECF6\",\"width\":0.5},\"pattern\":{\"fillmode\":\"overlay\",\"size\":10,\"solidity\":0.2}},\"type\":\"bar\"}],\"barpolar\":[{\"marker\":{\"line\":{\"color\":\"#E5ECF6\",\"width\":0.5},\"pattern\":{\"fillmode\":\"overlay\",\"size\":10,\"solidity\":0.2}},\"type\":\"barpolar\"}],\"carpet\":[{\"aaxis\":{\"endlinecolor\":\"#2a3f5f\",\"gridcolor\":\"white\",\"linecolor\":\"white\",\"minorgridcolor\":\"white\",\"startlinecolor\":\"#2a3f5f\"},\"baxis\":{\"endlinecolor\":\"#2a3f5f\",\"gridcolor\":\"white\",\"linecolor\":\"white\",\"minorgridcolor\":\"white\",\"startlinecolor\":\"#2a3f5f\"},\"type\":\"carpet\"}],\"choropleth\":[{\"colorbar\":{\"outlinewidth\":0,\"ticks\":\"\"},\"type\":\"choropleth\"}],\"contour\":[{\"colorbar\":{\"outlinewidth\":0,\"ticks\":\"\"},\"colorscale\":[[0.0,\"#0d0887\"],[0.1111111111111111,\"#46039f\"],[0.2222222222222222,\"#7201a8\"],[0.3333333333333333,\"#9c179e\"],[0.4444444444444444,\"#bd3786\"],[0.5555555555555556,\"#d8576b\"],[0.6666666666666666,\"#ed7953\"],[0.7777777777777778,\"#fb9f3a\"],[0.8888888888888888,\"#fdca26\"],[1.0,\"#f0f921\"]],\"type\":\"contour\"}],\"contourcarpet\":[{\"colorbar\":{\"outlinewidth\":0,\"ticks\":\"\"},\"type\":\"contourcarpet\"}],\"heatmap\":[{\"colorbar\":{\"outlinewidth\":0,\"ticks\":\"\"},\"colorscale\":[[0.0,\"#0d0887\"],[0.1111111111111111,\"#46039f\"],[0.2222222222222222,\"#7201a8\"],[0.3333333333333333,\"#9c179e\"],[0.4444444444444444,\"#bd3786\"],[0.5555555555555556,\"#d8576b\"],[0.6666666666666666,\"#ed7953\"],[0.7777777777777778,\"#fb9f3a\"],[0.8888888888888888,\"#fdca26\"],[1.0,\"#f0f921\"]],\"type\":\"heatmap\"}],\"heatmapgl\":[{\"colorbar\":{\"outlinewidth\":0,\"ticks\":\"\"},\"colorscale\":[[0.0,\"#0d0887\"],[0.1111111111111111,\"#46039f\"],[0.2222222222222222,\"#7201a8\"],[0.3333333333333333,\"#9c179e\"],[0.4444444444444444,\"#bd3786\"],[0.5555555555555556,\"#d8576b\"],[0.6666666666666666,\"#ed7953\"],[0.7777777777777778,\"#fb9f3a\"],[0.8888888888888888,\"#fdca26\"],[1.0,\"#f0f921\"]],\"type\":\"heatmapgl\"}],\"histogram\":[{\"marker\":{\"pattern\":{\"fillmode\":\"overlay\",\"size\":10,\"solidity\":0.2}},\"type\":\"histogram\"}],\"histogram2d\":[{\"colorbar\":{\"outlinewidth\":0,\"ticks\":\"\"},\"colorscale\":[[0.0,\"#0d0887\"],[0.1111111111111111,\"#46039f\"],[0.2222222222222222,\"#7201a8\"],[0.3333333333333333,\"#9c179e\"],[0.4444444444444444,\"#bd3786\"],[0.5555555555555556,\"#d8576b\"],[0.6666666666666666,\"#ed7953\"],[0.7777777777777778,\"#fb9f3a\"],[0.8888888888888888,\"#fdca26\"],[1.0,\"#f0f921\"]],\"type\":\"histogram2d\"}],\"histogram2dcontour\":[{\"colorbar\":{\"outlinewidth\":0,\"ticks\":\"\"},\"colorscale\":[[0.0,\"#0d0887\"],[0.1111111111111111,\"#46039f\"],[0.2222222222222222,\"#7201a8\"],[0.3333333333333333,\"#9c179e\"],[0.4444444444444444,\"#bd3786\"],[0.5555555555555556,\"#d8576b\"],[0.6666666666666666,\"#ed7953\"],[0.7777777777777778,\"#fb9f3a\"],[0.8888888888888888,\"#fdca26\"],[1.0,\"#f0f921\"]],\"type\":\"histogram2dcontour\"}],\"mesh3d\":[{\"colorbar\":{\"outlinewidth\":0,\"ticks\":\"\"},\"type\":\"mesh3d\"}],\"parcoords\":[{\"line\":{\"colorbar\":{\"outlinewidth\":0,\"ticks\":\"\"}},\"type\":\"parcoords\"}],\"pie\":[{\"automargin\":true,\"type\":\"pie\"}],\"scatter\":[{\"marker\":{\"colorbar\":{\"outlinewidth\":0,\"ticks\":\"\"}},\"type\":\"scatter\"}],\"scatter3d\":[{\"line\":{\"colorbar\":{\"outlinewidth\":0,\"ticks\":\"\"}},\"marker\":{\"colorbar\":{\"outlinewidth\":0,\"ticks\":\"\"}},\"type\":\"scatter3d\"}],\"scattercarpet\":[{\"marker\":{\"colorbar\":{\"outlinewidth\":0,\"ticks\":\"\"}},\"type\":\"scattercarpet\"}],\"scattergeo\":[{\"marker\":{\"colorbar\":{\"outlinewidth\":0,\"ticks\":\"\"}},\"type\":\"scattergeo\"}],\"scattergl\":[{\"marker\":{\"colorbar\":{\"outlinewidth\":0,\"ticks\":\"\"}},\"type\":\"scattergl\"}],\"scattermapbox\":[{\"marker\":{\"colorbar\":{\"outlinewidth\":0,\"ticks\":\"\"}},\"type\":\"scattermapbox\"}],\"scatterpolar\":[{\"marker\":{\"colorbar\":{\"outlinewidth\":0,\"ticks\":\"\"}},\"type\":\"scatterpolar\"}],\"scatterpolargl\":[{\"marker\":{\"colorbar\":{\"outlinewidth\":0,\"ticks\":\"\"}},\"type\":\"scatterpolargl\"}],\"scatterternary\":[{\"marker\":{\"colorbar\":{\"outlinewidth\":0,\"ticks\":\"\"}},\"type\":\"scatterternary\"}],\"surface\":[{\"colorbar\":{\"outlinewidth\":0,\"ticks\":\"\"},\"colorscale\":[[0.0,\"#0d0887\"],[0.1111111111111111,\"#46039f\"],[0.2222222222222222,\"#7201a8\"],[0.3333333333333333,\"#9c179e\"],[0.4444444444444444,\"#bd3786\"],[0.5555555555555556,\"#d8576b\"],[0.6666666666666666,\"#ed7953\"],[0.7777777777777778,\"#fb9f3a\"],[0.8888888888888888,\"#fdca26\"],[1.0,\"#f0f921\"]],\"type\":\"surface\"}],\"table\":[{\"cells\":{\"fill\":{\"color\":\"#EBF0F8\"},\"line\":{\"color\":\"white\"}},\"header\":{\"fill\":{\"color\":\"#C8D4E3\"},\"line\":{\"color\":\"white\"}},\"type\":\"table\"}]},\"layout\":{\"annotationdefaults\":{\"arrowcolor\":\"#2a3f5f\",\"arrowhead\":0,\"arrowwidth\":1},\"autotypenumbers\":\"strict\",\"coloraxis\":{\"colorbar\":{\"outlinewidth\":0,\"ticks\":\"\"}},\"colorscale\":{\"diverging\":[[0,\"#8e0152\"],[0.1,\"#c51b7d\"],[0.2,\"#de77ae\"],[0.3,\"#f1b6da\"],[0.4,\"#fde0ef\"],[0.5,\"#f7f7f7\"],[0.6,\"#e6f5d0\"],[0.7,\"#b8e186\"],[0.8,\"#7fbc41\"],[0.9,\"#4d9221\"],[1,\"#276419\"]],\"sequential\":[[0.0,\"#0d0887\"],[0.1111111111111111,\"#46039f\"],[0.2222222222222222,\"#7201a8\"],[0.3333333333333333,\"#9c179e\"],[0.4444444444444444,\"#bd3786\"],[0.5555555555555556,\"#d8576b\"],[0.6666666666666666,\"#ed7953\"],[0.7777777777777778,\"#fb9f3a\"],[0.8888888888888888,\"#fdca26\"],[1.0,\"#f0f921\"]],\"sequentialminus\":[[0.0,\"#0d0887\"],[0.1111111111111111,\"#46039f\"],[0.2222222222222222,\"#7201a8\"],[0.3333333333333333,\"#9c179e\"],[0.4444444444444444,\"#bd3786\"],[0.5555555555555556,\"#d8576b\"],[0.6666666666666666,\"#ed7953\"],[0.7777777777777778,\"#fb9f3a\"],[0.8888888888888888,\"#fdca26\"],[1.0,\"#f0f921\"]]},\"colorway\":[\"#636efa\",\"#EF553B\",\"#00cc96\",\"#ab63fa\",\"#FFA15A\",\"#19d3f3\",\"#FF6692\",\"#B6E880\",\"#FF97FF\",\"#FECB52\"],\"font\":{\"color\":\"#2a3f5f\"},\"geo\":{\"bgcolor\":\"white\",\"lakecolor\":\"white\",\"landcolor\":\"#E5ECF6\",\"showlakes\":true,\"showland\":true,\"subunitcolor\":\"white\"},\"hoverlabel\":{\"align\":\"left\"},\"hovermode\":\"closest\",\"mapbox\":{\"style\":\"light\"},\"paper_bgcolor\":\"white\",\"plot_bgcolor\":\"#E5ECF6\",\"polar\":{\"angularaxis\":{\"gridcolor\":\"white\",\"linecolor\":\"white\",\"ticks\":\"\"},\"bgcolor\":\"#E5ECF6\",\"radialaxis\":{\"gridcolor\":\"white\",\"linecolor\":\"white\",\"ticks\":\"\"}},\"scene\":{\"xaxis\":{\"backgroundcolor\":\"#E5ECF6\",\"gridcolor\":\"white\",\"gridwidth\":2,\"linecolor\":\"white\",\"showbackground\":true,\"ticks\":\"\",\"zerolinecolor\":\"white\"},\"yaxis\":{\"backgroundcolor\":\"#E5ECF6\",\"gridcolor\":\"white\",\"gridwidth\":2,\"linecolor\":\"white\",\"showbackground\":true,\"ticks\":\"\",\"zerolinecolor\":\"white\"},\"zaxis\":{\"backgroundcolor\":\"#E5ECF6\",\"gridcolor\":\"white\",\"gridwidth\":2,\"linecolor\":\"white\",\"showbackground\":true,\"ticks\":\"\",\"zerolinecolor\":\"white\"}},\"shapedefaults\":{\"line\":{\"color\":\"#2a3f5f\"}},\"ternary\":{\"aaxis\":{\"gridcolor\":\"white\",\"linecolor\":\"white\",\"ticks\":\"\"},\"baxis\":{\"gridcolor\":\"white\",\"linecolor\":\"white\",\"ticks\":\"\"},\"bgcolor\":\"#E5ECF6\",\"caxis\":{\"gridcolor\":\"white\",\"linecolor\":\"white\",\"ticks\":\"\"}},\"title\":{\"x\":0.05},\"xaxis\":{\"automargin\":true,\"gridcolor\":\"white\",\"linecolor\":\"white\",\"ticks\":\"\",\"title\":{\"standoff\":15},\"zerolinecolor\":\"white\",\"zerolinewidth\":2},\"yaxis\":{\"automargin\":true,\"gridcolor\":\"white\",\"linecolor\":\"white\",\"ticks\":\"\",\"title\":{\"standoff\":15},\"zerolinecolor\":\"white\",\"zerolinewidth\":2}}}},                        {\"responsive\": true}                    ).then(function(){\n",
       "                            \n",
       "var gd = document.getElementById('51bb413f-e037-492b-a0ae-72d8c89d0eaf');\n",
       "var x = new MutationObserver(function (mutations, observer) {{\n",
       "        var display = window.getComputedStyle(gd).display;\n",
       "        if (!display || display === 'none') {{\n",
       "            console.log([gd, 'removed!']);\n",
       "            Plotly.purge(gd);\n",
       "            observer.disconnect();\n",
       "        }}\n",
       "}});\n",
       "\n",
       "// Listen for the removal of the full notebook cells\n",
       "var notebookContainer = gd.closest('#notebook-container');\n",
       "if (notebookContainer) {{\n",
       "    x.observe(notebookContainer, {childList: true});\n",
       "}}\n",
       "\n",
       "// Listen for the clearing of the current output cell\n",
       "var outputEl = gd.closest('.output');\n",
       "if (outputEl) {{\n",
       "    x.observe(outputEl, {childList: true});\n",
       "}}\n",
       "\n",
       "                        })                };                });            </script>        </div>"
      ]
     },
     "metadata": {},
     "output_type": "display_data"
    }
   ],
   "source": [
    "alpha=x\n",
    "beta=[round(1-i,1) for i in alpha]\n",
    "\n",
    "All_list=acc_all_with_cat.copy()\n",
    "All_list.insert(0,beta)\n",
    "All_list.insert(0,alpha)\n",
    "\n",
    "\n",
    "import plotly.graph_objects as go\n",
    "\n",
    "fig = go.Figure(data=[go.Table(header=dict(values=['alpha', 'beta',\"All\",\"DÜNYA\",\"SPOR\",\"SANAT\",\"Teknoloji\"]),\n",
    "                 cells=dict(values=All_list))\n",
    "                     ])\n",
    "fig.show()\n",
    "#Accuracy Rates of Categories and all under alpha-beta value"
   ]
  },
  {
   "cell_type": "code",
   "execution_count": 73,
   "metadata": {},
   "outputs": [
    {
     "ename": "NameError",
     "evalue": "name 'pi' is not defined",
     "output_type": "error",
     "traceback": [
      "\u001b[1;31m---------------------------------------------------------------------------\u001b[0m",
      "\u001b[1;31mNameError\u001b[0m                                 Traceback (most recent call last)",
      "\u001b[1;32m<ipython-input-73-5c0f789685e2>\u001b[0m in \u001b[0;36m<module>\u001b[1;34m\u001b[0m\n\u001b[1;32m----> 1\u001b[1;33m \u001b[1;33m[\u001b[0m\u001b[0mi\u001b[0m\u001b[1;33m*\u001b[0m\u001b[0mpi\u001b[0m\u001b[1;33m/\u001b[0m\u001b[1;36m2\u001b[0m \u001b[1;32mfor\u001b[0m \u001b[0mi\u001b[0m \u001b[1;32min\u001b[0m \u001b[0malpha\u001b[0m\u001b[1;33m]\u001b[0m\u001b[1;33m\u001b[0m\u001b[1;33m\u001b[0m\u001b[0m\n\u001b[0m",
      "\u001b[1;32m<ipython-input-73-5c0f789685e2>\u001b[0m in \u001b[0;36m<listcomp>\u001b[1;34m(.0)\u001b[0m\n\u001b[1;32m----> 1\u001b[1;33m \u001b[1;33m[\u001b[0m\u001b[0mi\u001b[0m\u001b[1;33m*\u001b[0m\u001b[0mpi\u001b[0m\u001b[1;33m/\u001b[0m\u001b[1;36m2\u001b[0m \u001b[1;32mfor\u001b[0m \u001b[0mi\u001b[0m \u001b[1;32min\u001b[0m \u001b[0malpha\u001b[0m\u001b[1;33m]\u001b[0m\u001b[1;33m\u001b[0m\u001b[1;33m\u001b[0m\u001b[0m\n\u001b[0m",
      "\u001b[1;31mNameError\u001b[0m: name 'pi' is not defined"
     ]
    }
   ],
   "source": [
    "[i*pi/2 for i in alpha]"
   ]
  },
  {
   "cell_type": "code",
   "execution_count": 72,
   "metadata": {},
   "outputs": [
    {
     "name": "stdout",
     "output_type": "stream",
     "text": [
      "in_array :  [-6.28318531 -5.62179738 -4.96040945 -4.29902153 -3.6376336  -2.97624567\n",
      " -2.31485774 -1.65346982 -0.99208189 -0.33069396  0.33069396  0.99208189\n",
      "  1.65346982  2.31485774  2.97624567  3.6376336   4.29902153  4.96040945\n",
      "  5.62179738  6.28318531]\n",
      "\n",
      "out_array :  [1.0, 0.7891405093963934, 0.2454854871407988, -0.40169542465296987, -0.8794737512064891, -0.9863613034027223, -0.6772815716257412, -0.08257934547233249, 0.5469481581224268, 0.9458172417006346, 0.9458172417006346, 0.5469481581224268, -0.0825793454723316, -0.6772815716257405, -0.9863613034027223, -0.8794737512064893, -0.40169542465296987, 0.2454854871407988, 0.7891405093963934, 1.0]\n"
     ]
    },
    {
     "data": {
      "image/png": "[encoded data removed]",
      "text/plain": [
       "<Figure size 432x288 with 1 Axes>"
      ]
     },
     "metadata": {
      "needs_background": "light"
     },
     "output_type": "display_data"
    }
   ],
   "source": [
    "import math  \n",
    "math.cos((3.14)/2)\n",
    "\n",
    "\n",
    "%matplotlib inline\n",
    "# Python program showing  \n",
    "# Graphical representation of  \n",
    "# cos() function  \n",
    "import math \n",
    "import numpy as np \n",
    "import matplotlib.pyplot as plt  \n",
    "  \n",
    "in_array = np.linspace(-(2 * np.pi), 2 * np.pi, 20) \n",
    "  \n",
    "out_array = [] \n",
    "  \n",
    "for i in range(len(in_array)): \n",
    "    out_array.append(math.cos(in_array[i])) \n",
    "    i += 1\n",
    "  \n",
    "   \n",
    "print(\"in_array : \", in_array)  \n",
    "print(\"\\nout_array : \", out_array)  \n",
    "  \n",
    "# red for numpy.sin()  \n",
    "plt.plot(in_array, out_array, color = 'red', marker = \"o\")  \n",
    "plt.title(\"math.cos()\")  \n",
    "plt.xlabel(\"X\")  \n",
    "plt.ylabel(\"Y\")  \n",
    "plt.show()  "
   ]
  },
  {
   "cell_type": "code",
   "execution_count": 71,
   "metadata": {},
   "outputs": [],
   "source": [
    "plt.show()  "
   ]
  },
  {
   "cell_type": "code",
   "execution_count": 94,
   "metadata": {},
   "outputs": [
    {
     "name": "stdout",
     "output_type": "stream",
     "text": [
      "728\n",
      "2325\n"
     ]
    }
   ],
   "source": [
    "\n",
    "#get number of non-unique predictions\n",
    "k=0\n",
    "index_list=[]\n",
    "for i in range(0,len(results1)):\n",
    "    if len(list(set(results1[results1.index[i]])))!=1:\n",
    "        index_list.append(results1.index[i])\n",
    "        k=k+1\n",
    "print(k)\n",
    "print(len(results1))\n",
    "\n"
   ]
  },
  {
   "cell_type": "code",
   "execution_count": 95,
   "metadata": {},
   "outputs": [
    {
     "data": {
      "text/plain": [
       "[19743,\n",
       " 38035,\n",
       " 37518,\n",
       " 27047,\n",
       " 38368,\n",
       " 20350,\n",
       " 34518,\n",
       " 33757,\n",
       " 15401,\n",
       " 12886,\n",
       " 30312,\n",
       " 24771,\n",
       " 19777,\n",
       " 36548,\n",
       " 32502,\n",
       " 14035,\n",
       " 13995,\n",
       " 41778,\n",
       " 32247,\n",
       " 40712,\n",
       " 35206,\n",
       " 41199,\n",
       " 22563,\n",
       " 38094,\n",
       " 15831,\n",
       " 28468,\n",
       " 33375,\n",
       " 36369,\n",
       " 40342,\n",
       " 40092,\n",
       " 31510,\n",
       " 37884,\n",
       " 23121,\n",
       " 22542,\n",
       " 27659,\n",
       " 33080,\n",
       " 29801,\n",
       " 22945,\n",
       " 33020,\n",
       " 17161,\n",
       " 37544,\n",
       " 32001,\n",
       " 27413,\n",
       " 22018,\n",
       " 35167,\n",
       " 38166,\n",
       " 25006,\n",
       " 18177,\n",
       " 33097,\n",
       " 23210,\n",
       " 40171,\n",
       " 28306,\n",
       " 37951,\n",
       " 20442,\n",
       " 32081,\n",
       " 24850,\n",
       " 38167,\n",
       " 32108,\n",
       " 15057,\n",
       " 18055,\n",
       " 29654,\n",
       " 25257,\n",
       " 37436,\n",
       " 38724,\n",
       " 21352,\n",
       " 37743,\n",
       " 35792,\n",
       " 37714,\n",
       " 31987,\n",
       " 24665,\n",
       " 33501,\n",
       " 37978,\n",
       " 35944,\n",
       " 35506,\n",
       " 38631,\n",
       " 43477,\n",
       " 18164,\n",
       " 23049,\n",
       " 14643,\n",
       " 16308,\n",
       " 19092,\n",
       " 20780,\n",
       " 32984,\n",
       " 34422,\n",
       " 21732,\n",
       " 14943,\n",
       " 31832,\n",
       " 31672,\n",
       " 33441,\n",
       " 20556,\n",
       " 27314,\n",
       " 15343,\n",
       " 29312,\n",
       " 43387,\n",
       " 29643,\n",
       " 23021,\n",
       " 40690,\n",
       " 31022,\n",
       " 42682,\n",
       " 21475,\n",
       " 23813,\n",
       " 26792,\n",
       " 35789,\n",
       " 42500,\n",
       " 43456,\n",
       " 25437,\n",
       " 20883,\n",
       " 34479,\n",
       " 13391,\n",
       " 25516,\n",
       " 41088,\n",
       " 20877,\n",
       " 31127,\n",
       " 22039,\n",
       " 26106,\n",
       " 24189,\n",
       " 38128,\n",
       " 30630,\n",
       " 40519,\n",
       " 20277,\n",
       " 36251,\n",
       " 29863,\n",
       " 32986,\n",
       " 40964,\n",
       " 42194,\n",
       " 28110,\n",
       " 37803,\n",
       " 37140,\n",
       " 33485,\n",
       " 37777,\n",
       " 15801,\n",
       " 29612,\n",
       " 33021,\n",
       " 16835,\n",
       " 28338,\n",
       " 15559,\n",
       " 37347,\n",
       " 16388,\n",
       " 22290,\n",
       " 37915,\n",
       " 25562,\n",
       " 33361,\n",
       " 18364,\n",
       " 31315,\n",
       " 18032,\n",
       " 23433,\n",
       " 18400,\n",
       " 31216,\n",
       " 34463,\n",
       " 23706,\n",
       " 35505,\n",
       " 26902,\n",
       " 14108,\n",
       " 24186,\n",
       " 42542,\n",
       " 24258,\n",
       " 22202,\n",
       " 40529,\n",
       " 19738,\n",
       " 25561,\n",
       " 28470,\n",
       " 16976,\n",
       " 23909,\n",
       " 23201,\n",
       " 39766,\n",
       " 41083,\n",
       " 22859,\n",
       " 14635,\n",
       " 38546,\n",
       " 43323,\n",
       " 15243,\n",
       " 36506,\n",
       " 39336,\n",
       " 42891,\n",
       " 40132,\n",
       " 30953,\n",
       " 40117,\n",
       " 21630,\n",
       " 13080,\n",
       " 14627,\n",
       " 20163,\n",
       " 22153,\n",
       " 32521,\n",
       " 27556,\n",
       " 23936,\n",
       " 22232,\n",
       " 36013,\n",
       " 42815,\n",
       " 30600,\n",
       " 25570,\n",
       " 34670,\n",
       " 37036,\n",
       " 17745,\n",
       " 26470,\n",
       " 23080,\n",
       " 13653,\n",
       " 17381,\n",
       " 21625,\n",
       " 15743,\n",
       " 23126,\n",
       " 32720,\n",
       " 20810,\n",
       " 32140,\n",
       " 35849,\n",
       " 13958,\n",
       " 13413,\n",
       " 36072,\n",
       " 29219,\n",
       " 31496,\n",
       " 43340,\n",
       " 34619,\n",
       " 21004,\n",
       " 33873,\n",
       " 32616,\n",
       " 21021,\n",
       " 16320,\n",
       " 26534,\n",
       " 28925,\n",
       " 18238,\n",
       " 29964,\n",
       " 25625,\n",
       " 32594,\n",
       " 23815,\n",
       " 23763,\n",
       " 39266,\n",
       " 23606,\n",
       " 37359,\n",
       " 18245,\n",
       " 32302,\n",
       " 42841,\n",
       " 22196,\n",
       " 43311,\n",
       " 27147,\n",
       " 12939,\n",
       " 38796,\n",
       " 18257,\n",
       " 25433,\n",
       " 16605,\n",
       " 22487,\n",
       " 28547,\n",
       " 15044,\n",
       " 42625,\n",
       " 16491,\n",
       " 43277,\n",
       " 15233,\n",
       " 38691,\n",
       " 35511,\n",
       " 13838,\n",
       " 35628,\n",
       " 38539,\n",
       " 29322,\n",
       " 31820,\n",
       " 13414,\n",
       " 25670,\n",
       " 17981,\n",
       " 22147,\n",
       " 15548,\n",
       " 38285,\n",
       " 34049,\n",
       " 39572,\n",
       " 27932,\n",
       " 30257,\n",
       " 37738,\n",
       " 32125,\n",
       " 37570,\n",
       " 41143,\n",
       " 31676,\n",
       " 37273,\n",
       " 34617,\n",
       " 33836,\n",
       " 19170,\n",
       " 36527,\n",
       " 26671,\n",
       " 35309,\n",
       " 29692,\n",
       " 40010,\n",
       " 29817,\n",
       " 40600,\n",
       " 36722,\n",
       " 33545,\n",
       " 25209,\n",
       " 13218,\n",
       " 40209,\n",
       " 31652,\n",
       " 19652,\n",
       " 24520,\n",
       " 24495,\n",
       " 30224,\n",
       " 38293,\n",
       " 24626,\n",
       " 23949,\n",
       " 15172,\n",
       " 13741,\n",
       " 43582,\n",
       " 28204,\n",
       " 24708,\n",
       " 18016,\n",
       " 33399,\n",
       " 29890,\n",
       " 42656,\n",
       " 23321,\n",
       " 26137,\n",
       " 19244,\n",
       " 39294,\n",
       " 34435,\n",
       " 23854,\n",
       " 20543,\n",
       " 14027,\n",
       " 35821,\n",
       " 21867,\n",
       " 25517,\n",
       " 37137,\n",
       " 33636,\n",
       " 42943,\n",
       " 38944,\n",
       " 25795,\n",
       " 32011,\n",
       " 42352,\n",
       " 23495,\n",
       " 19850,\n",
       " 17464,\n",
       " 23165,\n",
       " 29865,\n",
       " 31824,\n",
       " 23428,\n",
       " 14429,\n",
       " 25294,\n",
       " 43707,\n",
       " 16055,\n",
       " 41677,\n",
       " 15085,\n",
       " 14032,\n",
       " 15213,\n",
       " 40446,\n",
       " 18763,\n",
       " 37025,\n",
       " 37534,\n",
       " 28353,\n",
       " 15477,\n",
       " 37561,\n",
       " 27263,\n",
       " 30992,\n",
       " 26562,\n",
       " 36685,\n",
       " 16422,\n",
       " 29284,\n",
       " 28094,\n",
       " 33804,\n",
       " 19928,\n",
       " 35381,\n",
       " 27568,\n",
       " 32993,\n",
       " 41886,\n",
       " 21032,\n",
       " 20742,\n",
       " 38400,\n",
       " 21576,\n",
       " 39477,\n",
       " 31306,\n",
       " 43202,\n",
       " 22963,\n",
       " 43115,\n",
       " 33133,\n",
       " 34314,\n",
       " 21738,\n",
       " 33085,\n",
       " 38990,\n",
       " 18642,\n",
       " 20027,\n",
       " 29767,\n",
       " 23450,\n",
       " 38434,\n",
       " 32949,\n",
       " 25027,\n",
       " 42050,\n",
       " 32952,\n",
       " 23215,\n",
       " 13960,\n",
       " 19711,\n",
       " 42517,\n",
       " 30069,\n",
       " 17611,\n",
       " 16425,\n",
       " 27741,\n",
       " 25077,\n",
       " 42686,\n",
       " 40547,\n",
       " 35394,\n",
       " 15741,\n",
       " 19117,\n",
       " 36997,\n",
       " 35643,\n",
       " 17225,\n",
       " 32288,\n",
       " 41408,\n",
       " 24317,\n",
       " 39940,\n",
       " 25736,\n",
       " 32971,\n",
       " 36864,\n",
       " 20527,\n",
       " 13017,\n",
       " 31424,\n",
       " 26132,\n",
       " 33181,\n",
       " 34436,\n",
       " 42757,\n",
       " 34370,\n",
       " 38926,\n",
       " 17902,\n",
       " 40392,\n",
       " 24343,\n",
       " 19136,\n",
       " 23084,\n",
       " 15698,\n",
       " 18604,\n",
       " 32063,\n",
       " 43220,\n",
       " 16595,\n",
       " 42680,\n",
       " 32465,\n",
       " 36001,\n",
       " 34149,\n",
       " 35314,\n",
       " 22116,\n",
       " 33691,\n",
       " 41309,\n",
       " 18015,\n",
       " 38067,\n",
       " 35637,\n",
       " 43151,\n",
       " 30472,\n",
       " 26146,\n",
       " 43386,\n",
       " 35867,\n",
       " 32652,\n",
       " 13225,\n",
       " 30158,\n",
       " 21524,\n",
       " 27522,\n",
       " 21792,\n",
       " 25048,\n",
       " 29587,\n",
       " 20497,\n",
       " 31157,\n",
       " 36189,\n",
       " 37523,\n",
       " 43006,\n",
       " 23247,\n",
       " 33422,\n",
       " 31728,\n",
       " 36806,\n",
       " 23943,\n",
       " 25741,\n",
       " 15140,\n",
       " 21999,\n",
       " 28489,\n",
       " 28385,\n",
       " 14315,\n",
       " 34267,\n",
       " 28230,\n",
       " 29490,\n",
       " 18985,\n",
       " 35712,\n",
       " 38874,\n",
       " 35341,\n",
       " 28467,\n",
       " 27496,\n",
       " 13583,\n",
       " 20845,\n",
       " 16758,\n",
       " 40818,\n",
       " 26036,\n",
       " 43651,\n",
       " 32714,\n",
       " 14369,\n",
       " 33676,\n",
       " 33005,\n",
       " 20664,\n",
       " 22286,\n",
       " 21652,\n",
       " 26107,\n",
       " 34184,\n",
       " 33946,\n",
       " 27974,\n",
       " 38321,\n",
       " 24864,\n",
       " 17612,\n",
       " 25508,\n",
       " 15464,\n",
       " 41623,\n",
       " 38556,\n",
       " 19343,\n",
       " 16145,\n",
       " 25121,\n",
       " 39373,\n",
       " 32689,\n",
       " 37332,\n",
       " 25655,\n",
       " 19991,\n",
       " 32027,\n",
       " 25859,\n",
       " 33508,\n",
       " 14912,\n",
       " 34616,\n",
       " 28936,\n",
       " 19581,\n",
       " 13364,\n",
       " 34067,\n",
       " 37857,\n",
       " 23549,\n",
       " 15976,\n",
       " 20998,\n",
       " 37189,\n",
       " 35047,\n",
       " 42017,\n",
       " 24028,\n",
       " 20651,\n",
       " 28786,\n",
       " 19857,\n",
       " 32137,\n",
       " 18521,\n",
       " 12877,\n",
       " 36691,\n",
       " 36913,\n",
       " 24512,\n",
       " 18877,\n",
       " 20077,\n",
       " 15444,\n",
       " 33429,\n",
       " 21250,\n",
       " 29524,\n",
       " 37823,\n",
       " 24213,\n",
       " 20511,\n",
       " 43075,\n",
       " 38080,\n",
       " 14598,\n",
       " 40483,\n",
       " 14274,\n",
       " 37204,\n",
       " 31156,\n",
       " 28311,\n",
       " 33472,\n",
       " 27731,\n",
       " 19960,\n",
       " 36937,\n",
       " 13037,\n",
       " 15594,\n",
       " 37933,\n",
       " 36357,\n",
       " 37904,\n",
       " 36879,\n",
       " 20594,\n",
       " 18886,\n",
       " 18455,\n",
       " 18383,\n",
       " 43231,\n",
       " 14297,\n",
       " 41072,\n",
       " 23237,\n",
       " 23876,\n",
       " 13873,\n",
       " 22390,\n",
       " 35172,\n",
       " 13421,\n",
       " 18152,\n",
       " 36500,\n",
       " 37727,\n",
       " 34896,\n",
       " 13504,\n",
       " 28697,\n",
       " 41955,\n",
       " 35870,\n",
       " 26492,\n",
       " 14267,\n",
       " 33248,\n",
       " 21978,\n",
       " 30668,\n",
       " 31687,\n",
       " 42967,\n",
       " 15372,\n",
       " 19677,\n",
       " 27880,\n",
       " 13562,\n",
       " 26700,\n",
       " 28383,\n",
       " 33492,\n",
       " 24759,\n",
       " 39855,\n",
       " 15513,\n",
       " 29891,\n",
       " 29247,\n",
       " 42292,\n",
       " 25553,\n",
       " 13006,\n",
       " 26239,\n",
       " 25890,\n",
       " 23555,\n",
       " 23332,\n",
       " 34322,\n",
       " 33274,\n",
       " 32693,\n",
       " 13473,\n",
       " 40393,\n",
       " 25042,\n",
       " 36730,\n",
       " 40590,\n",
       " 14158,\n",
       " 14080,\n",
       " 32153,\n",
       " 38317,\n",
       " 22751,\n",
       " 31990,\n",
       " 21650,\n",
       " 43046,\n",
       " 31485,\n",
       " 36135,\n",
       " 31149,\n",
       " 33326,\n",
       " 13183,\n",
       " 35852,\n",
       " 33772,\n",
       " 32052,\n",
       " 15898,\n",
       " 23671,\n",
       " 37538,\n",
       " 24391,\n",
       " 34546,\n",
       " 18860,\n",
       " 20695,\n",
       " 39353,\n",
       " 18879,\n",
       " 22265,\n",
       " 17665,\n",
       " 23457,\n",
       " 40507,\n",
       " 24141,\n",
       " 13866,\n",
       " 28755,\n",
       " 20101,\n",
       " 23314,\n",
       " 40765,\n",
       " 18446,\n",
       " 35039,\n",
       " 20570,\n",
       " 22980,\n",
       " 18192,\n",
       " 20761,\n",
       " 33073,\n",
       " 29402,\n",
       " 38019,\n",
       " 20151,\n",
       " 37531,\n",
       " 21334,\n",
       " 21341,\n",
       " 35747,\n",
       " 23037,\n",
       " 19256,\n",
       " 27331,\n",
       " 20632,\n",
       " 26794,\n",
       " 23252,\n",
       " 31325,\n",
       " 20841,\n",
       " 19798,\n",
       " 25635,\n",
       " 19760,\n",
       " 36320,\n",
       " 13784,\n",
       " 39258,\n",
       " 27826,\n",
       " 18370,\n",
       " 21817,\n",
       " 43540,\n",
       " 30295,\n",
       " 36469,\n",
       " 33624,\n",
       " 25381,\n",
       " 32786,\n",
       " 26554,\n",
       " 36589,\n",
       " 42747,\n",
       " 14844,\n",
       " 42817,\n",
       " 14443,\n",
       " 34531,\n",
       " 19807,\n",
       " 27806,\n",
       " 35073,\n",
       " 18832,\n",
       " 26897,\n",
       " 13902,\n",
       " 37508,\n",
       " 38002,\n",
       " 25205,\n",
       " 22248,\n",
       " 23148,\n",
       " 36029,\n",
       " 28831,\n",
       " 43718,\n",
       " 21413,\n",
       " 13336,\n",
       " 15792,\n",
       " 17320,\n",
       " 36166,\n",
       " 32507,\n",
       " 26589,\n",
       " 29481,\n",
       " 38126,\n",
       " 39351,\n",
       " 32980,\n",
       " 18934,\n",
       " 14273,\n",
       " 18403,\n",
       " 24254,\n",
       " 16049,\n",
       " 13761,\n",
       " 13479,\n",
       " 20951,\n",
       " 29721,\n",
       " 15112,\n",
       " 21022,\n",
       " 24263,\n",
       " 39970,\n",
       " 19512,\n",
       " 23092,\n",
       " 17335]"
      ]
     },
     "execution_count": 95,
     "metadata": {},
     "output_type": "execute_result"
    }
   ],
   "source": [
    "index_list"
   ]
  },
  {
   "cell_type": "code",
   "execution_count": 97,
   "metadata": {},
   "outputs": [
    {
     "name": "stdout",
     "output_type": "stream",
     "text": [
      "['DÜNYA', 'DÜNYA', 'DÜNYA', 'DÜNYA', 'Teknoloji', 'Teknoloji', 'Teknoloji', 'Teknoloji', 'DÜNYA', 'DÜNYA', 'DÜNYA', 'DÜNYA']\n",
      "DÜNYA\n",
      "DÜNYA\n",
      "DÜNYA\n",
      "DÜNYA\n",
      "DÜNYA\n",
      "DÜNYA\n",
      "DÜNYA\n",
      "DÜNYA\n",
      "DÜNYA\n",
      "DÜNYA\n",
      "DÜNYA\n",
      "DÜNYA\n"
     ]
    }
   ],
   "source": [
    "\n",
    "\n",
    "\n",
    "n=18177\n",
    "\n",
    "print(results1[n])\n",
    "\n",
    "for j in range(0,len(predict_list1)):\n",
    "    print(predict_list1[j][n])\n",
    "\n",
    "\n"
   ]
  },
  {
   "cell_type": "code",
   "execution_count": null,
   "metadata": {},
   "outputs": [],
   "source": []
  },
  {
   "cell_type": "code",
   "execution_count": null,
   "metadata": {},
   "outputs": [],
   "source": []
  },
  {
   "cell_type": "code",
   "execution_count": null,
   "metadata": {},
   "outputs": [],
   "source": []
  },
  {
   "cell_type": "code",
   "execution_count": null,
   "metadata": {},
   "outputs": [],
   "source": []
  },
  {
   "cell_type": "code",
   "execution_count": null,
   "metadata": {},
   "outputs": [],
   "source": []
  },
  {
   "cell_type": "code",
   "execution_count": null,
   "metadata": {},
   "outputs": [],
   "source": []
  },
  {
   "cell_type": "code",
   "execution_count": null,
   "metadata": {},
   "outputs": [],
   "source": []
  }
 ],
 "metadata": {
  "kernelspec": {
   "display_name": "Python 3",
   "language": "python",
   "name": "python3"
  },
  "language_info": {
   "codemirror_mode": {
    "name": "ipython",
    "version": 3
   },
   "file_extension": ".py",
   "mimetype": "text/x-python",
   "name": "python",
   "nbconvert_exporter": "python",
   "pygments_lexer": "ipython3",
   "version": "3.7.6"
  }
 },
 "nbformat": 4,
 "nbformat_minor": 2
}
