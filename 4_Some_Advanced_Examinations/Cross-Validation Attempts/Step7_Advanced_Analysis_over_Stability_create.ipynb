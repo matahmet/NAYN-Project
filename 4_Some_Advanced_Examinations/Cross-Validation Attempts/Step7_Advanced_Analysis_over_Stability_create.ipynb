{
 "cells": [
  {
   "cell_type": "code",
   "execution_count": 1,
   "metadata": {},
   "outputs": [],
   "source": [
    "#block 1st\n",
    "\n",
    "#import Predction Models with relevant objects\n",
    "%run ./Step4_Prediction_Models_ub.ipynb\n",
    "\n"
   ]
  },
  {
   "cell_type": "code",
   "execution_count": 4,
   "metadata": {},
   "outputs": [
    {
     "name": "stdout",
     "output_type": "stream",
     "text": [
      "model_integrated_ub\n",
      "1851.5049245357513\n"
     ]
    }
   ],
   "source": [
    "#block 2nd\n",
    "\n",
    "import time\n",
    "#random_state=47\n",
    "\n",
    "X_train, X_test, y_train, y_test = train_test_split(tackled_data['Title'],tackled_data['Categories'],test_size=0.2,random_state=47)\n",
    "\n",
    "#update X_train and y_train\n",
    "#agent method\n",
    "#for  X_test.apply() function\n",
    "def agent_model_integrated_ub(doc):\n",
    "    return Integrated_model_ub(doc,X_train,y_train)\n",
    "\n",
    "#model_integrated_ub procedure\n",
    "#start time\n",
    "start_time=time.time()\n",
    "\n",
    "#Apply integrated_ub method to X_test,y_test\n",
    "Integrated_prediction_ub=X_test.apply(agent_model_integrated_ub)\n",
    "\n",
    "#save integrated_ub method output\n",
    "import pickle\n",
    "Integrated_prediction_ub.to_pickle(\"./Integrated_prediction_ub_test47.pkl\")\n",
    "\n",
    "#show run-time\n",
    "print(\"model_integrated_ub\")\n",
    "print(time.time()-start_time)\n",
    "\n",
    "\n",
    "\n"
   ]
  },
  {
   "cell_type": "code",
   "execution_count": 5,
   "metadata": {},
   "outputs": [
    {
     "name": "stdout",
     "output_type": "stream",
     "text": [
      "model_integrated_ub\n",
      "1843.693207025528\n"
     ]
    }
   ],
   "source": [
    "#block 3rd\n",
    "\n",
    "#random_state=37\n",
    "\n",
    "X_train, X_test, y_train, y_test = train_test_split(tackled_data['Title'],tackled_data['Categories'],test_size=0.2,random_state=37)\n",
    "\n",
    "#update X_train and y_train\n",
    "#agent method\n",
    "#for  X_test.apply() function\n",
    "def agent_model_integrated_ub(doc):\n",
    "    return Integrated_model_ub(doc,X_train,y_train)\n",
    "\n",
    "#model_integrated_ub procedure\n",
    "#start time\n",
    "start_time=time.time()\n",
    "\n",
    "#Apply integrated_ub method to X_test,y_test\n",
    "Integrated_prediction_ub=X_test.apply(agent_model_integrated_ub)\n",
    "\n",
    "#save integrated_ub method output\n",
    "import pickle\n",
    "Integrated_prediction_ub.to_pickle(\"./Integrated_prediction_ub_test37.pkl\")\n",
    "\n",
    "#show run-time\n",
    "print(\"model_integrated_ub\")\n",
    "print(time.time()-start_time)\n"
   ]
  },
  {
   "cell_type": "code",
   "execution_count": 6,
   "metadata": {},
   "outputs": [
    {
     "name": "stdout",
     "output_type": "stream",
     "text": [
      "model_integrated_ub\n",
      "1836.0477933883667\n"
     ]
    }
   ],
   "source": [
    "#block 4th\n",
    "#random_state=27\n",
    "\n",
    "X_train, X_test, y_train, y_test = train_test_split(tackled_data['Title'],tackled_data['Categories'],test_size=0.2,random_state=27)\n",
    "\n",
    "#update X_train and y_train\n",
    "#agent method\n",
    "#for  X_test.apply() function\n",
    "def agent_model_integrated_ub(doc):\n",
    "    return Integrated_model_ub(doc,X_train,y_train)\n",
    "\n",
    "#model_integrated_ub procedure\n",
    "#start time\n",
    "start_time=time.time()\n",
    "\n",
    "#Apply integrated_ub method to X_test,y_test\n",
    "Integrated_prediction_ub=X_test.apply(agent_model_integrated_ub)\n",
    "\n",
    "#save integrated_ub method output\n",
    "import pickle\n",
    "Integrated_prediction_ub.to_pickle(\"./Integrated_prediction_ub_test27.pkl\")\n",
    "\n",
    "#show run-time\n",
    "print(\"model_integrated_ub\")\n",
    "print(time.time()-start_time)"
   ]
  },
  {
   "cell_type": "code",
   "execution_count": 7,
   "metadata": {},
   "outputs": [
    {
     "name": "stdout",
     "output_type": "stream",
     "text": [
      "model_integrated_ub\n",
      "1847.851570367813\n"
     ]
    }
   ],
   "source": [
    "#block 5th\n",
    "#random_state=17\n",
    "\n",
    "X_train, X_test, y_train, y_test = train_test_split(tackled_data['Title'],tackled_data['Categories'],test_size=0.2,random_state=17)\n",
    "\n",
    "#update X_train and y_train\n",
    "#agent method\n",
    "#for  X_test.apply() function\n",
    "def agent_model_integrated_ub(doc):\n",
    "    return Integrated_model_ub(doc,X_train,y_train)\n",
    "\n",
    "#model_integrated_ub procedure\n",
    "#start time\n",
    "start_time=time.time()\n",
    "\n",
    "#Apply integrated_ub method to X_test,y_test\n",
    "Integrated_prediction_ub=X_test.apply(agent_model_integrated_ub)\n",
    "\n",
    "#save integrated_ub method output\n",
    "import pickle\n",
    "Integrated_prediction_ub.to_pickle(\"./Integrated_prediction_ub_test17.pkl\")\n",
    "\n",
    "#show run-time\n",
    "print(\"model_integrated_ub\")\n",
    "print(time.time()-start_time)"
   ]
  },
  {
   "cell_type": "code",
   "execution_count": 3,
   "metadata": {},
   "outputs": [
    {
     "name": "stdout",
     "output_type": "stream",
     "text": [
      "model_integrated_ub\n",
      "1875.1011497974396\n"
     ]
    }
   ],
   "source": [
    "#block 6th\n",
    "#random_state=67\n",
    "import time\n",
    "X_train, X_test, y_train, y_test = train_test_split(tackled_data['Title'],tackled_data['Categories'],test_size=0.2,random_state=67)\n",
    "\n",
    "#update X_train and y_train\n",
    "#agent method\n",
    "#for  X_test.apply() function\n",
    "def agent_model_integrated_ub(doc):\n",
    "    return Integrated_model_ub(doc,X_train,y_train)\n",
    "\n",
    "#model_integrated_ub procedure\n",
    "#start time\n",
    "start_time=time.time()\n",
    "\n",
    "#Apply integrated_ub method to X_test,y_test\n",
    "Integrated_prediction_ub=X_test.apply(agent_model_integrated_ub)\n",
    "\n",
    "#save integrated_ub method output\n",
    "import pickle\n",
    "Integrated_prediction_ub.to_pickle(\"./Integrated_prediction_ub_test67.pkl\")\n",
    "\n",
    "#show run-time\n",
    "print(\"model_integrated_ub\")\n",
    "print(time.time()-start_time)"
   ]
  },
  {
   "cell_type": "code",
   "execution_count": 4,
   "metadata": {},
   "outputs": [
    {
     "name": "stdout",
     "output_type": "stream",
     "text": [
      "model_integrated_ub\n",
      "1848.2839078903198\n"
     ]
    }
   ],
   "source": [
    "#block 7th\n",
    "#random_state=77\n",
    "\n",
    "X_train, X_test, y_train, y_test = train_test_split(tackled_data['Title'],tackled_data['Categories'],test_size=0.2,random_state=77)\n",
    "\n",
    "#update X_train and y_train\n",
    "#agent method\n",
    "#for  X_test.apply() function\n",
    "def agent_model_integrated_ub(doc):\n",
    "    return Integrated_model_ub(doc,X_train,y_train)\n",
    "\n",
    "#model_integrated_ub procedure\n",
    "#start time\n",
    "start_time=time.time()\n",
    "\n",
    "#Apply integrated_ub method to X_test,y_test\n",
    "Integrated_prediction_ub=X_test.apply(agent_model_integrated_ub)\n",
    "\n",
    "#save integrated_ub method output\n",
    "import pickle\n",
    "Integrated_prediction_ub.to_pickle(\"./Integrated_prediction_ub_test77.pkl\")\n",
    "\n",
    "#show run-time\n",
    "print(\"model_integrated_ub\")\n",
    "print(time.time()-start_time)"
   ]
  },
  {
   "cell_type": "code",
   "execution_count": 5,
   "metadata": {},
   "outputs": [
    {
     "name": "stdout",
     "output_type": "stream",
     "text": [
      "model_integrated_ub\n",
      "1873.5482065677643\n"
     ]
    }
   ],
   "source": [
    "#block 8th\n",
    "#random_state=87\n",
    "\n",
    "X_train, X_test, y_train, y_test = train_test_split(tackled_data['Title'],tackled_data['Categories'],test_size=0.2,random_state=87)\n",
    "\n",
    "#update X_train and y_train\n",
    "#agent method\n",
    "#for  X_test.apply() function\n",
    "def agent_model_integrated_ub(doc):\n",
    "    return Integrated_model_ub(doc,X_train,y_train)\n",
    "\n",
    "#model_integrated_ub procedure\n",
    "#start time\n",
    "start_time=time.time()\n",
    "\n",
    "#Apply integrated_ub method to X_test,y_test\n",
    "Integrated_prediction_ub=X_test.apply(agent_model_integrated_ub)\n",
    "\n",
    "#save integrated_ub method output\n",
    "import pickle\n",
    "Integrated_prediction_ub.to_pickle(\"./Integrated_prediction_ub_test87.pkl\")\n",
    "\n",
    "#show run-time\n",
    "print(\"model_integrated_ub\")\n",
    "print(time.time()-start_time)"
   ]
  },
  {
   "cell_type": "code",
   "execution_count": 6,
   "metadata": {},
   "outputs": [
    {
     "name": "stdout",
     "output_type": "stream",
     "text": [
      "model_integrated_ub\n",
      "1883.5825703144073\n"
     ]
    }
   ],
   "source": [
    "#block 9th\n",
    "#random_state=97\n",
    "\n",
    "X_train, X_test, y_train, y_test = train_test_split(tackled_data['Title'],tackled_data['Categories'],test_size=0.2,random_state=97)\n",
    "\n",
    "#update X_train and y_train\n",
    "#agent method\n",
    "#for  X_test.apply() function\n",
    "def agent_model_integrated_ub(doc):\n",
    "    return Integrated_model_ub(doc,X_train,y_train)\n",
    "\n",
    "#model_integrated_ub procedure\n",
    "#start time\n",
    "start_time=time.time()\n",
    "\n",
    "#Apply integrated_ub method to X_test,y_test\n",
    "Integrated_prediction_ub=X_test.apply(agent_model_integrated_ub)\n",
    "\n",
    "#save integrated_ub method output\n",
    "import pickle\n",
    "Integrated_prediction_ub.to_pickle(\"./Integrated_prediction_ub_test97.pkl\")\n",
    "\n",
    "#show run-time\n",
    "print(\"model_integrated_ub\")\n",
    "print(time.time()-start_time)"
   ]
  },
  {
   "cell_type": "code",
   "execution_count": 7,
   "metadata": {},
   "outputs": [
    {
     "name": "stdout",
     "output_type": "stream",
     "text": [
      "model_integrated_ub\n",
      "1897.228893995285\n"
     ]
    }
   ],
   "source": [
    "#block 10th\n",
    "#random_state=107\n",
    "\n",
    "X_train, X_test, y_train, y_test = train_test_split(tackled_data['Title'],tackled_data['Categories'],test_size=0.2,random_state=107)\n",
    "\n",
    "#update X_train and y_train\n",
    "#agent method\n",
    "#for  X_test.apply() function\n",
    "def agent_model_integrated_ub(doc):\n",
    "    return Integrated_model_ub(doc,X_train,y_train)\n",
    "\n",
    "#model_integrated_ub procedure\n",
    "#start time\n",
    "start_time=time.time()\n",
    "\n",
    "#Apply integrated_ub method to X_test,y_test\n",
    "Integrated_prediction_ub=X_test.apply(agent_model_integrated_ub)\n",
    "\n",
    "#save integrated_ub method output\n",
    "import pickle\n",
    "Integrated_prediction_ub.to_pickle(\"./Integrated_prediction_ub_test107.pkl\")\n",
    "\n",
    "#show run-time\n",
    "print(\"model_integrated_ub\")\n",
    "print(time.time()-start_time)"
   ]
  }
 ],
 "metadata": {
  "kernelspec": {
   "display_name": "Python 3",
   "language": "python",
   "name": "python3"
  },
  "language_info": {
   "codemirror_mode": {
    "name": "ipython",
    "version": 3
   },
   "file_extension": ".py",
   "mimetype": "text/x-python",
   "name": "python",
   "nbconvert_exporter": "python",
   "pygments_lexer": "ipython3",
   "version": "3.7.4"
  }
 },
 "nbformat": 4,
 "nbformat_minor": 4
}
