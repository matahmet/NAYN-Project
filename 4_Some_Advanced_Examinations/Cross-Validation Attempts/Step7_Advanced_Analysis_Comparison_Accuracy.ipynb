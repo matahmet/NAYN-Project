{
 "cells": [
  {
   "cell_type": "code",
   "execution_count": 29,
   "metadata": {},
   "outputs": [],
   "source": [
    "#block 1st\n",
    "#in this section, cases in which all models (in ub-uno based-one word based) \"fail\" or \"predict accurately\"  are investiagted\n",
    "\n",
    "#load Integrated_prediction_ub \n",
    "import pickle\n",
    "with open(\"Integrated_prediction_ub_test57.pkl\", \"rb\") as fp:\n",
    "    Integrated_prediction_ub= pickle.load(fp)\n",
    "    \n",
    "#load test and train sets\n",
    "%run ./Step3_Classifier_V10.ipynb\n",
    "    \n",
    "    "
   ]
  },
  {
   "cell_type": "code",
   "execution_count": 30,
   "metadata": {},
   "outputs": [
    {
     "data": {
      "text/plain": [
       "42308            [DÜNYA, DÜNYA, DÜNYA, DÜNYA, DÜNYA]\n",
       "19743            [DÜNYA, DÜNYA, DÜNYA, DÜNYA, DÜNYA]\n",
       "26134              [DÜNYA, SPOR, DÜNYA, DÜNYA, SPOR]\n",
       "36274             [DÜNYA, DÜNYA, DÜNYA, DÜNYA, SPOR]\n",
       "39013    [DÜNYA, Teknoloji, DÜNYA, DÜNYA, Teknoloji]\n",
       "                            ...                     \n",
       "19154            [DÜNYA, DÜNYA, DÜNYA, DÜNYA, DÜNYA]\n",
       "19512        [DÜNYA, SANAT, DÜNYA, DÜNYA, Teknoloji]\n",
       "23092             [SPOR, SANAT, DÜNYA, DÜNYA, SANAT]\n",
       "17335            [DÜNYA, SANAT, DÜNYA, DÜNYA, SANAT]\n",
       "22839        [DÜNYA, Teknoloji, DÜNYA, DÜNYA, DÜNYA]\n",
       "Name: Title, Length: 2325, dtype: object"
      ]
     },
     "execution_count": 30,
     "metadata": {},
     "output_type": "execute_result"
    }
   ],
   "source": [
    "#block 2nd\n",
    "#show prediction of 5 model based one-word (ub)\n",
    "Integrated_prediction_ub"
   ]
  },
  {
   "cell_type": "code",
   "execution_count": 31,
   "metadata": {},
   "outputs": [],
   "source": [
    "#block 3rd\n",
    "#get a copy of prediction\n",
    "results=Integrated_prediction_ub.copy()"
   ]
  },
  {
   "cell_type": "code",
   "execution_count": 32,
   "metadata": {},
   "outputs": [
    {
     "name": "stdout",
     "output_type": "stream",
     "text": [
      "15831 SPOR ['DÜNYA', 'SANAT', 'DÜNYA', 'DÜNYA', 'SANAT']\n",
      "37951 SPOR ['DÜNYA', 'DÜNYA', 'DÜNYA', 'DÜNYA', 'SANAT']\n",
      "22084 SPOR ['DÜNYA', 'DÜNYA', 'DÜNYA', 'DÜNYA', 'DÜNYA']\n",
      "15465 SPOR ['DÜNYA', 'DÜNYA', 'DÜNYA', 'DÜNYA', 'Teknoloji']\n",
      "34992 Teknoloji ['DÜNYA', 'SPOR', 'DÜNYA', 'DÜNYA', 'SPOR']\n",
      "23936 Teknoloji ['DÜNYA', 'DÜNYA', 'DÜNYA', 'DÜNYA', 'DÜNYA']\n",
      "18695 SPOR ['DÜNYA', 'DÜNYA', 'DÜNYA', 'DÜNYA', 'DÜNYA']\n",
      "32594 SPOR ['DÜNYA', 'Teknoloji', 'DÜNYA', 'DÜNYA', 'DÜNYA']\n",
      "20205 SANAT ['DÜNYA', 'SPOR', 'DÜNYA', 'DÜNYA', 'SPOR']\n",
      "22690 SANAT ['DÜNYA', 'DÜNYA', 'DÜNYA', 'DÜNYA', 'DÜNYA']\n",
      "20516 SPOR ['DÜNYA', 'DÜNYA', 'DÜNYA', 'DÜNYA', 'DÜNYA']\n",
      "29318 SPOR ['DÜNYA', 'DÜNYA', 'DÜNYA', 'DÜNYA', 'Teknoloji']\n",
      "13596 SPOR ['DÜNYA', 'DÜNYA', 'DÜNYA', 'DÜNYA', 'SANAT']\n",
      "43582 SANAT ['DÜNYA', 'DÜNYA', 'DÜNYA', 'DÜNYA', 'DÜNYA']\n",
      "26865 Teknoloji ['DÜNYA', 'DÜNYA', 'DÜNYA', 'DÜNYA', 'DÜNYA']\n",
      "23495 Teknoloji ['DÜNYA', 'SANAT', 'DÜNYA', 'DÜNYA', 'SANAT']\n",
      "38225 SANAT ['SPOR', 'SPOR', 'DÜNYA', 'DÜNYA', 'SPOR']\n",
      "22963 Teknoloji ['DÜNYA', 'DÜNYA', 'DÜNYA', 'DÜNYA', 'DÜNYA']\n",
      "42517 SANAT ['DÜNYA', 'SPOR', 'DÜNYA', 'DÜNYA', 'SPOR']\n",
      "31424 SANAT ['DÜNYA', 'DÜNYA', 'DÜNYA', 'DÜNYA', 'Teknoloji']\n",
      "31183 Teknoloji ['DÜNYA', 'SANAT', 'DÜNYA', 'DÜNYA', 'SANAT']\n",
      "20349 SPOR ['DÜNYA', 'DÜNYA', 'DÜNYA', 'DÜNYA', 'DÜNYA']\n",
      "15922 SPOR ['DÜNYA', 'DÜNYA', 'DÜNYA', 'DÜNYA', 'DÜNYA']\n",
      "22116 SANAT ['SPOR', 'SPOR', 'DÜNYA', 'DÜNYA', 'SPOR']\n",
      "42780 Teknoloji ['DÜNYA', 'DÜNYA', 'DÜNYA', 'DÜNYA', 'DÜNYA']\n",
      "18723 SPOR ['DÜNYA', 'SANAT', 'DÜNYA', 'DÜNYA', 'SANAT']\n",
      "21978 SANAT ['DÜNYA', 'Teknoloji', 'DÜNYA', 'DÜNYA', 'Teknoloji']\n",
      "22751 Teknoloji ['DÜNYA', 'SPOR', 'DÜNYA', 'DÜNYA', 'SPOR']\n",
      "24391 SANAT ['DÜNYA', 'Teknoloji', 'DÜNYA', 'DÜNYA', 'Teknoloji']\n",
      "31463 SANAT ['SPOR', 'DÜNYA', 'DÜNYA', 'DÜNYA', 'SPOR']\n",
      "23751 Teknoloji ['DÜNYA', 'DÜNYA', 'DÜNYA', 'DÜNYA', 'DÜNYA']\n",
      "29481 SPOR ['DÜNYA', 'DÜNYA', 'DÜNYA', 'DÜNYA', 'Teknoloji']\n",
      "32\n"
     ]
    }
   ],
   "source": [
    "#block 4th\n",
    "#indexes of doc in which all predicts fail\n",
    "all_failure=[]\n",
    "\n",
    "for i in range(0, len(y_test)):\n",
    "    #the case in which no model 1-5 predict accurately\n",
    "    if not(y_test[y_test.index[i]] in results[y_test.index[i]]):\n",
    "        print(y_test.index[i],y_test[y_test.index[i]],results[y_test.index[i]] )\n",
    "        all_failure.append(y_test.index[i])\n",
    "      \n",
    "    \n",
    "    #number of elements of  all_failure\n",
    "print(len(all_failure))"
   ]
  },
  {
   "cell_type": "code",
   "execution_count": 35,
   "metadata": {},
   "outputs": [
    {
     "name": "stdout",
     "output_type": "stream",
     "text": [
      "0.03125\n",
      "[[ 0 10 12  9]\n",
      " [ 0  0  0  0]\n",
      " [ 0  0  1  0]\n",
      " [ 0  0  0  0]]\n",
      "32594    SPOR\n",
      "Name: Categories, dtype: object\n",
      "32594    'kulüpler birliği anlaştı: kulüp kanalları kap...\n",
      "Name: Title, dtype: object\n"
     ]
    }
   ],
   "source": [
    "#block 5th \n",
    "#performance of NAYN classifier over All-failure set\n",
    "\n",
    "#load NAYN_test \n",
    "import pickle\n",
    "with open(\"NAYN_predicted_test57.pkl\", \"rb\") as fp:\n",
    "    NAYN_test= pickle.load(fp)\n",
    "    \n",
    "from sklearn.metrics import confusion_matrix,  accuracy_score\n",
    "#accuracy score of NAYN classifier over all_failure set\n",
    "print(accuracy_score(NAYN_test[all_failure],y_test[all_failure]))\n",
    "#confusion matrix of NAYN classifier over all_failure set\n",
    "print(confusion_matrix(NAYN_test[all_failure],y_test[all_failure]))\n",
    "#get one index that all models fail but NAYN classifier predicts accurately \n",
    "temp=(y_test[all_failure]==NAYN_test[all_failure])\n",
    "print(y_test[temp[temp==True].index])\n",
    "#get relevant doc\n",
    "print(X_test[temp[temp==True].index])\n"
   ]
  },
  {
   "cell_type": "code",
   "execution_count": 40,
   "metadata": {},
   "outputs": [
    {
     "name": "stdout",
     "output_type": "stream",
     "text": [
      "indices of doc that only model 1 predicts accurately\n",
      "31513 SPOR\n",
      "37714 SPOR\n",
      "15343 SPOR\n",
      "18364 SPOR\n",
      "40912 SANAT\n",
      "19694 SPOR\n",
      "32339 SPOR\n",
      "24495 SPOR\n",
      "17592 DÜNYA\n",
      "37934 SPOR\n",
      "15119 SPOR\n",
      "18036 SANAT\n",
      "21738 SPOR\n",
      "16425 SPOR\n",
      "28976 SPOR\n",
      "14707 SPOR\n",
      "43518 SPOR\n",
      "28610 SPOR\n",
      "35761 SPOR\n",
      "19343 SPOR\n",
      "14274 SPOR\n",
      "37933 SANAT\n",
      "28383 SPOR\n",
      "12975 SPOR\n",
      "25205 SPOR\n",
      "23148 SPOR\n",
      "15112 SPOR\n",
      "Total number: 27\n",
      "_______________________________\n",
      "indices of doc that only model 2 predicts accurately\n",
      "22202 SANAT\n",
      "40578 SANAT\n",
      "23143 SANAT\n",
      "25209 Teknoloji\n",
      "16516 SPOR\n",
      "31000 Teknoloji\n",
      "32993 SANAT\n",
      "43202 SANAT\n",
      "21781 SANAT\n",
      "37823 SANAT\n",
      "23237 Teknoloji\n",
      "26239 SPOR\n",
      "Total number: 12\n",
      "_______________________________\n",
      "indices of doc that only model 3 predicts accurately\n",
      "15057 DÜNYA\n",
      "36013 DÜNYA\n",
      "14252 DÜNYA\n",
      "38285 DÜNYA\n",
      "25662 SPOR\n",
      "23165 DÜNYA\n",
      "38148 DÜNYA\n",
      "33809 DÜNYA\n",
      "43718 DÜNYA\n",
      "21413 DÜNYA\n",
      "Total number: 10\n",
      "_______________________________\n",
      "indices of doc that only model 4 predicts accurately\n",
      "19928 SPOR\n",
      "16511 DÜNYA\n",
      "27331 SPOR\n",
      "20951 SANAT\n",
      "Total number: 4\n",
      "_______________________________\n",
      "indices of doc that only model 5 predicts accurately\n",
      "29817 Teknoloji\n",
      "25294 SPOR\n",
      "25027 SANAT\n",
      "23736 Teknoloji\n",
      "17453 SANAT\n",
      "25121 SPOR\n",
      "Total number: 6\n",
      "_______________________________\n"
     ]
    }
   ],
   "source": [
    "#block 6th\n",
    "#indexes that only one model predicts accurately\n",
    "\n",
    "for j in range(0,5):\n",
    "    print(\"indices of doc that only model\",(j+1),\"predicts accurately\")\n",
    "    k=0\n",
    "    for i in range(0, len(y_test)):\n",
    "        temp=results[y_test.index[i]].copy()\n",
    "        p=y_test[y_test.index[i]]==temp[j]    \n",
    "        del temp[j]\n",
    "        q=not(y_test[y_test.index[i]] in temp)\n",
    "        if p and q  :\n",
    "            print(y_test.index[i],y_test[y_test.index[i]])\n",
    "            k=k+1\n",
    "    print(\"Total number:\",k)\n",
    "    print(\"_______________________________\")\n",
    "       \n",
    "\n"
   ]
  },
  {
   "cell_type": "code",
   "execution_count": 41,
   "metadata": {},
   "outputs": [],
   "source": [
    "#block 7th\n",
    "#set of indicies that models predict accurately\n",
    "#firstly construct as list\n",
    "accuracy_lists=[[],[],[],[],[]]\n",
    "\n",
    "\n",
    "for i in range(0, len(y_test)):\n",
    "    for j in range(0,5):\n",
    "        #prediction is accurate ?\n",
    "        if y_test[y_test.index[i]]==results[y_test.index[i]][j]:\n",
    "            accuracy_lists[j].append(y_test.index[i])\n",
    "        \n",
    "        \n",
    "        \n",
    "#get set of lists for each prediction model       \n",
    "accuracy_sets=[]\n",
    "\n",
    "for j in range(0,5):        \n",
    "        accuracy_sets.append(set(accuracy_lists[j]))\n",
    "\n",
    "    \n",
    "\n"
   ]
  },
  {
   "cell_type": "code",
   "execution_count": 45,
   "metadata": {},
   "outputs": [
    {
     "name": "stdout",
     "output_type": "stream",
     "text": [
      "intersection of all element of accuracy_sets\n",
      "0.36\n",
      "union of all element of accuracy_sets\n",
      "0.99\n"
     ]
    }
   ],
   "source": [
    "#block 8th\n",
    "#the rate of accuracy for case all model predict accurately\n",
    "print(\"intersection of all element of accuracy_sets\")\n",
    "print(round(len(accuracy_sets[0].intersection(accuracy_sets[1],accuracy_sets[2],accuracy_sets[3],accuracy_sets[4]))/len(y_test),2))\n",
    "#the rate of accuracy for case at least one model predicts accurately\n",
    "print(\"union of all element of accuracy_sets\")\n",
    "print(round(len(accuracy_sets[0].union(accuracy_sets[1],accuracy_sets[2],accuracy_sets[3],accuracy_sets[4]))/len(y_test),2))"
   ]
  },
  {
   "cell_type": "code",
   "execution_count": 65,
   "metadata": {},
   "outputs": [
    {
     "name": "stdout",
     "output_type": "stream",
     "text": [
      "rate of SPOR\n",
      "0.04\n",
      "rate of DÜNYA\n",
      "0.96\n"
     ]
    }
   ],
   "source": [
    "#block 9th\n",
    "#categories of cases that all model predict accurately\n",
    "y_test[list(accuracy_sets[0].intersection(accuracy_sets[1],accuracy_sets[2],accuracy_sets[3],accuracy_sets[4]))].unique()\n",
    "#rate of those categories\n",
    "temp=y_test[list(accuracy_sets[0].intersection(accuracy_sets[1],accuracy_sets[2],accuracy_sets[3],accuracy_sets[4]))]==\"SPOR\"\n",
    "s=len(temp[temp==True])\n",
    "w=len(temp[temp==False])\n",
    "print(\"rate of SPOR\")\n",
    "print(round(s/(s+w),2))\n",
    "print(\"rate of DÜNYA\")\n",
    "print(round(1-s/(s+w),2))\n"
   ]
  }
 ],
 "metadata": {
  "kernelspec": {
   "display_name": "Python 3",
   "language": "python",
   "name": "python3"
  },
  "language_info": {
   "codemirror_mode": {
    "name": "ipython",
    "version": 3
   },
   "file_extension": ".py",
   "mimetype": "text/x-python",
   "name": "python",
   "nbconvert_exporter": "python",
   "pygments_lexer": "ipython3",
   "version": "3.7.4"
  }
 },
 "nbformat": 4,
 "nbformat_minor": 4
}
