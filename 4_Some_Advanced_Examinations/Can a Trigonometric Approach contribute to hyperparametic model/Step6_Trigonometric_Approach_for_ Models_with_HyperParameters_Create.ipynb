{
 "cells": [
  {
   "cell_type": "code",
   "execution_count": 2,
   "metadata": {},
   "outputs": [
    {
     "name": "stdout",
     "output_type": "stream",
     "text": [
      "_________________hype1________________\n",
      "DÜNYA\n",
      "DÜNYA\n",
      "DÜNYA\n",
      "DÜNYA\n",
      "DÜNYA\n",
      "DÜNYA\n",
      "DÜNYA\n",
      "DÜNYA\n",
      "DÜNYA\n",
      "DÜNYA\n",
      "DÜNYA\n",
      "_________________hype2________________\n",
      "DÜNYA\n",
      "DÜNYA\n",
      "DÜNYA\n",
      "DÜNYA\n",
      "DÜNYA\n",
      "DÜNYA\n",
      "DÜNYA\n",
      "DÜNYA\n",
      "DÜNYA\n",
      "DÜNYA\n",
      "DÜNYA\n",
      "_________________hype3________________\n",
      "Teknoloji\n",
      "Teknoloji\n",
      "Teknoloji\n",
      "Teknoloji\n",
      "Teknoloji\n",
      "Teknoloji\n",
      "Teknoloji\n",
      "Teknoloji\n",
      "Teknoloji\n",
      "Teknoloji\n",
      "Teknoloji\n"
     ]
    }
   ],
   "source": [
    "\n",
    "\n",
    "#for constants and trionometric functions\n",
    "import numpy as np\n",
    "#Reload the solutions\n",
    "import pickle\n",
    "\n",
    "\n",
    "theta=[ round((i*np.pi)/2*0.1,4) for i in range(0,11) ]\n",
    "par_theta=[[round(np.sin(i),3),round(np.cos(i),3)] for i in theta]\n",
    "\n",
    "\n",
    "#predictions based on prediction model with hypermetre\n",
    "\n",
    "with open(\"Integrated_prediction_hype1_test57.pkl\", \"rb\") as fp:\n",
    "    Predicts_hype= pickle.load(fp)\n",
    "    \n",
    "#block 1st\n",
    "\n",
    "#import methods and datas in Predction Models with relevant objects\n",
    "%run ./Step4_Prediction_Models_hype.ipynb\n",
    "    \n",
    "    \n",
    "    "
   ]
  },
  {
   "cell_type": "code",
   "execution_count": 3,
   "metadata": {},
   "outputs": [
    {
     "data": {
      "text/plain": [
       "(14573                          trump'ın oğlu ifade verecek\n",
       " 39272    erdoğan: prens selman'ın inanamadığım bir ceva...\n",
       " 36151    trump'ın açıklamaları sonrası suudi borsasında...\n",
       " 38390                 cnn muhabiri basın kartını geri aldı\n",
       " 36414    afrika'da bir ilk: burkina faso'da sıtmayla mü...\n",
       "                                ...                        \n",
       " 32205    formula 1 şampiyonu lewis hamilton yunan adası...\n",
       " 19937               yellow friday nedeniyle gs store çöktü\n",
       " 21255    rus sporcunun doping testi olumlu çıktı; ülke ...\n",
       " 21040    whatsapp'taki 'herkesten sil' özelliğinin işle...\n",
       " 20903    isviçre'de hava -27'ye kadar düşerek 30 yıllık...\n",
       " Name: Title, Length: 9297, dtype: object,\n",
       " 42308    atina'da sputnik için çalışan muhabire saldırı...\n",
       " 19743           ‘abd’nin yeni bombardıman için parası yok’\n",
       " 26134    paşinyan: karabağ’ın uluslararası çapta tanınm...\n",
       " 36274    israil'den 'kaşıkçı' olayına ilişkin ilk yorum...\n",
       " 39013                  elon musk: işçiler 80 saat çalışsın\n",
       "                                ...                        \n",
       " 19154    'abd, avrupa'ya 3 nükleer bombardıman uçağı gö...\n",
       " 19512    yeni zelanda başbakanı'ndan 'tarihe geçecek' a...\n",
       " 23092          marvia malik: pakistan'ın ilk trans spikeri\n",
       " 17335    jennifer lawrence çıplak fotoğraf skandalı son...\n",
       " 22839    fbı, iranlı hackerları gizli bilgi çalmakla su...\n",
       " Name: Title, Length: 2325, dtype: object,\n",
       " 14573    DÜNYA\n",
       " 39272    DÜNYA\n",
       " 36151    DÜNYA\n",
       " 38390    DÜNYA\n",
       " 36414    DÜNYA\n",
       "          ...  \n",
       " 32205    DÜNYA\n",
       " 19937     SPOR\n",
       " 21255     SPOR\n",
       " 21040    DÜNYA\n",
       " 20903    DÜNYA\n",
       " Name: Categories, Length: 9297, dtype: object,\n",
       " 42308    DÜNYA\n",
       " 19743    DÜNYA\n",
       " 26134    DÜNYA\n",
       " 36274    DÜNYA\n",
       " 39013    DÜNYA\n",
       "          ...  \n",
       " 19154    DÜNYA\n",
       " 19512    DÜNYA\n",
       " 23092    DÜNYA\n",
       " 17335    DÜNYA\n",
       " 22839    DÜNYA\n",
       " Name: Categories, Length: 2325, dtype: object)"
      ]
     },
     "execution_count": 3,
     "metadata": {},
     "output_type": "execute_result"
    }
   ],
   "source": [
    "X_train, X_test, y_train, y_test"
   ]
  },
  {
   "cell_type": "code",
   "execution_count": 5,
   "metadata": {},
   "outputs": [
    {
     "name": "stdout",
     "output_type": "stream",
     "text": [
      "model_integrated_trigo_hype\n",
      "2022.088383436203\n"
     ]
    }
   ],
   "source": [
    "#agent method\n",
    "#for  X_test.apply() function\n",
    "def agent_Integrated_hype(doc):\n",
    "    return Integrated_model_hype1(doc,X_train,y_train,par_theta)\n",
    "\n",
    "import time\n",
    "#model_integrated_ub procedure\n",
    "#start time\n",
    "start_time=time.time()\n",
    "\n",
    "\n",
    "\n",
    "\n",
    "#Apply integrated_ub method to X_test,y_test\n",
    "Integrated_prediction_trigo_hype=X_test.apply(agent_Integrated_hype)\n",
    "\n",
    "#save integrated_ub method output\n",
    "\n",
    "Integrated_prediction_trigo_hype.to_pickle(\"./Integrated_prediction_trigo_hype_test57.pkl\")\n",
    "\n",
    "#show run-time\n",
    "print(\"model_integrated_trigo_hype\")\n",
    "print(time.time()-start_time)"
   ]
  },
  {
   "cell_type": "code",
   "execution_count": 6,
   "metadata": {},
   "outputs": [
    {
     "data": {
      "text/plain": [
       "42308    [DÜNYA, DÜNYA, DÜNYA, DÜNYA, DÜNYA, DÜNYA, DÜN...\n",
       "19743    [DÜNYA, DÜNYA, DÜNYA, DÜNYA, DÜNYA, DÜNYA, Tek...\n",
       "26134    [SPOR, SPOR, SPOR, SPOR, SPOR, SPOR, SANAT, SA...\n",
       "36274    [SPOR, SPOR, SPOR, SPOR, SPOR, SPOR, SPOR, DÜN...\n",
       "39013    [Teknoloji, Teknoloji, Teknoloji, Teknoloji, T...\n",
       "                               ...                        \n",
       "19154    [DÜNYA, DÜNYA, DÜNYA, DÜNYA, DÜNYA, DÜNYA, DÜN...\n",
       "19512    [SPOR, SPOR, Teknoloji, Teknoloji, Teknoloji, ...\n",
       "23092    [SANAT, SANAT, SANAT, SANAT, SANAT, SANAT, SPO...\n",
       "17335    [SANAT, SANAT, SANAT, SANAT, SANAT, SANAT, SAN...\n",
       "22839    [DÜNYA, DÜNYA, DÜNYA, DÜNYA, DÜNYA, DÜNYA, DÜN...\n",
       "Name: Title, Length: 2325, dtype: object"
      ]
     },
     "execution_count": 6,
     "metadata": {},
     "output_type": "execute_result"
    }
   ],
   "source": [
    "Integrated_prediction_trigo_hype\n"
   ]
  }
 ],
 "metadata": {
  "kernelspec": {
   "display_name": "Python 3",
   "language": "python",
   "name": "python3"
  },
  "language_info": {
   "codemirror_mode": {
    "name": "ipython",
    "version": 3
   },
   "file_extension": ".py",
   "mimetype": "text/x-python",
   "name": "python",
   "nbconvert_exporter": "python",
   "pygments_lexer": "ipython3",
   "version": "3.7.6"
  }
 },
 "nbformat": 4,
 "nbformat_minor": 4
}
