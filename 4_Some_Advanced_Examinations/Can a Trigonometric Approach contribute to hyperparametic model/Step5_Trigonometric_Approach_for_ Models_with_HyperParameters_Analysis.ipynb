{
 "cells": [
  {
   "cell_type": "code",
   "execution_count": 3,
   "metadata": {},
   "outputs": [],
   "source": [
    "\n",
    "#load data\n",
    "import pickle\n",
    "\n",
    "with open(\"Integrated_prediction_trigo_hype_test57.pkl\", \"rb\") as fp:\n",
    "    results_trigo= pickle.load(fp)\n",
    "\n",
    "with open(\"Integrated_prediction_hype1_test57.pkl\", \"rb\") as fp:\n",
    "    results_hype= pickle.load(fp)\n",
    "    \n",
    "with open(\"y_test_57.pkl\", \"rb\") as fp:\n",
    "    y_test= pickle.load(fp)"
   ]
  },
  {
   "cell_type": "code",
   "execution_count": 16,
   "metadata": {},
   "outputs": [],
   "source": [
    "from sklearn.metrics import confusion_matrix,  accuracy_score\n",
    "import pandas as pd\n",
    "\n",
    "def result_to_predict(result,j):\n",
    "    p=[]\n",
    "    for i in result:\n",
    "        p.append(i[j])\n",
    "        \n",
    "    predict=pd.Series(p,index=result.index)\n",
    "    return predict\n",
    "\n",
    "\n",
    "\n",
    "def acc_sc_hype(test,result):\n",
    "    n=len(result[result.index[0]])\n",
    "    output=[]\n",
    "    for i in range(0,n):\n",
    "        output.append(round(accuracy_score(test,result_to_predict(result,i)),4))\n",
    "        \n",
    "        \n",
    "    return output\n",
    "\n",
    "\n",
    "\n"
   ]
  },
  {
   "cell_type": "code",
   "execution_count": 32,
   "metadata": {},
   "outputs": [
    {
     "data": {
      "text/plain": [
       "[0.5256,\n",
       " 0.5295,\n",
       " 0.5368,\n",
       " 0.5441,\n",
       " 0.5424,\n",
       " 0.5535,\n",
       " 0.5617,\n",
       " 0.5695,\n",
       " 0.569,\n",
       " 0.5935,\n",
       " 0.7923]"
      ]
     },
     "execution_count": 32,
     "metadata": {},
     "output_type": "execute_result"
    }
   ],
   "source": [
    "acc_score_trigo=acc_sc_hype(y_test,results_trigo)\n",
    "acc_score_trigo"
   ]
  },
  {
   "cell_type": "code",
   "execution_count": 21,
   "metadata": {},
   "outputs": [
    {
     "data": {
      "text/plain": [
       "[0.5256,\n",
       " 0.5282,\n",
       " 0.5346,\n",
       " 0.5424,\n",
       " 0.5424,\n",
       " 0.5535,\n",
       " 0.5617,\n",
       " 0.5677,\n",
       " 0.5712,\n",
       " 0.6125,\n",
       " 0.5256]"
      ]
     },
     "execution_count": 21,
     "metadata": {},
     "output_type": "execute_result"
    }
   ],
   "source": [
    "acc_score_uniform=acc_sc_hype(y_test,results_hype)\n",
    "acc_score_uniform"
   ]
  },
  {
   "cell_type": "code",
   "execution_count": 55,
   "metadata": {},
   "outputs": [],
   "source": [
    "#for constants and trionometric functions\n",
    "import numpy as np\n",
    "\n",
    "theta=[ round((i*np.pi)/2*0.1,4) for i in range(0,11) ]\n",
    "sin_theta=[round(np.sin(i),3) for i in theta]\n",
    "x=[ round(i*0.1,1) for i in range(0,11) ]\n"
   ]
  },
  {
   "cell_type": "code",
   "execution_count": 75,
   "metadata": {},
   "outputs": [
    {
     "name": "stdout",
     "output_type": "stream",
     "text": [
      "[0.0, 0.156, 0.309, 0.454, 0.588, 0.707, 0.809, 0.891, 0.951, 0.988, 1.0]\n",
      "[0.5256, 0.5295, 0.5368, 0.5441, 0.5424, 0.5535, 0.5617, 0.5695, 0.569, 0.5935, 0.7923]\n",
      "[0.5256, 0.5282, 0.5346, 0.5424, 0.5424, 0.5535, 0.5617, 0.5677, 0.5712, 0.6125, 0.5256]\n"
     ]
    },
    {
     "data": {
      "text/plain": [
       "[0.0, 0.1, 0.2, 0.3, 0.4, 0.5, 0.6, 0.7, 0.8, 0.9, 1.0]"
      ]
     },
     "execution_count": 75,
     "metadata": {},
     "output_type": "execute_result"
    }
   ],
   "source": [
    "print(sin_theta)\n",
    "print(acc_score_trigo)\n",
    "print(acc_score_uniform)\n",
    "x"
   ]
  },
  {
   "cell_type": "code",
   "execution_count": 77,
   "metadata": {},
   "outputs": [
    {
     "data": {
      "text/plain": [
       "[[0.5256,\n",
       "  0.5282,\n",
       "  0.5346,\n",
       "  0.5424,\n",
       "  0.5424,\n",
       "  0.5535,\n",
       "  0.5617,\n",
       "  0.5677,\n",
       "  0.5712,\n",
       "  0.6125,\n",
       "  0.5256],\n",
       " [0.5185,\n",
       "  0.5174,\n",
       "  0.5201,\n",
       "  0.5195,\n",
       "  0.513,\n",
       "  0.5228,\n",
       "  0.5223,\n",
       "  0.5168,\n",
       "  0.5125,\n",
       "  0.5662,\n",
       "  0.5185],\n",
       " [0.5664,\n",
       "  0.5865,\n",
       "  0.609,\n",
       "  0.6441,\n",
       "  0.6692,\n",
       "  0.6892,\n",
       "  0.7419,\n",
       "  0.782,\n",
       "  0.8095,\n",
       "  0.817,\n",
       "  0.5664],\n",
       " [0.5536,\n",
       "  0.5536,\n",
       "  0.5714,\n",
       "  0.5893,\n",
       "  0.5893,\n",
       "  0.5893,\n",
       "  0.5714,\n",
       "  0.6607,\n",
       "  0.7321,\n",
       "  0.6429,\n",
       "  0.5536],\n",
       " [0.3571,\n",
       "  0.3571,\n",
       "  0.3571,\n",
       "  0.5,\n",
       "  0.5714,\n",
       "  0.5714,\n",
       "  0.5714,\n",
       "  0.6786,\n",
       "  0.7143,\n",
       "  0.6786,\n",
       "  0.3571]]"
      ]
     },
     "execution_count": 77,
     "metadata": {},
     "output_type": "execute_result"
    }
   ],
   "source": [
    "main_categories=[\"DÜNYA\",\"SPOR\",\"SANAT\",\"Teknoloji\"]\n",
    "\n",
    "acc_all_with_uniform=[acc_score_uniform]\n",
    "\n",
    "for category in main_categories:\n",
    "    cat_ind=y_test[y_test==category].index\n",
    "    cat_test_y=y_test[cat_ind]\n",
    "    cat_results=results_hype[cat_ind]\n",
    "    acc_all_with_uniform.append(acc_sc_hype(cat_test_y,cat_results))\n",
    "    \n",
    "\n",
    "\n",
    "acc_all_with_uniform"
   ]
  },
  {
   "cell_type": "code",
   "execution_count": 78,
   "metadata": {},
   "outputs": [
    {
     "data": {
      "text/plain": [
       "[[0.5256,\n",
       "  0.5295,\n",
       "  0.5368,\n",
       "  0.5441,\n",
       "  0.5424,\n",
       "  0.5535,\n",
       "  0.5617,\n",
       "  0.5695,\n",
       "  0.569,\n",
       "  0.5935,\n",
       "  0.7923],\n",
       " [0.5185,\n",
       "  0.5185,\n",
       "  0.5168,\n",
       "  0.519,\n",
       "  0.5114,\n",
       "  0.5228,\n",
       "  0.5261,\n",
       "  0.5217,\n",
       "  0.5114,\n",
       "  0.5418,\n",
       "  1.0],\n",
       " [0.5664,\n",
       "  0.589,\n",
       "  0.6266,\n",
       "  0.6541,\n",
       "  0.6742,\n",
       "  0.6892,\n",
       "  0.7243,\n",
       "  0.7794,\n",
       "  0.807,\n",
       "  0.8145,\n",
       "  0.0],\n",
       " [0.5536,\n",
       "  0.5536,\n",
       "  0.5893,\n",
       "  0.5893,\n",
       "  0.6071,\n",
       "  0.5893,\n",
       "  0.5714,\n",
       "  0.6071,\n",
       "  0.6964,\n",
       "  0.6429,\n",
       "  0.0],\n",
       " [0.3571,\n",
       "  0.3571,\n",
       "  0.4643,\n",
       "  0.5357,\n",
       "  0.5714,\n",
       "  0.5714,\n",
       "  0.5714,\n",
       "  0.6429,\n",
       "  0.7143,\n",
       "  0.75,\n",
       "  0.0]]"
      ]
     },
     "execution_count": 78,
     "metadata": {},
     "output_type": "execute_result"
    }
   ],
   "source": [
    "main_categories=[\"DÜNYA\",\"SPOR\",\"SANAT\",\"Teknoloji\"]\n",
    "\n",
    "acc_all_with_trigo=[acc_score_trigo]\n",
    "\n",
    "for category in main_categories:\n",
    "    cat_ind=y_test[y_test==category].index\n",
    "    cat_test_y=y_test[cat_ind]\n",
    "    cat_results=results_trigo[cat_ind]\n",
    "    acc_all_with_trigo.append(acc_sc_hype(cat_test_y,cat_results))\n",
    "    \n",
    "\n",
    "\n",
    "acc_all_with_trigo"
   ]
  },
  {
   "cell_type": "code",
   "execution_count": 80,
   "metadata": {},
   "outputs": [
    {
     "name": "stdout",
     "output_type": "stream",
     "text": [
      "[[0.5256, 0.5295, 0.5368, 0.5441, 0.5424, 0.5535, 0.5617, 0.5695, 0.569, 0.5935, 0.7923], [0.5185, 0.5185, 0.5168, 0.519, 0.5114, 0.5228, 0.5261, 0.5217, 0.5114, 0.5418, 1.0], [0.5664, 0.589, 0.6266, 0.6541, 0.6742, 0.6892, 0.7243, 0.7794, 0.807, 0.8145, 0.0], [0.5536, 0.5536, 0.5893, 0.5893, 0.6071, 0.5893, 0.5714, 0.6071, 0.6964, 0.6429, 0.0], [0.3571, 0.3571, 0.4643, 0.5357, 0.5714, 0.5714, 0.5714, 0.6429, 0.7143, 0.75, 0.0]]\n"
     ]
    }
   ],
   "source": [
    "print(acc_all_with_trigo)"
   ]
  },
  {
   "cell_type": "code",
   "execution_count": 81,
   "metadata": {},
   "outputs": [
    {
     "name": "stdout",
     "output_type": "stream",
     "text": [
      "[[0.5256, 0.5282, 0.5346, 0.5424, 0.5424, 0.5535, 0.5617, 0.5677, 0.5712, 0.6125, 0.5256], [0.5185, 0.5174, 0.5201, 0.5195, 0.513, 0.5228, 0.5223, 0.5168, 0.5125, 0.5662, 0.5185], [0.5664, 0.5865, 0.609, 0.6441, 0.6692, 0.6892, 0.7419, 0.782, 0.8095, 0.817, 0.5664], [0.5536, 0.5536, 0.5714, 0.5893, 0.5893, 0.5893, 0.5714, 0.6607, 0.7321, 0.6429, 0.5536], [0.3571, 0.3571, 0.3571, 0.5, 0.5714, 0.5714, 0.5714, 0.6786, 0.7143, 0.6786, 0.3571]]\n"
     ]
    }
   ],
   "source": [
    "print(acc_all_with_uniform)"
   ]
  },
  {
   "cell_type": "code",
   "execution_count": 87,
   "metadata": {},
   "outputs": [
    {
     "data": {
      "text/plain": [
       "Text(0, 0.5, 'Accuracy Rates')"
      ]
     },
     "execution_count": 87,
     "metadata": {},
     "output_type": "execute_result"
    },
    {
     "data": {
      "image/png": "[encoded data removed]",
      "text/plain": [
       "<Figure size 432x288 with 1 Axes>"
      ]
     },
     "metadata": {
      "needs_background": "light"
     },
     "output_type": "display_data"
    }
   ],
   "source": [
    "import matplotlib.pyplot as plt\n",
    "k=0\n",
    "plt.title(\"Category:ALL\")\n",
    "plt.scatter(x,acc_all_with_uniform[k],c=\"b\")\n",
    "plt.scatter(sin_theta,acc_all_with_trigo[k],c='r')\n",
    "plt.plot(x,acc_all_with_uniform[k],c=\"b\")\n",
    "plt.plot(sin_theta,acc_all_with_trigo[k],c='r')\n",
    "plt.ylim(0, 1)\n",
    "plt.xlabel(\"alpha\")\n",
    "plt.ylabel(\"Accuracy Rates\")"
   ]
  },
  {
   "cell_type": "code",
   "execution_count": 88,
   "metadata": {},
   "outputs": [
    {
     "data": {
      "text/plain": [
       "Text(0, 0.5, 'Accuracy Rates')"
      ]
     },
     "execution_count": 88,
     "metadata": {},
     "output_type": "execute_result"
    },
    {
     "data": {
      "image/png": "[encoded data removed]",
      "text/plain": [
       "<Figure size 432x288 with 1 Axes>"
      ]
     },
     "metadata": {
      "needs_background": "light"
     },
     "output_type": "display_data"
    }
   ],
   "source": [
    "k=1\n",
    "plt.title(\"Category:DÜNYA\")\n",
    "plt.scatter(x,acc_all_with_uniform[k],c=\"b\")\n",
    "plt.scatter(sin_theta,acc_all_with_trigo[k],c='r')\n",
    "plt.plot(x,acc_all_with_uniform[k],c=\"b\")\n",
    "plt.plot(sin_theta,acc_all_with_trigo[k],c='r')\n",
    "plt.ylim(0, 1)\n",
    "plt.xlabel(\"alpha\")\n",
    "plt.ylabel(\"Accuracy Rates\")"
   ]
  },
  {
   "cell_type": "code",
   "execution_count": 89,
   "metadata": {},
   "outputs": [
    {
     "data": {
      "text/plain": [
       "Text(0, 0.5, 'Accuracy Rates')"
      ]
     },
     "execution_count": 89,
     "metadata": {},
     "output_type": "execute_result"
    },
    {
     "data": {
      "image/png": "[encoded data removed]",
      "text/plain": [
       "<Figure size 432x288 with 1 Axes>"
      ]
     },
     "metadata": {
      "needs_background": "light"
     },
     "output_type": "display_data"
    }
   ],
   "source": [
    "k=2\n",
    "plt.title(\"Category:SPOR\")\n",
    "plt.scatter(x,acc_all_with_uniform[k],c=\"b\")\n",
    "plt.scatter(sin_theta,acc_all_with_trigo[k],c='r')\n",
    "plt.plot(x,acc_all_with_uniform[k],c=\"b\")\n",
    "plt.plot(sin_theta,acc_all_with_trigo[k],c='r')\n",
    "plt.ylim(0, 1)\n",
    "plt.xlabel(\"alpha\")\n",
    "plt.ylabel(\"Accuracy Rates\")"
   ]
  },
  {
   "cell_type": "code",
   "execution_count": 90,
   "metadata": {},
   "outputs": [
    {
     "data": {
      "text/plain": [
       "Text(0, 0.5, 'Accuracy Rates')"
      ]
     },
     "execution_count": 90,
     "metadata": {},
     "output_type": "execute_result"
    },
    {
     "data": {
      "image/png": "[encoded data removed]",
      "text/plain": [
       "<Figure size 432x288 with 1 Axes>"
      ]
     },
     "metadata": {
      "needs_background": "light"
     },
     "output_type": "display_data"
    }
   ],
   "source": [
    "k=3\n",
    "plt.title(\"Category:SANAT\")\n",
    "plt.scatter(x,acc_all_with_uniform[k],c=\"b\")\n",
    "plt.scatter(sin_theta,acc_all_with_trigo[k],c='r')\n",
    "plt.plot(x,acc_all_with_uniform[k],c=\"b\")\n",
    "plt.plot(sin_theta,acc_all_with_trigo[k],c='r')\n",
    "plt.ylim(0, 1)\n",
    "plt.xlabel(\"alpha\")\n",
    "plt.ylabel(\"Accuracy Rates\")"
   ]
  },
  {
   "cell_type": "code",
   "execution_count": 91,
   "metadata": {},
   "outputs": [
    {
     "data": {
      "text/plain": [
       "Text(0, 0.5, 'Accuracy Rates')"
      ]
     },
     "execution_count": 91,
     "metadata": {},
     "output_type": "execute_result"
    },
    {
     "data": {
      "image/png": "[encoded data removed]",
      "text/plain": [
       "<Figure size 432x288 with 1 Axes>"
      ]
     },
     "metadata": {
      "needs_background": "light"
     },
     "output_type": "display_data"
    }
   ],
   "source": [
    "k=4\n",
    "plt.title(\"Category:Teknoloji\")\n",
    "plt.scatter(x,acc_all_with_uniform[k],c=\"b\")\n",
    "plt.scatter(sin_theta,acc_all_with_trigo[k],c='r')\n",
    "plt.plot(x,acc_all_with_uniform[k],c=\"b\")\n",
    "plt.plot(sin_theta,acc_all_with_trigo[k],c='r')\n",
    "plt.ylim(0, 1)\n",
    "plt.xlabel(\"alpha\")\n",
    "plt.ylabel(\"Accuracy Rates\")"
   ]
  }
 ],
 "metadata": {
  "kernelspec": {
   "display_name": "Python 3",
   "language": "python",
   "name": "python3"
  },
  "language_info": {
   "codemirror_mode": {
    "name": "ipython",
    "version": 3
   },
   "file_extension": ".py",
   "mimetype": "text/x-python",
   "name": "python",
   "nbconvert_exporter": "python",
   "pygments_lexer": "ipython3",
   "version": "3.7.6"
  }
 },
 "nbformat": 4,
 "nbformat_minor": 4
}
