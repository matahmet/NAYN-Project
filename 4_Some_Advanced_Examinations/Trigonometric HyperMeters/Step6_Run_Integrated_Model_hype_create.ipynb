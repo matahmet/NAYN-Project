{
 "cells": [
  {
   "cell_type": "code",
   "execution_count": 18,
   "metadata": {},
   "outputs": [
    {
     "name": "stdout",
     "output_type": "stream",
     "text": [
      "_________________hype1________________\n",
      "DÜNYA\n",
      "DÜNYA\n",
      "DÜNYA\n",
      "DÜNYA\n",
      "DÜNYA\n",
      "DÜNYA\n",
      "DÜNYA\n",
      "DÜNYA\n",
      "DÜNYA\n",
      "DÜNYA\n",
      "DÜNYA\n",
      "_________________hype2________________\n",
      "DÜNYA\n",
      "DÜNYA\n",
      "DÜNYA\n",
      "DÜNYA\n",
      "DÜNYA\n",
      "DÜNYA\n",
      "DÜNYA\n",
      "DÜNYA\n",
      "DÜNYA\n",
      "DÜNYA\n",
      "DÜNYA\n",
      "_________________hype3________________\n",
      "Teknoloji\n",
      "Teknoloji\n",
      "Teknoloji\n",
      "Teknoloji\n",
      "Teknoloji\n",
      "Teknoloji\n",
      "Teknoloji\n",
      "Teknoloji\n",
      "Teknoloji\n",
      "Teknoloji\n",
      "Teknoloji\n"
     ]
    }
   ],
   "source": [
    "#block 1st\n",
    "\n",
    "#import methods and datas in Predction Models with relevant objects\n",
    "%run ./Step4_Prediction_Models_hype.ipynb"
   ]
  },
  {
   "cell_type": "code",
   "execution_count": 3,
   "metadata": {},
   "outputs": [
    {
     "name": "stdout",
     "output_type": "stream",
     "text": [
      "model_integrated_hype1\n",
      "1729.0393648147583\n"
     ]
    }
   ],
   "source": [
    "#block 2nd\n",
    "\n",
    "hlist1=[[0,1],[0.1,0.9],[0.2,0.8],[0.3,0.7],[0.4,0.6],[0.5,0.5],[0.6,0.4],[0.7,0.3],[0.8,0.2],[0.9,0.1],[0,1]]\n",
    "#hlist1=[[0,1]]\n",
    "\n",
    "#agent method\n",
    "#for  X_test.apply() function\n",
    "def agent_Integrated_hype1(doc):\n",
    "    return Integrated_model_hype1(doc,X_train,y_train,hlist1)\n",
    "\n",
    "import time\n",
    "#model_integrated_ub procedure\n",
    "#start time\n",
    "start_time=time.time()\n",
    "\n",
    "\n",
    "\n",
    "\n",
    "#Apply integrated_ub method to X_test,y_test\n",
    "Integrated_prediction_hype1=X_test.apply(agent_Integrated_hype)\n",
    "\n",
    "#save integrated_ub method output\n",
    "\n",
    "Integrated_prediction_hype1.to_pickle(\"./Integrated_prediction_hype1_test57.pkl\")\n",
    "\n",
    "#show run-time\n",
    "print(\"model_integrated_hype1\")\n",
    "print(time.time()-start_time)\n",
    "\n",
    "\n",
    "\n"
   ]
  },
  {
   "cell_type": "code",
   "execution_count": 4,
   "metadata": {},
   "outputs": [
    {
     "data": {
      "text/plain": [
       "42308    [DÜNYA, DÜNYA, DÜNYA, DÜNYA, DÜNYA, DÜNYA, DÜN...\n",
       "19743    [DÜNYA, DÜNYA, DÜNYA, DÜNYA, DÜNYA, DÜNYA, Tek...\n",
       "26134    [SPOR, SPOR, SPOR, SPOR, SPOR, SPOR, SANAT, SA...\n",
       "36274    [SPOR, SPOR, SPOR, SPOR, SPOR, SPOR, DÜNYA, DÜ...\n",
       "39013    [Teknoloji, Teknoloji, Teknoloji, Teknoloji, T...\n",
       "                               ...                        \n",
       "19154    [DÜNYA, DÜNYA, DÜNYA, DÜNYA, DÜNYA, DÜNYA, DÜN...\n",
       "19512    [SPOR, SPOR, Teknoloji, Teknoloji, Teknoloji, ...\n",
       "23092    [SANAT, SANAT, SANAT, SANAT, SANAT, SANAT, SPO...\n",
       "17335    [SANAT, SANAT, SANAT, SANAT, SANAT, SANAT, SAN...\n",
       "22839    [DÜNYA, DÜNYA, DÜNYA, DÜNYA, DÜNYA, DÜNYA, Tek...\n",
       "Name: Title, Length: 2325, dtype: object"
      ]
     },
     "execution_count": 4,
     "metadata": {},
     "output_type": "execute_result"
    }
   ],
   "source": [
    "Integrated_prediction_hype1\n"
   ]
  },
  {
   "cell_type": "code",
   "execution_count": 4,
   "metadata": {},
   "outputs": [
    {
     "data": {
      "text/plain": [
       "[[0.0, 1.0],\n",
       " [0.0523, 0.9986],\n",
       " [0.1045, 0.9945],\n",
       " [0.1564, 0.9877],\n",
       " [0.2079, 0.9781],\n",
       " [0.2588, 0.9659],\n",
       " [0.309, 0.9511],\n",
       " [0.3584, 0.9336],\n",
       " [0.4067, 0.9135],\n",
       " [0.454, 0.891],\n",
       " [0.5, 0.866],\n",
       " [0.5446, 0.8387],\n",
       " [0.5878, 0.809],\n",
       " [0.6293, 0.7771],\n",
       " [0.6691, 0.7431],\n",
       " [0.7071, 0.7071],\n",
       " [0.7431, 0.6691],\n",
       " [0.7771, 0.6293],\n",
       " [0.809, 0.5878],\n",
       " [0.8387, 0.5446],\n",
       " [0.866, 0.5],\n",
       " [0.891, 0.454],\n",
       " [0.9135, 0.4067],\n",
       " [0.9336, 0.3584],\n",
       " [0.9511, 0.309],\n",
       " [0.9659, 0.2588],\n",
       " [0.9781, 0.2079],\n",
       " [0.9877, 0.1564],\n",
       " [0.9945, 0.1045],\n",
       " [0.9986, 0.0523],\n",
       " [1.0, 0.0017]]"
      ]
     },
     "execution_count": 4,
     "metadata": {},
     "output_type": "execute_result"
    }
   ],
   "source": [
    "#block 6th\n",
    "#that hyperparameter list is created as [sin(theta),cos(theta)] where 0 =< degree(theta) =< degree(theta) by 3 increment\n",
    "#and theta in radian scale.\n",
    "\n",
    "\n",
    "import math \n",
    "import numpy as np \n",
    "import matplotlib.pyplot as plt  \n",
    "\n",
    "#theta list\n",
    "theta = np.linspace(0, (np.pi)/2, 31) \n",
    "#but in order to compute tangent values of in_array, \n",
    "#last element is selected by 0.1 approximation near 90 degree pr (pi/2) radian\n",
    "theta[30]=(89.9*(np.pi))/180\n",
    "hlist5 = []\n",
    "#for visualization that will be required\n",
    "tangent=[]\n",
    "  \n",
    "for i in range(len(theta)):\n",
    "    #for theta\n",
    "    #print(round((in_array[i]*180)/(np.pi),3))\n",
    "    sin_value=round(math.sin(theta[i]),4)\n",
    "    cos_value=round(math.cos(theta[i]),4)\n",
    "    hlist5.append([sin_value,cos_value])\n",
    "    tangent.append(round(sin_value/cos_value,4)) \n",
    "    i += 1\n",
    "    \n",
    "hlist5"
   ]
  },
  {
   "cell_type": "code",
   "execution_count": 5,
   "metadata": {},
   "outputs": [
    {
     "data": {
      "text/plain": [
       "[0.0,\n",
       " 0.0524,\n",
       " 0.1051,\n",
       " 0.1583,\n",
       " 0.2126,\n",
       " 0.2679,\n",
       " 0.3249,\n",
       " 0.3839,\n",
       " 0.4452,\n",
       " 0.5095,\n",
       " 0.5774,\n",
       " 0.6493,\n",
       " 0.7266,\n",
       " 0.8098,\n",
       " 0.9004,\n",
       " 1.0,\n",
       " 1.1106,\n",
       " 1.2349,\n",
       " 1.3763,\n",
       " 1.54,\n",
       " 1.732,\n",
       " 1.9626,\n",
       " 2.2461,\n",
       " 2.6049,\n",
       " 3.078,\n",
       " 3.7322,\n",
       " 4.7047,\n",
       " 6.3152,\n",
       " 9.5167,\n",
       " 19.0937,\n",
       " 588.2353]"
      ]
     },
     "execution_count": 5,
     "metadata": {},
     "output_type": "execute_result"
    }
   ],
   "source": [
    "tangent"
   ]
  },
  {
   "cell_type": "code",
   "execution_count": null,
   "metadata": {},
   "outputs": [],
   "source": []
  }
 ],
 "metadata": {
  "kernelspec": {
   "display_name": "Python 3",
   "language": "python",
   "name": "python3"
  },
  "language_info": {
   "codemirror_mode": {
    "name": "ipython",
    "version": 3
   },
   "file_extension": ".py",
   "mimetype": "text/x-python",
   "name": "python",
   "nbconvert_exporter": "python",
   "pygments_lexer": "ipython3",
   "version": "3.7.6"
  }
 },
 "nbformat": 4,
 "nbformat_minor": 2
}
