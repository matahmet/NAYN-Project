{
 "cells": [
  {
   "cell_type": "code",
   "execution_count": 7,
   "metadata": {},
   "outputs": [],
   "source": [
    "#Reload the solutions\n",
    "import pickle\n",
    "\n",
    "#result test_y\n",
    "with open(\"y_test_57.pkl\", \"rb\") as fp:\n",
    "    True_Results= pickle.load(fp)\n",
    "    \n",
    "#predictions based on one stems (Uno-Based)\n",
    "\n",
    "with open(\"Integrated_prediction_ub_test57.pkl\", \"rb\") as fp:\n",
    "    Predicts_ub= pickle.load(fp)\n",
    "    \n",
    "#predictions based on combinaton of stems (Combination-Based)\n",
    "\n",
    "with open(\"Integrated_prediction_cb_test57.pkl\", \"rb\") as fp:\n",
    "    Predicts_cb= pickle.load(fp)\n",
    "    \n",
    "#predictions based on prediction model with hypermetre\n",
    "\n",
    "with open(\"Integrated_prediction_hype1_test57.pkl\", \"rb\") as fp:\n",
    "    Predicts_hype= pickle.load(fp)\n",
    "\n",
    "#predcitions by NAYN.com\n",
    "\n",
    "with open(\"NAYN_predicted_test57.pkl\", \"rb\") as fp:\n",
    "    Predicts_NAYN= pickle.load(fp)\n",
    "    \n",
    "    \n",
    "    \n",
    "   \n",
    "    \n"
   ]
  },
  {
   "cell_type": "code",
   "execution_count": 14,
   "metadata": {},
   "outputs": [],
   "source": [
    "# a function from result to prediction\n",
    "\n",
    "import pandas as pd\n",
    "def result_to_predict(result,j):\n",
    "    p=[]\n",
    "    for i in result:\n",
    "        p.append(i[j])\n",
    "        \n",
    "    predict=pd.Series(p,index=result.index)\n",
    "    return predict"
   ]
  },
  {
   "cell_type": "code",
   "execution_count": 23,
   "metadata": {},
   "outputs": [],
   "source": [
    "from sklearn.metrics import confusion_matrix,  accuracy_score\n",
    "\n",
    "def acc_sc_list(test,result):\n",
    "    n=len(result[result.index[0]])\n",
    "    output=[]\n",
    "    for i in range(0,n):\n",
    "        output.append(round(accuracy_score(test,result_to_predict(result,i)),4))\n",
    "        \n",
    "        \n",
    "    return output"
   ]
  },
  {
   "cell_type": "code",
   "execution_count": 36,
   "metadata": {},
   "outputs": [],
   "source": [
    "main_categories=[\"DÜNYA\",\"SPOR\",\"SANAT\",\"Teknoloji\"]\n",
    "\n",
    "acc_score_ub=acc_sc_list(True_Results,Predicts_ub)\n",
    "\n",
    "\n",
    "acc_all_with_ub=[acc_score_ub]\n",
    "\n",
    "for category in main_categories:\n",
    "    cat_ind=True_Results[True_Results==category].index\n",
    "    cat_test_y=True_Results[cat_ind]\n",
    "    cat_results=Predicts_ub[cat_ind]\n",
    "    acc_all_with_ub.append(acc_sc_list(cat_test_y,cat_results))\n",
    "    \n",
    "\n",
    "\n",
    "\n"
   ]
  },
  {
   "cell_type": "code",
   "execution_count": 37,
   "metadata": {},
   "outputs": [
    {
     "data": {
      "text/plain": [
       "[[0.7927, 0.6727, 0.8366, 0.8938, 0.5535],\n",
       " [0.8192, 0.6455, 0.9978, 0.9902, 0.5228],\n",
       " [0.782, 0.7995, 0.2682, 0.614, 0.6892],\n",
       " [0.375, 0.6964, 0.0, 0.1607, 0.5893],\n",
       " [0.0357, 0.6071, 0.0, 0.0, 0.5714]]"
      ]
     },
     "execution_count": 37,
     "metadata": {},
     "output_type": "execute_result"
    }
   ],
   "source": [
    "acc_all_with_ub"
   ]
  },
  {
   "cell_type": "code",
   "execution_count": 39,
   "metadata": {},
   "outputs": [],
   "source": [
    "acc_score_cb=acc_sc_list(True_Results,Predicts_cb)\n",
    "\n",
    "\n",
    "acc_all_with_cb=[acc_score_cb]\n",
    "\n",
    "for category in main_categories:\n",
    "    cat_ind=True_Results[True_Results==category].index\n",
    "    cat_test_y=True_Results[cat_ind]\n",
    "    cat_results=Predicts_cb[cat_ind]\n",
    "    acc_all_with_cb.append(acc_sc_list(cat_test_y,cat_results))"
   ]
  },
  {
   "cell_type": "code",
   "execution_count": 40,
   "metadata": {},
   "outputs": [
    {
     "data": {
      "text/plain": [
       "[[0.6069, 0.7153, 0.8503, 0.8211, 0.5763],\n",
       " [0.6536, 0.6982, 0.9528, 0.9799, 0.5304],\n",
       " [0.4561, 0.812, 0.5363, 0.2556, 0.7719],\n",
       " [0.4107, 0.7321, 0.1429, 0.0357, 0.7143],\n",
       " [0.0714, 0.4286, 0.0, 0.0, 0.5357]]"
      ]
     },
     "execution_count": 40,
     "metadata": {},
     "output_type": "execute_result"
    }
   ],
   "source": [
    "acc_all_with_cb"
   ]
  },
  {
   "cell_type": "code",
   "execution_count": 52,
   "metadata": {},
   "outputs": [],
   "source": [
    "tr=True_Results\n",
    "pN=Predicts_NAYN\n",
    "Nayn_All=round(accuracy_score(tr,pN),4)\n",
    "DUNYA_index=tr[tr==main_categories[0]].index\n",
    "Nayn_DUNYA=round(accuracy_score(tr[DUNYA_index],pN[DUNYA_index]),4)\n",
    "\n",
    "DUNYA_index=tr[tr==main_categories[0]].index\n",
    "Nayn_DUNYA=round(accuracy_score(tr[DUNYA_index],pN[DUNYA_index]),4)\n"
   ]
  },
  {
   "cell_type": "code",
   "execution_count": 51,
   "metadata": {},
   "outputs": [
    {
     "data": {
      "text/plain": [
       "Int64Index([42308, 19743, 26134, 36274, 39013, 38035, 37518, 27047, 37017,\n",
       "            20660,\n",
       "            ...\n",
       "            31093, 14875, 31709, 24263, 39970, 19154, 19512, 23092, 17335,\n",
       "            22839],\n",
       "           dtype='int64', length=1842)"
      ]
     },
     "execution_count": 51,
     "metadata": {},
     "output_type": "execute_result"
    }
   ],
   "source": [
    "tr[tr==main_categories[0]].index"
   ]
  },
  {
   "cell_type": "code",
   "execution_count": 25,
   "metadata": {},
   "outputs": [
    {
     "data": {
      "text/plain": [
       "[[0.5256,\n",
       "  0.5282,\n",
       "  0.5346,\n",
       "  0.5424,\n",
       "  0.5424,\n",
       "  0.5535,\n",
       "  0.5617,\n",
       "  0.5677,\n",
       "  0.5712,\n",
       "  0.6125,\n",
       "  0.5256],\n",
       " [0.5185,\n",
       "  0.5174,\n",
       "  0.5201,\n",
       "  0.5195,\n",
       "  0.513,\n",
       "  0.5228,\n",
       "  0.5223,\n",
       "  0.5168,\n",
       "  0.5125,\n",
       "  0.5662,\n",
       "  0.5185],\n",
       " [0.5664,\n",
       "  0.5865,\n",
       "  0.609,\n",
       "  0.6441,\n",
       "  0.6692,\n",
       "  0.6892,\n",
       "  0.7419,\n",
       "  0.782,\n",
       "  0.8095,\n",
       "  0.817,\n",
       "  0.5664],\n",
       " [0.5536,\n",
       "  0.5536,\n",
       "  0.5714,\n",
       "  0.5893,\n",
       "  0.5893,\n",
       "  0.5893,\n",
       "  0.5714,\n",
       "  0.6607,\n",
       "  0.7321,\n",
       "  0.6429,\n",
       "  0.5536],\n",
       " [0.3571,\n",
       "  0.3571,\n",
       "  0.3571,\n",
       "  0.5,\n",
       "  0.5714,\n",
       "  0.5714,\n",
       "  0.5714,\n",
       "  0.6786,\n",
       "  0.7143,\n",
       "  0.6786,\n",
       "  0.3571]]"
      ]
     },
     "execution_count": 25,
     "metadata": {},
     "output_type": "execute_result"
    }
   ],
   "source": [
    "acc_all_with_hype"
   ]
  },
  {
   "cell_type": "code",
   "execution_count": 38,
   "metadata": {},
   "outputs": [
    {
     "data": {
      "image/png": "[encoded data removed]",
      "text/plain": [
       "<Figure size 432x288 with 1 Axes>"
      ]
     },
     "metadata": {
      "needs_background": "light"
     },
     "output_type": "display_data"
    }
   ],
   "source": [
    "import numpy as np\n",
    "import matplotlib.pyplot as plt\n",
    "x=[ round(i*0.1,1) for i in range(0,11) ]\n",
    "\n",
    "plt.plot(x, acc_all_with_hype[0],label = \"Hype\")\n",
    "plt.scatter(x, acc_all_with_hype[0])\n",
    "\n",
    "plt.axhline(y=acc_all_with_ub[0][0],color='r', linestyle='-',label = \"ub1\")\n",
    "plt.axhline(y=acc_all_with_ub[1][0],color='b', linestyle='-',label = \"ub2\")\n",
    "plt.axhline(y=acc_all_with_ub[2][0],color='g', linestyle='-',label = \"ub3\")\n",
    "plt.axhline(y=acc_all_with_ub[3][0],color='c', linestyle='-',label = \"ub4\")\n",
    "plt.axhline(y=acc_all_with_ub[4][0],color='y', linestyle='-',label = \"ub5\")\n",
    "\n",
    "plt.xlabel(\"alpha\")\n",
    "plt.ylabel(\"Accuracy Rates\")\n",
    "\n",
    "plt.legend()\n",
    "plt.show()"
   ]
  },
  {
   "cell_type": "code",
   "execution_count": 41,
   "metadata": {},
   "outputs": [
    {
     "data": {
      "image/png": "[encoded data removed]",
      "text/plain": [
       "<Figure size 432x288 with 1 Axes>"
      ]
     },
     "metadata": {
      "needs_background": "light"
     },
     "output_type": "display_data"
    }
   ],
   "source": [
    "import numpy as np\n",
    "import matplotlib.pyplot as plt\n",
    "x=[ round(i*0.1,1) for i in range(0,11) ]\n",
    "\n",
    "plt.plot(x, acc_all_with_hype[0],label = \"Hype\")\n",
    "plt.scatter(x, acc_all_with_hype[0])\n",
    "\n",
    "plt.axhline(y=acc_all_with_cb[0][0],color='r', linestyle='-',label = \"cb1\")\n",
    "plt.axhline(y=acc_all_with_cb[1][0],color='b', linestyle='-',label = \"cb2\")\n",
    "plt.axhline(y=acc_all_with_cb[2][0],color='g', linestyle='-',label = \"cb3\")\n",
    "plt.axhline(y=acc_all_with_cb[3][0],color='c', linestyle='-',label = \"cb4\")\n",
    "plt.axhline(y=acc_all_with_cb[4][0],color='y', linestyle='-',label = \"cb5\")\n",
    "\n",
    "plt.xlabel(\"alpha\")\n",
    "plt.ylabel(\"Accuracy Rates\")\n",
    "\n",
    "plt.legend()\n",
    "plt.show()"
   ]
  },
  {
   "cell_type": "code",
   "execution_count": null,
   "metadata": {},
   "outputs": [],
   "source": []
  }
 ],
 "metadata": {
  "kernelspec": {
   "display_name": "Python 3",
   "language": "python",
   "name": "python3"
  },
  "language_info": {
   "codemirror_mode": {
    "name": "ipython",
    "version": 3
   },
   "file_extension": ".py",
   "mimetype": "text/x-python",
   "name": "python",
   "nbconvert_exporter": "python",
   "pygments_lexer": "ipython3",
   "version": "3.7.6"
  }
 },
 "nbformat": 4,
 "nbformat_minor": 4
}
