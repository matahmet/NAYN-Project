{
 "cells": [
  {
   "cell_type": "code",
   "execution_count": 2,
   "metadata": {},
   "outputs": [],
   "source": [
    "#block 1st\n",
    "\n",
    "#import Predction Models with relevant objects\n",
    "%run ./Step4_Prediction_Models_ub.ipynb"
   ]
  },
  {
   "cell_type": "code",
   "execution_count": 3,
   "metadata": {},
   "outputs": [],
   "source": [
    "#block 2nd\n",
    "#Load data y_tests from samples with random_state 17-107 by 10 (or samples 1-10) \n",
    "\n",
    "X_train, X_test, y_train, y_test17 = train_test_split(tackled_data['Title'],tackled_data['Categories'],test_size=0.2,random_state=17)\n",
    "\n",
    "X_train, X_test, y_train, y_test27 = train_test_split(tackled_data['Title'],tackled_data['Categories'],test_size=0.2,random_state=27)\n",
    "\n",
    "X_train, X_test, y_train, y_test37 = train_test_split(tackled_data['Title'],tackled_data['Categories'],test_size=0.2,random_state=37)\n",
    "\n",
    "X_train, X_test, y_train, y_test47 = train_test_split(tackled_data['Title'],tackled_data['Categories'],test_size=0.2,random_state=47)\n",
    "\n",
    "X_train, X_test, y_train, y_test57 = train_test_split(tackled_data['Title'],tackled_data['Categories'],test_size=0.2,random_state=57)\n",
    "\n",
    "X_train, X_test, y_train, y_test67 = train_test_split(tackled_data['Title'],tackled_data['Categories'],test_size=0.2,random_state=67)\n",
    "\n",
    "X_train, X_test, y_train, y_test77 = train_test_split(tackled_data['Title'],tackled_data['Categories'],test_size=0.2,random_state=77)\n",
    "\n",
    "X_train, X_test, y_train, y_test87 = train_test_split(tackled_data['Title'],tackled_data['Categories'],test_size=0.2,random_state=87)\n",
    "\n",
    "X_train, X_test, y_train, y_test97 = train_test_split(tackled_data['Title'],tackled_data['Categories'],test_size=0.2,random_state=67)\n",
    "\n",
    "X_train, X_test, y_train, y_test107 = train_test_split(tackled_data['Title'],tackled_data['Categories'],test_size=0.2,random_state=77)\n",
    "\n",
    "\n",
    "\n",
    "\n",
    "\n",
    "\n",
    "#load Integrated_prediction_ub random state 17-107 (or samples 1-10) \n",
    "import pickle\n",
    "\n",
    "with open(\"Integrated_prediction_ub_test17.pkl\", \"rb\") as fp:\n",
    "    Results17= pickle.load(fp)\n",
    "\n",
    "with open(\"Integrated_prediction_ub_test27.pkl\", \"rb\") as fp:\n",
    "    Results27= pickle.load(fp)\n",
    "\n",
    "with open(\"Integrated_prediction_ub_test37.pkl\", \"rb\") as fp:\n",
    "    Results37= pickle.load(fp)\n",
    "\n",
    "with open(\"Integrated_prediction_ub_test47.pkl\", \"rb\") as fp:\n",
    "    Results47= pickle.load(fp)\n",
    "    \n",
    "with open(\"Integrated_prediction_ub_test57.pkl\", \"rb\") as fp:\n",
    "    Results57= pickle.load(fp)\n",
    "\n",
    "with open(\"Integrated_prediction_ub_test67.pkl\", \"rb\") as fp:\n",
    "    Results67= pickle.load(fp)\n",
    "\n",
    "with open(\"Integrated_prediction_ub_test77.pkl\", \"rb\") as fp:\n",
    "    Results77= pickle.load(fp)\n",
    "\n",
    "with open(\"Integrated_prediction_ub_test87.pkl\", \"rb\") as fp:\n",
    "    Results87= pickle.load(fp)\n",
    "    \n",
    "with open(\"Integrated_prediction_ub_test97.pkl\", \"rb\") as fp:\n",
    "    Results97= pickle.load(fp)\n",
    "\n",
    "with open(\"Integrated_prediction_ub_test107.pkl\", \"rb\") as fp:\n",
    "    Results107= pickle.load(fp)\n",
    "\n",
    "\n",
    "\n",
    "\n"
   ]
  },
  {
   "cell_type": "code",
   "execution_count": 4,
   "metadata": {},
   "outputs": [
    {
     "data": {
      "text/plain": [
       "[[1.0, 0.216, 0.203, 0.192, 0.197, 0.202, 0.191, 0.198, 0.202, 0.191],\n",
       " [0.216, 1.0, 0.202, 0.2, 0.204, 0.209, 0.205, 0.214, 0.209, 0.205],\n",
       " [0.203, 0.202, 1.0, 0.193, 0.211, 0.194, 0.195, 0.203, 0.194, 0.195],\n",
       " [0.192, 0.2, 0.193, 1.0, 0.195, 0.2, 0.198, 0.191, 0.2, 0.198],\n",
       " [0.197, 0.204, 0.211, 0.195, 1.0, 0.199, 0.206, 0.207, 0.199, 0.206],\n",
       " [0.202, 0.209, 0.194, 0.2, 0.199, 1.0, 0.202, 0.186, 1.0, 0.202],\n",
       " [0.191, 0.205, 0.195, 0.198, 0.206, 0.202, 1.0, 0.199, 0.202, 1.0],\n",
       " [0.198, 0.214, 0.203, 0.191, 0.207, 0.186, 0.199, 1.0, 0.186, 0.199],\n",
       " [0.202, 0.209, 0.194, 0.2, 0.199, 1.0, 0.202, 0.186, 1.0, 0.202],\n",
       " [0.191, 0.205, 0.195, 0.198, 0.206, 0.202, 1.0, 0.199, 0.202, 1.0]]"
      ]
     },
     "execution_count": 4,
     "metadata": {},
     "output_type": "execute_result"
    }
   ],
   "source": [
    "#block 3rd\n",
    "\n",
    "#pairly intersection rate of samples\n",
    "samples=[ set(y_test17.index),set(y_test27.index),set(y_test37.index),set(y_test47.index),set(y_test57.index),set(y_test67.index),set(y_test77.index),set(y_test87.index),set(y_test97.index),set(y_test107.index)]\n",
    "overlapping=[[],[],[],[],[],[],[],[],[],[]]\n",
    "for i in range(0,10):\n",
    "    for j in range(0,10):\n",
    "        value1=len(samples[i].intersection(samples[j]))/len(samples[i])\n",
    "        value2=round(value1,3)\n",
    "        overlapping[i].append(value2) \n",
    "\n",
    "overlapping\n",
    "\n",
    "\n"
   ]
  },
  {
   "cell_type": "code",
   "execution_count": 4,
   "metadata": {},
   "outputs": [],
   "source": [
    "#block 4th\n",
    "\n",
    "#some examples for intersections of samples\n",
    "#len(samples[0].intersection(samples[1],samples[2],samples[3],samples[4]))\n",
    "#len(samples[0].intersection(samples[1],samples[2],samples[3]))\n",
    "#len(samples[0].intersection(samples[1],samples[2]))\n",
    "#len(samples[0].intersection(samples[4]))\n",
    "#len(samples[0].difference(samples[0],samples[2],samples[3],samples[4]))\n"
   ]
  },
  {
   "cell_type": "code",
   "execution_count": 5,
   "metadata": {},
   "outputs": [],
   "source": [
    "#block 4th\n",
    "#GResults: set of prediction model 1-5 over samples with random state=17 to 107 by 10\n",
    "\n",
    "GResults=[Results17,Results27,Results37,Results47,Results57,Results67,Results77,Results87,Results97,Results107]\n",
    "Test=[y_test17,y_test27,y_test37,y_test47,y_test57,y_test67,y_test77,y_test87,y_test97,y_test107]\n",
    "\n"
   ]
  },
  {
   "cell_type": "code",
   "execution_count": 6,
   "metadata": {},
   "outputs": [],
   "source": [
    "#block 5th\n",
    "#acc_sc method gets accuracy scores of result (5 prediction in list)\n",
    "\n",
    "from sklearn.metrics import confusion_matrix,  accuracy_score\n",
    "def acc_sc(test,result):\n",
    "    p1=[]\n",
    "    p2=[]\n",
    "    p3=[]\n",
    "    p4=[]\n",
    "    p5=[]\n",
    "    #push the prediction into the list\n",
    "    for i in result:\n",
    "        p1.append(i[0])\n",
    "        p2.append(i[1])\n",
    "        p3.append(i[2])\n",
    "        p4.append(i[3])\n",
    "        p5.append(i[4])\n",
    "\n",
    "    #convert lists to panda series with index of test set\n",
    "    predict1=pd.Series(p1,index=result.index) \n",
    "    predict2=pd.Series(p2,index=result.index) \n",
    "    predict3=pd.Series(p3,index=result.index) \n",
    "    predict4=pd.Series(p4,index=result.index) \n",
    "    predict5=pd.Series(p5,index=result.index)\n",
    "    \n",
    "    #set predictions to the list\n",
    "    predict_list=[predict1,predict2,predict3,predict4,predict5]\n",
    "    output=[]\n",
    "    for i in predict_list:\n",
    "        output.append(round(accuracy_score(test,i),3))\n",
    "        \n",
    "    return output\n",
    "    "
   ]
  },
  {
   "cell_type": "code",
   "execution_count": 7,
   "metadata": {},
   "outputs": [
    {
     "data": {
      "text/plain": [
       "[[0.808, 0.693, 0.84, 0.889, 0.582],\n",
       " [0.807, 0.669, 0.844, 0.903, 0.547],\n",
       " [0.791, 0.669, 0.828, 0.887, 0.512],\n",
       " [0.769, 0.698, 0.843, 0.889, 0.548],\n",
       " [0.793, 0.673, 0.837, 0.894, 0.554],\n",
       " [0.802, 0.645, 0.838, 0.887, 0.551],\n",
       " [0.8, 0.68, 0.845, 0.891, 0.556],\n",
       " [0.8, 0.655, 0.853, 0.898, 0.527],\n",
       " [0.613, 0.469, 0.757, 0.717, 0.405],\n",
       " [0.631, 0.478, 0.766, 0.72, 0.393]]"
      ]
     },
     "execution_count": 7,
     "metadata": {},
     "output_type": "execute_result"
    }
   ],
   "source": [
    "#block 6th\n",
    "#application of acc_sc to samples\n",
    "acc_list=[]\n",
    "for j in range(0,10):\n",
    "    acc_list.append(acc_sc(Test[j],GResults[j]))\n",
    "    \n",
    "#results for each sample\n",
    "acc_list"
   ]
  },
  {
   "cell_type": "code",
   "execution_count": 14,
   "metadata": {},
   "outputs": [],
   "source": [
    "#block 7th\n",
    "#distribution of categories for each sample\n",
    "#unbalanced sample can give rise to biased prediction.\n",
    "def rate_categories(test):\n",
    "    test_list=list(test)\n",
    "    output=[]\n",
    "    for i in range(0,4):\n",
    "        output.append(test_list.count(main_categories[i]))\n",
    "        \n",
    "    sumRow=sum(output)   \n",
    "    for i in range(0,4):\n",
    "        output[i]=round(output[i]/sumRow,3)\n",
    "        \n",
    "    return output\n",
    "\n",
    "    #for i in range(0,5):\n",
    "        #rate_list[j][i]=rate_list[j][i]/sumRow\n",
    "    \n",
    "    \n",
    "    "
   ]
  },
  {
   "cell_type": "code",
   "execution_count": 17,
   "metadata": {},
   "outputs": [
    {
     "data": {
      "text/plain": [
       "[[0.791, 0.167, 0.029, 0.013],\n",
       " [0.798, 0.166, 0.025, 0.012],\n",
       " [0.783, 0.181, 0.023, 0.013],\n",
       " [0.794, 0.169, 0.024, 0.013],\n",
       " [0.792, 0.172, 0.024, 0.012],\n",
       " [0.793, 0.175, 0.024, 0.009],\n",
       " [0.797, 0.172, 0.022, 0.01],\n",
       " [0.809, 0.159, 0.022, 0.01],\n",
       " [0.793, 0.175, 0.024, 0.009],\n",
       " [0.797, 0.172, 0.022, 0.01]]"
      ]
     },
     "execution_count": 17,
     "metadata": {},
     "output_type": "execute_result"
    }
   ],
   "source": [
    "#block 8th\n",
    "#application of rate_categories to samples\n",
    "rate_list=[]\n",
    "for j in range(0,10):\n",
    "    rate_list.append(rate_categories(Test[j]))\n",
    "\n",
    "#results for each sample    \n",
    "rate_list\n",
    "\n",
    "\n"
   ]
  },
  {
   "cell_type": "code",
   "execution_count": 18,
   "metadata": {},
   "outputs": [],
   "source": [
    "#block 9th\n",
    "#A chi-square test for independence of paired rows\n",
    "from scipy.stats import chi2\n",
    "def chisquare_test(list1,list2,alpha):\n",
    "    #preparation for parameters\n",
    "    n=len(list1)\n",
    "    #sum of all values\n",
    "    N=sum(list1)+sum(list2)\n",
    "    #Actual values\n",
    "    A=[list1,list2]\n",
    "    #initialization of sum of rows\n",
    "    R=[0,0]\n",
    "    #initialization of sum of columns\n",
    "    C=[0]*n\n",
    "    #sum of rows\n",
    "    R[0]=sum(list1)\n",
    "    R[1]=sum(list2)\n",
    "    #sum of columns\n",
    "    for j in range(0,n):\n",
    "        C[j]=list1[j]+list2[j]\n",
    "    #initialization expected values\n",
    "    E=[[0]*n,[0]*n]\n",
    "    #expected values\n",
    "    for i in range(0,2):\n",
    "        for j in range(0,n):\n",
    "            E[i][j]=(R[i]*C[j])/N\n",
    "    #computing chi-square parameter\n",
    "    param=0        \n",
    "    for i in range(0,2):\n",
    "        for j in range(0,n):\n",
    "            param=param+((A[i][j]-E[i][j])**2)/E[i][j]\n",
    "    #critical value from chi-square table for alpha and degree of freedom (df)\n",
    "    critical_value=chi2.ppf(q=1-alpha, df=(n-1)*(2-1))\n",
    "    #if there is no indepedence between two rows\n",
    "    result=\"H0\"\n",
    "    #our data do not statistically support the claim that there is indepedence between two rows\n",
    "    if param>critical_value:\n",
    "        result=\"H1\"\n",
    "    \n",
    "    return [round(param,4),round(critical_value,4),result]\n",
    "    \n",
    "    \n",
    "    \n",
    "    \n"
   ]
  },
  {
   "cell_type": "code",
   "execution_count": 19,
   "metadata": {},
   "outputs": [],
   "source": [
    "#block 10th\n",
    "#chisquared_row method giving result of chi-square independence test of sample having index with other samples\n",
    "def chisquared_row(data_list,index,alpha):\n",
    "    n=len(data_list)\n",
    "    \n",
    "    output=[]\n",
    "    for i in range(0,n):\n",
    "        output.append(chisquare_test(data_list[index],data_list[i],alpha)[0])\n",
    "    \n",
    "    return output \n",
    "\n",
    "\n",
    "\n"
   ]
  },
  {
   "cell_type": "code",
   "execution_count": 20,
   "metadata": {},
   "outputs": [
    {
     "data": {
      "text/plain": [
       "[0.0002, 7.8147, 'H0']"
      ]
     },
     "execution_count": 20,
     "metadata": {},
     "output_type": "execute_result"
    }
   ],
   "source": [
    "#block 11th\n",
    "#test for chisquare_test (sample 9 and sample 10)\n",
    "chisquare_test(rate_list[8],rate_list[9],0.05)\n",
    "    \n",
    "    "
   ]
  },
  {
   "cell_type": "code",
   "execution_count": 23,
   "metadata": {},
   "outputs": [
    {
     "data": {
      "text/plain": [
       "[0.0004, 0.0, 0.0009, 0.0001, 0.0001, 0.0007, 0.0005, 0.0006, 0.0007, 0.0005]"
      ]
     },
     "execution_count": 23,
     "metadata": {},
     "output_type": "execute_result"
    }
   ],
   "source": [
    "#block 12th\n",
    "#chisaure parameters of sample 2 (with random state 27) with other samples\n",
    "chisquared_row(rate_list,1,0.05)"
   ]
  },
  {
   "cell_type": "code",
   "execution_count": 24,
   "metadata": {},
   "outputs": [
    {
     "data": {
      "text/plain": [
       "[[0.0, 0.0014, 0.0031, 0.0015, 0.0007, 0.0015, 0.0006, 0.0032, 0.0178, 0.0195],\n",
       " [0.0014, 0.0, 0.0007, 0.0016, 0.0002, 0.0003, 0.0003, 0.0004, 0.0119, 0.0127],\n",
       " [0.0031, 0.0007, 0.0, 0.0018, 0.0012, 0.0018, 0.0012, 0.0006, 0.0123, 0.0122],\n",
       " [0.0015, 0.0016, 0.0018, 0.0, 0.0009, 0.0027, 0.0008, 0.0025, 0.0152, 0.0164],\n",
       " [0.0007, 0.0002, 0.0012, 0.0009, 0.0, 0.0006, 0.0001, 0.0011, 0.0133, 0.0145],\n",
       " [0.0015, 0.0003, 0.0018, 0.0027, 0.0006, 0.0, 0.0007, 0.0008, 0.0107, 0.0119],\n",
       " [0.0006, 0.0003, 0.0012, 0.0008, 0.0001, 0.0007, 0.0, 0.0011, 0.0134, 0.0145],\n",
       " [0.0032, 0.0004, 0.0006, 0.0025, 0.0011, 0.0008, 0.0011, 0.0, 0.0086, 0.0089],\n",
       " [0.0178, 0.0119, 0.0123, 0.0152, 0.0133, 0.0107, 0.0134, 0.0086, 0.0, 0.0005],\n",
       " [0.0195, 0.0127, 0.0122, 0.0164, 0.0145, 0.0119, 0.0145, 0.0089, 0.0005, 0.0]]"
      ]
     },
     "execution_count": 24,
     "metadata": {},
     "output_type": "execute_result"
    }
   ],
   "source": [
    "#block 13th\n",
    "#for independence of results of applications of methods 1-5  to samples 1-10\n",
    "data=acc_list\n",
    "n=len(acc_list)\n",
    "acc_chi_list=[]\n",
    "for i in range(0,n):\n",
    "    acc_chi_list.append(chisquared_row(data,i,0.05))\n",
    "\n",
    "acc_chi_list    \n",
    "#result: models 1-5 performs statistically same for all samples     \n"
   ]
  },
  {
   "cell_type": "code",
   "execution_count": 25,
   "metadata": {},
   "outputs": [
    {
     "data": {
      "text/plain": [
       "[[0.0, 0.0004, 0.0013, 0.0005, 0.0006, 0.0014, 0.0014, 0.0018, 0.0014, 0.0014],\n",
       " [0.0004, 0.0, 0.0009, 0.0001, 0.0001, 0.0007, 0.0005, 0.0006, 0.0007, 0.0005],\n",
       " [0.0013, 0.0009, 0.0, 0.0005, 0.0003, 0.0009, 0.0008, 0.0023, 0.0009, 0.0008],\n",
       " [0.0005, 0.0001, 0.0005, 0.0, 0.0001, 0.0008, 0.0005, 0.0009, 0.0008, 0.0005],\n",
       " [0.0006, 0.0001, 0.0003, 0.0001, 0.0, 0.0005, 0.0003, 0.001, 0.0005, 0.0003],\n",
       " [0.0014, 0.0007, 0.0009, 0.0008, 0.0005, 0.0, 0.0002, 0.0011, 0.0, 0.0002],\n",
       " [0.0014, 0.0005, 0.0008, 0.0005, 0.0003, 0.0002, 0.0, 0.0006, 0.0002, 0.0],\n",
       " [0.0018, 0.0006, 0.0023, 0.0009, 0.001, 0.0011, 0.0006, 0.0, 0.0011, 0.0006],\n",
       " [0.0014, 0.0007, 0.0009, 0.0008, 0.0005, 0.0, 0.0002, 0.0011, 0.0, 0.0002],\n",
       " [0.0014, 0.0005, 0.0008, 0.0005, 0.0003, 0.0002, 0.0, 0.0006, 0.0002, 0.0]]"
      ]
     },
     "execution_count": 25,
     "metadata": {},
     "output_type": "execute_result"
    }
   ],
   "source": [
    "#block 14th\n",
    "#for independence of distribution of categories in samples 1-10\n",
    "data=rate_list\n",
    "n=len(acc_list)\n",
    "rate_chi_list=[]\n",
    "for i in range(0,n):\n",
    "    rate_chi_list.append(chisquared_row(data,i,0.05))\n",
    "\n",
    "rate_chi_list\n",
    "#result: all samples have statistically same distribution of categories     "
   ]
  },
  {
   "cell_type": "code",
   "execution_count": 32,
   "metadata": {},
   "outputs": [
    {
     "name": "stdout",
     "output_type": "stream",
     "text": [
      "[0.42, 0.25, 0.01, 0.38, 0.08, -0.43, -0.41, -0.01, 0.6, 0.57]\n",
      "[0.2244, 0.4809, 0.971, 0.273, 0.8169, 0.2143, 0.2362, 0.9854, 0.0669, 0.0865]\n"
     ]
    }
   ],
   "source": [
    "#rate 15th\n",
    "#correlations of rows of acc_chi_list and rate_chi_list \n",
    "from scipy.stats import pearsonr\n",
    "n=len(acc_list)\n",
    "corr_list=[]\n",
    "p_list=[]\n",
    "for i in range(0,n):\n",
    "    corr, p_value = pearsonr(acc_chi_list[i], rate_chi_list[i])\n",
    "    corr_list.append(round(corr,2))\n",
    "    p_list.append(round(p_value,4))\n",
    "    \n",
    "#print(corr)\n",
    "#print(p_value)\n",
    "print(corr_list)\n",
    "print(p_list)\n",
    "\n",
    "\n",
    "#result: no correlation is statistically significant for distribution of categories and accuracy rate of samples\n"
   ]
  }
 ],
 "metadata": {
  "kernelspec": {
   "display_name": "Python 3",
   "language": "python",
   "name": "python3"
  },
  "language_info": {
   "codemirror_mode": {
    "name": "ipython",
    "version": 3
   },
   "file_extension": ".py",
   "mimetype": "text/x-python",
   "name": "python",
   "nbconvert_exporter": "python",
   "pygments_lexer": "ipython3",
   "version": "3.7.4"
  }
 },
 "nbformat": 4,
 "nbformat_minor": 2
}
